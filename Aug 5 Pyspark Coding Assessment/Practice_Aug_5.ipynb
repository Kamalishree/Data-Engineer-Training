{
  "nbformat": 4,
  "nbformat_minor": 0,
  "metadata": {
    "colab": {
      "provenance": []
    },
    "kernelspec": {
      "name": "python3",
      "display_name": "Python 3"
    },
    "language_info": {
      "name": "python"
    }
  },
  "cells": [
    {
      "cell_type": "code",
      "execution_count": null,
      "metadata": {
        "colab": {
          "base_uri": "https://localhost:8080/"
        },
        "id": "hUuKFHVqbamX",
        "outputId": "2e6f53f8-862e-4573-f51c-8094aad0e93b"
      },
      "outputs": [
        {
          "output_type": "execute_result",
          "data": {
            "text/plain": [
              "[1, 2, 3]"
            ]
          },
          "metadata": {},
          "execution_count": 1
        }
      ],
      "source": [
        "from pyspark.sql import SparkSession\n",
        "\n",
        "# Create a SparkSession\n",
        "spark = SparkSession.builder \\\n",
        "    .appName(\"RDDExamples\") \\\n",
        "    .master(\"local[*]\") \\\n",
        "    .getOrCreate()\n",
        "\n",
        "# Get the SparkContext from the SparkSession\n",
        "sc = spark.sparkContext\n",
        "\n",
        "# Create an RDD from a Python list\n",
        "nums = sc.parallelize([1, 2, 3, 4, 5])\n",
        "\n",
        "# You could also create an RDD from a text file\n",
        "# text_rdd = sc.textFile(\"/path/to/file.txt\")\n",
        "\n",
        "# Basic RDD operations\n",
        "nums.collect()  # => [1, 2, 3, 4, 5]\n",
        "nums.count()    # => 5\n",
        "nums.take(3)    # => [1, 2, 3]\n"
      ]
    },
    {
      "cell_type": "code",
      "source": [
        "from pyspark.sql import SparkSession\n",
        "\n",
        "# Initialize SparkSession\n",
        "spark = SparkSession.builder \\\n",
        "    .appName(\"EvenSquares\") \\\n",
        "    .master(\"local[*]\") \\\n",
        "    .getOrCreate()\n",
        "\n",
        "# Get the SparkContext\n",
        "sc = spark.sparkContext\n",
        "\n",
        "# Create an RDD from a list\n",
        "nums = sc.parallelize([1, 2, 3, 4])\n",
        "\n",
        "# Apply transformations (lazy)\n",
        "squares = nums.map(lambda x: x * x)\n",
        "even_squares = squares.filter(lambda x: x % 2 == 0)\n",
        "\n",
        "# Trigger action to collect results\n",
        "result = even_squares.collect()\n",
        "print(result)  # Output: [4, 16]\n"
      ],
      "metadata": {
        "colab": {
          "base_uri": "https://localhost:8080/"
        },
        "id": "bRjsbMyDikS5",
        "outputId": "082adba1-070e-4fed-96a8-c523a977421e"
      },
      "execution_count": 2,
      "outputs": [
        {
          "output_type": "stream",
          "name": "stdout",
          "text": [
            "[4, 16]\n"
          ]
        }
      ]
    },
    {
      "cell_type": "code",
      "source": [
        "lines = sc.parallelize([\n",
        "    \"spark makes big data simple\",\n",
        "    \"rdds are resilient distributed datasets\",\n",
        "    \"spark runs fast\"\n",
        "])\n",
        "\n",
        "word_counts = (lines\n",
        "    .flatMap(lambda line: line.split())\n",
        "    .map(lambda w: (w.lower(), 1)) # [(“spark”, 1), (“makes”, 1), (“big”, 1), ...]\n",
        "    .reduceByKey(lambda a, b: a + b) # [(“spark”, 2), (“makes”, 1), (“big”, 1), ...]\n",
        ")\n",
        "\n",
        "word_counts.take(10) # sample results"
      ],
      "metadata": {
        "colab": {
          "base_uri": "https://localhost:8080/"
        },
        "id": "YJnVwA3tmNCo",
        "outputId": "04a7da6a-3ded-47c4-8b9b-3051b8fefa77"
      },
      "execution_count": 3,
      "outputs": [
        {
          "output_type": "execute_result",
          "data": {
            "text/plain": [
              "[('big', 1),\n",
              " ('are', 1),\n",
              " ('resilient', 1),\n",
              " ('distributed', 1),\n",
              " ('datasets', 1),\n",
              " ('runs', 1),\n",
              " ('fast', 1),\n",
              " ('spark', 2),\n",
              " ('makes', 1),\n",
              " ('data', 1)]"
            ]
          },
          "metadata": {},
          "execution_count": 3
        }
      ]
    }
  ]
}