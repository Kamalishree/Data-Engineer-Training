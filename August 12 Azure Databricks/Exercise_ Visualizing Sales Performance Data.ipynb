{
 "cells": [
  {
   "cell_type": "code",
   "execution_count": 0,
   "metadata": {
    "application/vnd.databricks.v1+cell": {
     "cellMetadata": {
      "byteLimit": 2048000,
      "rowLimit": 10000
     },
     "inputWidgets": {},
     "nuid": "0518e905-6cc2-4f1c-9b4a-f778969a3b04",
     "showTitle": false,
     "tableResultSettingsMap": {},
     "title": ""
    }
   },
   "outputs": [
    {
     "output_type": "stream",
     "name": "stdout",
     "output_type": "stream",
     "text": [
      "First 10 rows:\n"
     ]
    },
    {
     "output_type": "display_data",
     "data": {
      "text/html": [
       "<style scoped>\n",
       "  .table-result-container {\n",
       "    max-height: 300px;\n",
       "    overflow: auto;\n",
       "  }\n",
       "  table, th, td {\n",
       "    border: 1px solid black;\n",
       "    border-collapse: collapse;\n",
       "  }\n",
       "  th, td {\n",
       "    padding: 5px;\n",
       "  }\n",
       "  th {\n",
       "    text-align: left;\n",
       "  }\n",
       "</style><div class='table-result-container'><table class='table-result'><thead style='background-color: white'><tr><th>order_id</th><th>region</th><th>category</th><th>quantity</th><th>price</th><th>order_date</th></tr></thead><tbody><tr><td>O001</td><td>South</td><td>Electronics</td><td>3</td><td>15000.0</td><td>2025-08-01</td></tr><tr><td>O002</td><td>North</td><td>Clothing</td><td>5</td><td>2000.0</td><td>2025-08-02</td></tr><tr><td>O003</td><td>East</td><td>Furniture</td><td>2</td><td>12000.0</td><td>2025-08-03</td></tr><tr><td>O004</td><td>West</td><td>Electronics</td><td>1</td><td>18000.0</td><td>2025-08-04</td></tr><tr><td>O005</td><td>North</td><td>Furniture</td><td>4</td><td>9000.0</td><td>2025-08-05</td></tr><tr><td>O006</td><td>South</td><td>Clothing</td><td>6</td><td>2500.0</td><td>2025-08-06</td></tr><tr><td>O007</td><td>East</td><td>Electronics</td><td>2</td><td>17000.0</td><td>2025-08-07</td></tr></tbody></table></div>"
      ]
     },
     "metadata": {
      "application/vnd.databricks.v1+output": {
       "addedWidgets": {},
       "aggData": [],
       "aggError": "",
       "aggOverflow": false,
       "aggSchema": [],
       "aggSeriesLimitReached": false,
       "aggType": "",
       "arguments": {},
       "columnCustomDisplayInfos": {},
       "data": [
        [
         "O001",
         "South",
         "Electronics",
         3,
         15000.0,
         "2025-08-01"
        ],
        [
         "O002",
         "North",
         "Clothing",
         5,
         2000.0,
         "2025-08-02"
        ],
        [
         "O003",
         "East",
         "Furniture",
         2,
         12000.0,
         "2025-08-03"
        ],
        [
         "O004",
         "West",
         "Electronics",
         1,
         18000.0,
         "2025-08-04"
        ],
        [
         "O005",
         "North",
         "Furniture",
         4,
         9000.0,
         "2025-08-05"
        ],
        [
         "O006",
         "South",
         "Clothing",
         6,
         2500.0,
         "2025-08-06"
        ],
        [
         "O007",
         "East",
         "Electronics",
         2,
         17000.0,
         "2025-08-07"
        ]
       ],
       "datasetInfos": [],
       "dbfsResultPath": null,
       "isJsonSchema": true,
       "metadata": {},
       "overflow": false,
       "plotOptions": {
        "customPlotOptions": {},
        "displayType": "table",
        "pivotAggregation": null,
        "pivotColumns": null,
        "xColumns": null,
        "yColumns": null
       },
       "removedWidgets": [],
       "schema": [
        {
         "metadata": "{}",
         "name": "order_id",
         "type": "\"string\""
        },
        {
         "metadata": "{}",
         "name": "region",
         "type": "\"string\""
        },
        {
         "metadata": "{}",
         "name": "category",
         "type": "\"string\""
        },
        {
         "metadata": "{}",
         "name": "quantity",
         "type": "\"integer\""
        },
        {
         "metadata": "{}",
         "name": "price",
         "type": "\"double\""
        },
        {
         "metadata": "{}",
         "name": "order_date",
         "type": "\"date\""
        }
       ],
       "type": "table"
      }
     },
     "output_type": "display_data"
    },
    {
     "output_type": "display_data",
     "data": {
      "text/html": [
       "<style scoped>\n",
       "  .table-result-container {\n",
       "    max-height: 300px;\n",
       "    overflow: auto;\n",
       "  }\n",
       "  table, th, td {\n",
       "    border: 1px solid black;\n",
       "    border-collapse: collapse;\n",
       "  }\n",
       "  th, td {\n",
       "    padding: 5px;\n",
       "  }\n",
       "  th {\n",
       "    text-align: left;\n",
       "  }\n",
       "</style><div class='table-result-container'><table class='table-result'><thead style='background-color: white'><tr><th>category</th><th>total_revenue</th></tr></thead><tbody><tr><td>Electronics</td><td>97000.0</td></tr><tr><td>Furniture</td><td>60000.0</td></tr><tr><td>Clothing</td><td>25000.0</td></tr></tbody></table></div>"
      ]
     },
     "metadata": {
      "application/vnd.databricks.v1+output": {
       "addedWidgets": {},
       "aggData": [],
       "aggError": "",
       "aggOverflow": false,
       "aggSchema": [],
       "aggSeriesLimitReached": false,
       "aggType": "",
       "arguments": {},
       "columnCustomDisplayInfos": {},
       "data": [
        [
         "Electronics",
         97000.0
        ],
        [
         "Furniture",
         60000.0
        ],
        [
         "Clothing",
         25000.0
        ]
       ],
       "datasetInfos": [],
       "dbfsResultPath": null,
       "isJsonSchema": true,
       "metadata": {},
       "overflow": false,
       "plotOptions": {
        "customPlotOptions": {},
        "displayType": "table",
        "pivotAggregation": null,
        "pivotColumns": null,
        "xColumns": null,
        "yColumns": null
       },
       "removedWidgets": [],
       "schema": [
        {
         "metadata": "{}",
         "name": "category",
         "type": "\"string\""
        },
        {
         "metadata": "{}",
         "name": "total_revenue",
         "type": "\"double\""
        }
       ],
       "type": "table"
      }
     },
     "output_type": "display_data"
    },
    {
     "output_type": "display_data",
     "data": {
      "text/html": [
       "<style scoped>\n",
       "  .table-result-container {\n",
       "    max-height: 300px;\n",
       "    overflow: auto;\n",
       "  }\n",
       "  table, th, td {\n",
       "    border: 1px solid black;\n",
       "    border-collapse: collapse;\n",
       "  }\n",
       "  th, td {\n",
       "    padding: 5px;\n",
       "  }\n",
       "  th {\n",
       "    text-align: left;\n",
       "  }\n",
       "</style><div class='table-result-container'><table class='table-result'><thead style='background-color: white'><tr><th>order_date</th><th>total_revenue</th></tr></thead><tbody><tr><td>2025-08-01</td><td>45000.0</td></tr><tr><td>2025-08-02</td><td>10000.0</td></tr><tr><td>2025-08-03</td><td>24000.0</td></tr><tr><td>2025-08-04</td><td>18000.0</td></tr><tr><td>2025-08-05</td><td>36000.0</td></tr><tr><td>2025-08-06</td><td>15000.0</td></tr><tr><td>2025-08-07</td><td>34000.0</td></tr></tbody></table></div>"
      ]
     },
     "metadata": {
      "application/vnd.databricks.v1+output": {
       "addedWidgets": {},
       "aggData": [],
       "aggError": "",
       "aggOverflow": false,
       "aggSchema": [],
       "aggSeriesLimitReached": false,
       "aggType": "",
       "arguments": {},
       "columnCustomDisplayInfos": {},
       "data": [
        [
         "2025-08-01",
         45000.0
        ],
        [
         "2025-08-02",
         10000.0
        ],
        [
         "2025-08-03",
         24000.0
        ],
        [
         "2025-08-04",
         18000.0
        ],
        [
         "2025-08-05",
         36000.0
        ],
        [
         "2025-08-06",
         15000.0
        ],
        [
         "2025-08-07",
         34000.0
        ]
       ],
       "datasetInfos": [],
       "dbfsResultPath": null,
       "isJsonSchema": true,
       "metadata": {},
       "overflow": false,
       "plotOptions": {
        "customPlotOptions": {},
        "displayType": "table",
        "pivotAggregation": null,
        "pivotColumns": null,
        "xColumns": null,
        "yColumns": null
       },
       "removedWidgets": [],
       "schema": [
        {
         "metadata": "{}",
         "name": "order_date",
         "type": "\"date\""
        },
        {
         "metadata": "{}",
         "name": "total_revenue",
         "type": "\"double\""
        }
       ],
       "type": "table"
      }
     },
     "output_type": "display_data"
    },
    {
     "output_type": "display_data",
     "data": {
      "text/html": [
       "<style scoped>\n",
       "  .table-result-container {\n",
       "    max-height: 300px;\n",
       "    overflow: auto;\n",
       "  }\n",
       "  table, th, td {\n",
       "    border: 1px solid black;\n",
       "    border-collapse: collapse;\n",
       "  }\n",
       "  th, td {\n",
       "    padding: 5px;\n",
       "  }\n",
       "  th {\n",
       "    text-align: left;\n",
       "  }\n",
       "</style><div class='table-result-container'><table class='table-result'><thead style='background-color: white'><tr><th>region</th><th>total_revenue</th></tr></thead><tbody><tr><td>South</td><td>60000.0</td></tr><tr><td>East</td><td>58000.0</td></tr><tr><td>North</td><td>46000.0</td></tr><tr><td>West</td><td>18000.0</td></tr></tbody></table></div>"
      ]
     },
     "metadata": {
      "application/vnd.databricks.v1+output": {
       "addedWidgets": {},
       "aggData": [],
       "aggError": "",
       "aggOverflow": false,
       "aggSchema": [],
       "aggSeriesLimitReached": false,
       "aggType": "",
       "arguments": {},
       "columnCustomDisplayInfos": {},
       "data": [
        [
         "South",
         60000.0
        ],
        [
         "East",
         58000.0
        ],
        [
         "North",
         46000.0
        ],
        [
         "West",
         18000.0
        ]
       ],
       "datasetInfos": [],
       "dbfsResultPath": null,
       "isJsonSchema": true,
       "metadata": {},
       "overflow": false,
       "plotOptions": {
        "customPlotOptions": {},
        "displayType": "table",
        "pivotAggregation": null,
        "pivotColumns": null,
        "xColumns": null,
        "yColumns": null
       },
       "removedWidgets": [],
       "schema": [
        {
         "metadata": "{}",
         "name": "region",
         "type": "\"string\""
        },
        {
         "metadata": "{}",
         "name": "total_revenue",
         "type": "\"double\""
        }
       ],
       "type": "table"
      }
     },
     "output_type": "display_data"
    },
    {
     "output_type": "display_data",
     "data": {
      "text/html": [
       "<style scoped>\n",
       "  .table-result-container {\n",
       "    max-height: 300px;\n",
       "    overflow: auto;\n",
       "  }\n",
       "  table, th, td {\n",
       "    border: 1px solid black;\n",
       "    border-collapse: collapse;\n",
       "  }\n",
       "  th, td {\n",
       "    padding: 5px;\n",
       "  }\n",
       "  th {\n",
       "    text-align: left;\n",
       "  }\n",
       "</style><div class='table-result-container'><table class='table-result'><thead style='background-color: white'><tr><th>region</th><th>Clothing</th><th>Electronics</th><th>Furniture</th></tr></thead><tbody><tr><td>East</td><td>0.0</td><td>2.0</td><td>2.0</td></tr><tr><td>North</td><td>5.0</td><td>0.0</td><td>4.0</td></tr><tr><td>South</td><td>6.0</td><td>3.0</td><td>0.0</td></tr><tr><td>West</td><td>0.0</td><td>1.0</td><td>0.0</td></tr></tbody></table></div>"
      ]
     },
     "metadata": {
      "application/vnd.databricks.v1+output": {
       "addedWidgets": {},
       "aggData": [],
       "aggError": "",
       "aggOverflow": false,
       "aggSchema": [],
       "aggSeriesLimitReached": false,
       "aggType": "",
       "arguments": {},
       "columnCustomDisplayInfos": {},
       "data": [
        [
         "East",
         0.0,
         2.0,
         2.0
        ],
        [
         "North",
         5.0,
         0.0,
         4.0
        ],
        [
         "South",
         6.0,
         3.0,
         0.0
        ],
        [
         "West",
         0.0,
         1.0,
         0.0
        ]
       ],
       "datasetInfos": [],
       "dbfsResultPath": null,
       "isJsonSchema": true,
       "metadata": {},
       "overflow": false,
       "plotOptions": {
        "customPlotOptions": {},
        "displayType": "table",
        "pivotAggregation": null,
        "pivotColumns": null,
        "xColumns": null,
        "yColumns": null
       },
       "removedWidgets": [],
       "schema": [
        {
         "metadata": "{}",
         "name": "region",
         "type": "\"string\""
        },
        {
         "metadata": "{}",
         "name": "Clothing",
         "type": "\"double\""
        },
        {
         "metadata": "{}",
         "name": "Electronics",
         "type": "\"double\""
        },
        {
         "metadata": "{}",
         "name": "Furniture",
         "type": "\"double\""
        }
       ],
       "type": "table"
      }
     },
     "output_type": "display_data"
    },
    {
     "output_type": "display_data",
     "data": {
      "text/html": [
       "<style scoped>\n",
       "  .table-result-container {\n",
       "    max-height: 300px;\n",
       "    overflow: auto;\n",
       "  }\n",
       "  table, th, td {\n",
       "    border: 1px solid black;\n",
       "    border-collapse: collapse;\n",
       "  }\n",
       "  th, td {\n",
       "    padding: 5px;\n",
       "  }\n",
       "  th {\n",
       "    text-align: left;\n",
       "  }\n",
       "</style><div class='table-result-container'><table class='table-result'><thead style='background-color: white'><tr><th>category</th><th>total_revenue</th></tr></thead><tbody><tr><td>Electronics</td><td>97000.0</td></tr><tr><td>Furniture</td><td>60000.0</td></tr><tr><td>Clothing</td><td>25000.0</td></tr></tbody></table></div>"
      ]
     },
     "metadata": {
      "application/vnd.databricks.v1+output": {
       "addedWidgets": {},
       "aggData": [],
       "aggError": "",
       "aggOverflow": false,
       "aggSchema": [],
       "aggSeriesLimitReached": false,
       "aggType": "",
       "arguments": {},
       "columnCustomDisplayInfos": {},
       "data": [
        [
         "Electronics",
         97000.0
        ],
        [
         "Furniture",
         60000.0
        ],
        [
         "Clothing",
         25000.0
        ]
       ],
       "datasetInfos": [],
       "dbfsResultPath": null,
       "isJsonSchema": true,
       "metadata": {},
       "overflow": false,
       "plotOptions": {
        "customPlotOptions": {},
        "displayType": "table",
        "pivotAggregation": null,
        "pivotColumns": null,
        "xColumns": null,
        "yColumns": null
       },
       "removedWidgets": [],
       "schema": [
        {
         "metadata": "{}",
         "name": "category",
         "type": "\"string\""
        },
        {
         "metadata": "{}",
         "name": "total_revenue",
         "type": "\"double\""
        }
       ],
       "type": "table"
      }
     },
     "output_type": "display_data"
    },
    {
     "output_type": "display_data",
     "data": {
      "text/html": [
       "<style scoped>\n",
       "  .table-result-container {\n",
       "    max-height: 300px;\n",
       "    overflow: auto;\n",
       "  }\n",
       "  table, th, td {\n",
       "    border: 1px solid black;\n",
       "    border-collapse: collapse;\n",
       "  }\n",
       "  th, td {\n",
       "    padding: 5px;\n",
       "  }\n",
       "  th {\n",
       "    text-align: left;\n",
       "  }\n",
       "</style><div class='table-result-container'><table class='table-result'><thead style='background-color: white'><tr><th>region</th><th>avg_order_value</th></tr></thead><tbody><tr><td>East</td><td>29000.0</td></tr><tr><td>North</td><td>23000.0</td></tr><tr><td>South</td><td>30000.0</td></tr><tr><td>West</td><td>18000.0</td></tr></tbody></table></div>"
      ]
     },
     "metadata": {
      "application/vnd.databricks.v1+output": {
       "addedWidgets": {},
       "aggData": [],
       "aggError": "",
       "aggOverflow": false,
       "aggSchema": [],
       "aggSeriesLimitReached": false,
       "aggType": "",
       "arguments": {},
       "columnCustomDisplayInfos": {},
       "data": [
        [
         "East",
         29000.0
        ],
        [
         "North",
         23000.0
        ],
        [
         "South",
         30000.0
        ],
        [
         "West",
         18000.0
        ]
       ],
       "datasetInfos": [],
       "dbfsResultPath": null,
       "isJsonSchema": true,
       "metadata": {},
       "overflow": false,
       "plotOptions": {
        "customPlotOptions": {},
        "displayType": "table",
        "pivotAggregation": null,
        "pivotColumns": null,
        "xColumns": null,
        "yColumns": null
       },
       "removedWidgets": [],
       "schema": [
        {
         "metadata": "{}",
         "name": "region",
         "type": "\"string\""
        },
        {
         "metadata": "{}",
         "name": "avg_order_value",
         "type": "\"double\""
        }
       ],
       "type": "table"
      }
     },
     "output_type": "display_data"
    },
    {
     "output_type": "display_data",
     "data": {
      "text/html": [
       "<style scoped>\n",
       "  .table-result-container {\n",
       "    max-height: 300px;\n",
       "    overflow: auto;\n",
       "  }\n",
       "  table, th, td {\n",
       "    border: 1px solid black;\n",
       "    border-collapse: collapse;\n",
       "  }\n",
       "  th, td {\n",
       "    padding: 5px;\n",
       "  }\n",
       "  th {\n",
       "    text-align: left;\n",
       "  }\n",
       "</style><div class='table-result-container'><table class='table-result'><thead style='background-color: white'><tr><th>region</th><th>Clothing</th><th>Electronics</th><th>Furniture</th></tr></thead><tbody><tr><td>East</td><td>0.0</td><td>34000.0</td><td>24000.0</td></tr><tr><td>North</td><td>10000.0</td><td>0.0</td><td>36000.0</td></tr><tr><td>South</td><td>15000.0</td><td>45000.0</td><td>0.0</td></tr><tr><td>West</td><td>0.0</td><td>18000.0</td><td>0.0</td></tr></tbody></table></div>"
      ]
     },
     "metadata": {
      "application/vnd.databricks.v1+output": {
       "addedWidgets": {},
       "aggData": [],
       "aggError": "",
       "aggOverflow": false,
       "aggSchema": [],
       "aggSeriesLimitReached": false,
       "aggType": "",
       "arguments": {},
       "columnCustomDisplayInfos": {},
       "data": [
        [
         "East",
         0.0,
         34000.0,
         24000.0
        ],
        [
         "North",
         10000.0,
         0.0,
         36000.0
        ],
        [
         "South",
         15000.0,
         45000.0,
         0.0
        ],
        [
         "West",
         0.0,
         18000.0,
         0.0
        ]
       ],
       "datasetInfos": [],
       "dbfsResultPath": null,
       "isJsonSchema": true,
       "metadata": {},
       "overflow": false,
       "plotOptions": {
        "customPlotOptions": {},
        "displayType": "table",
        "pivotAggregation": null,
        "pivotColumns": null,
        "xColumns": null,
        "yColumns": null
       },
       "removedWidgets": [],
       "schema": [
        {
         "metadata": "{}",
         "name": "region",
         "type": "\"string\""
        },
        {
         "metadata": "{}",
         "name": "Clothing",
         "type": "\"double\""
        },
        {
         "metadata": "{}",
         "name": "Electronics",
         "type": "\"double\""
        },
        {
         "metadata": "{}",
         "name": "Furniture",
         "type": "\"double\""
        }
       ],
       "type": "table"
      }
     },
     "output_type": "display_data"
    },
    {
     "output_type": "stream",
     "name": "stdout",
     "output_type": "stream",
     "text": [
      "Saved visualization files:\n- /dbfs/FileStore/tables/sales_viz/avg_order_value_by_region.png\n- /dbfs/FileStore/tables/sales_viz/bar_revenue_by_category.png\n- /dbfs/FileStore/tables/sales_viz/discounted_vs_original_by_category.png\n- /dbfs/FileStore/tables/sales_viz/heatmap_revenue_region_category.png\n- /dbfs/FileStore/tables/sales_viz/line_revenue_trend.png\n- /dbfs/FileStore/tables/sales_viz/pie_revenue_by_region.png\n- /dbfs/FileStore/tables/sales_viz/scatter_qty_vs_price.png\n- /dbfs/FileStore/tables/sales_viz/stacked_qty_by_category_region.png\n- /dbfs/FileStore/tables/sales_viz/top5_products_horizontal.png\n\nAll tasks completed. PNG files are available in /dbfs/FileStore/tables/sales_viz/\n"
     ]
    }
   ],
   "source": [
    "\n",
    "from pyspark.sql import SparkSession\n",
    "from pyspark.sql.types import (\n",
    "    StructType, StructField, StringType, IntegerType, DoubleType, DateType\n",
    ")\n",
    "from pyspark.sql.functions import col, sum as _sum, avg, when, to_date\n",
    "import pandas as pd\n",
    "import matplotlib.pyplot as plt\n",
    "import numpy as np\n",
    "import os\n",
    "\n",
    "spark = SparkSession.builder.getOrCreate()\n",
    "\n",
    "# --- Configuration ---\n",
    "# If you uploaded sales_orders.csv to Databricks, set csv_path accordingly.\n",
    "# Common upload path: /FileStore/tables/sales_orders.csv\n",
    "csv_path = \"/FileStore/tables/sales_orders.csv\"\n",
    "output_dir = \"/dbfs/FileStore/tables/sales_viz/\"\n",
    "os.makedirs(output_dir, exist_ok=True)\n",
    "\n",
    "# --- 1. Load dataset into a PySpark DataFrame and display first 10 rows ---\n",
    "# Define schema (order_date loaded as string then converted)\n",
    "schema = StructType([\n",
    "    StructField(\"order_id\", StringType(), True),\n",
    "    StructField(\"region\", StringType(), True),\n",
    "    StructField(\"category\", StringType(), True),\n",
    "    StructField(\"quantity\", IntegerType(), True),\n",
    "    StructField(\"price\", DoubleType(), True),\n",
    "    StructField(\"order_date\", StringType(), True)   # load as string then convert\n",
    "])\n",
    "\n",
    "# Try reading CSV if it exists; otherwise use inline sample data\n",
    "df = None\n",
    "try:\n",
    "    # check if file exists in DBFS\n",
    "    _ = spark.read.csv(csv_path, header=True, inferSchema=True).limit(1).collect()\n",
    "    df = spark.read.csv(csv_path, header=True, schema=schema)\n",
    "    # If order_date is already date type in CSV, convert safely\n",
    "except Exception:\n",
    "    # Inline fallback data (same as earlier examples)\n",
    "    data = [\n",
    "        (\"O001\", \"South\", \"Electronics\", 3, 15000.0, \"2025-08-01\"),\n",
    "        (\"O002\", \"North\", \"Clothing\", 5, 2000.0, \"2025-08-02\"),\n",
    "        (\"O003\", \"East\", \"Furniture\", 2, 12000.0, \"2025-08-03\"),\n",
    "        (\"O004\", \"West\", \"Electronics\", 1, 18000.0, \"2025-08-04\"),\n",
    "        (\"O005\", \"North\", \"Furniture\", 4, 9000.0, \"2025-08-05\"),\n",
    "        (\"O006\", \"South\", \"Clothing\", 6, 2500.0, \"2025-08-06\"),\n",
    "        (\"O007\", \"East\", \"Electronics\", 2, 17000.0, \"2025-08-07\")\n",
    "    ]\n",
    "    df = spark.createDataFrame(data, schema)\n",
    "\n",
    "# Convert order_date string -> DateType (safe conversion)\n",
    "df = df.withColumn(\"order_date\", to_date(col(\"order_date\"), \"yyyy-MM-dd\"))\n",
    "\n",
    "# Show first 10 rows (Task 1)\n",
    "print(\"First 10 rows:\")\n",
    "display(df.limit(10))\n",
    "\n",
    "# --- 2. Create revenue column = quantity * price ---\n",
    "df = df.withColumn(\"revenue\", col(\"quantity\") * col(\"price\"))\n",
    "\n",
    "# --- Prepare summary DataFrames needed for multiple tasks ---\n",
    "# Category summary (total revenue per category)\n",
    "category_summary = df.groupBy(\"category\").agg(_sum(\"revenue\").alias(\"total_revenue\")).orderBy(col(\"total_revenue\").desc())\n",
    "\n",
    "# Region summary (total revenue per region)\n",
    "region_summary = df.groupBy(\"region\").agg(_sum(\"revenue\").alias(\"total_revenue\")).orderBy(col(\"total_revenue\").desc())\n",
    "\n",
    "# Date trend (revenue by order_date)\n",
    "date_trend = df.groupBy(\"order_date\").agg(_sum(\"revenue\").alias(\"total_revenue\")).orderBy(\"order_date\")\n",
    "\n",
    "# Quantity by category & region for stacked bar\n",
    "qty_by_region_category = df.groupBy(\"region\", \"category\").agg(_sum(\"quantity\").alias(\"total_qty\")).orderBy(\"region\")\n",
    "\n",
    "# --- 3. Bar chart: total revenue by category ---\n",
    "cat_pdf = category_summary.toPandas()\n",
    "plt.figure(figsize=(8,5))\n",
    "plt.bar(cat_pdf['category'], cat_pdf['total_revenue'])\n",
    "plt.xlabel(\"Category\")\n",
    "plt.ylabel(\"Total Revenue\")\n",
    "plt.title(\"Total Revenue by Category\")\n",
    "plt.tight_layout()\n",
    "plt.savefig(output_dir + \"bar_revenue_by_category.png\")\n",
    "plt.close()\n",
    "display(category_summary)  # Databricks UI: choose Bar chart if needed\n",
    "\n",
    "# --- 4. Line chart: revenue trend by order_date (sorted) ---\n",
    "date_pdf = date_trend.toPandas()\n",
    "plt.figure(figsize=(8,5))\n",
    "plt.plot(date_pdf['order_date'], date_pdf['total_revenue'], marker='o', linestyle='-')\n",
    "plt.xlabel(\"Order Date\")\n",
    "plt.ylabel(\"Total Revenue\")\n",
    "plt.title(\"Revenue Trend by Order Date\")\n",
    "plt.xticks(rotation=45)\n",
    "plt.tight_layout()\n",
    "plt.savefig(output_dir + \"line_revenue_trend.png\")\n",
    "plt.close()\n",
    "display(date_trend)\n",
    "\n",
    "# --- 5. Pie chart: percentage contribution of each region to total revenue ---\n",
    "reg_pdf = region_summary.toPandas()\n",
    "plt.figure(figsize=(6,6))\n",
    "plt.pie(reg_pdf['total_revenue'], labels=reg_pdf['region'], autopct='%1.1f%%', startangle=90)\n",
    "plt.title(\"Revenue Share by Region\")\n",
    "plt.tight_layout()\n",
    "plt.savefig(output_dir + \"pie_revenue_by_region.png\")\n",
    "plt.close()\n",
    "display(region_summary)  # In Databricks, choose Pie Chart in display UI\n",
    "\n",
    "# --- 6. Stacked bar: total quantity sold per category by region ---\n",
    "pivot_qty = qty_by_region_category.toPandas().pivot(index=\"region\", columns=\"category\", values=\"total_qty\").fillna(0)\n",
    "pivot_qty.plot(kind=\"bar\", stacked=True, figsize=(9,6))\n",
    "plt.xlabel(\"Region\")\n",
    "plt.ylabel(\"Total Quantity\")\n",
    "plt.title(\"Quantity Sold per Category by Region (Stacked)\")\n",
    "plt.legend(title=\"Category\", bbox_to_anchor=(1.02,1), loc=\"upper left\")\n",
    "plt.tight_layout()\n",
    "plt.savefig(output_dir + \"stacked_qty_by_category_region.png\")\n",
    "plt.close()\n",
    "# Also display the pivot (Databricks pivot view)\n",
    "display(spark.createDataFrame(pivot_qty.reset_index()))\n",
    "\n",
    "# --- 7. Filter and visualize top 5 products by total revenue (horizontal bar) ---\n",
    "# NOTE: dataset may not have a product column. If a 'product' column exists, use it; otherwise use 'category' as proxy.\n",
    "cols = [c.lower() for c in df.columns]\n",
    "if \"product\" in cols or \"product_name\" in cols:\n",
    "    prod_col = \"product\" if \"product\" in cols else \"product_name\"\n",
    "    prod_summary = df.groupBy(prod_col).agg(_sum(\"revenue\").alias(\"total_revenue\")).orderBy(col(\"total_revenue\").desc()).limit(5)\n",
    "else:\n",
    "    # fallback: use category as proxy for \"products\"\n",
    "    prod_summary = category_summary.limit(5)\n",
    "\n",
    "prod_pdf = prod_summary.toPandas()\n",
    "plt.figure(figsize=(8,5))\n",
    "plt.barh(prod_pdf.iloc[:,0].astype(str), prod_pdf['total_revenue'])\n",
    "plt.xlabel(\"Total Revenue\")\n",
    "plt.title(\"Top 5 Products (or Categories) by Revenue\")\n",
    "plt.tight_layout()\n",
    "plt.savefig(output_dir + \"top5_products_horizontal.png\")\n",
    "plt.close()\n",
    "display(prod_summary)\n",
    "\n",
    "# --- 8. Scatter plot: quantity vs price colored by category ---\n",
    "pdf_scatter = df.select(\"quantity\", \"price\", \"category\").toPandas()\n",
    "plt.figure(figsize=(8,6))\n",
    "categories = pdf_scatter['category'].unique()\n",
    "colors = plt.cm.tab10(range(len(categories)))\n",
    "for i, cat in enumerate(categories):\n",
    "    sub = pdf_scatter[pdf_scatter['category'] == cat]\n",
    "    plt.scatter(sub['quantity'], sub['price'], label=cat, alpha=0.8, s=60)\n",
    "plt.xlabel(\"Quantity\")\n",
    "plt.ylabel(\"Price\")\n",
    "plt.title(\"Quantity vs Price (colored by Category)\")\n",
    "plt.legend(title=\"Category\")\n",
    "plt.tight_layout()\n",
    "plt.savefig(output_dir + \"scatter_qty_vs_price.png\")\n",
    "plt.close()\n",
    "\n",
    "# --- 9. Average order value by region and plot as bar chart ---\n",
    "avg_order_region = df.groupBy(\"region\").agg(avg(\"revenue\").alias(\"avg_order_value\")).orderBy(\"region\")\n",
    "avg_pdf = avg_order_region.toPandas()\n",
    "plt.figure(figsize=(8,5))\n",
    "plt.bar(avg_pdf['region'], avg_pdf['avg_order_value'])\n",
    "plt.xlabel(\"Region\")\n",
    "plt.ylabel(\"Average Order Value\")\n",
    "plt.title(\"Average Order Value by Region\")\n",
    "plt.tight_layout()\n",
    "plt.savefig(output_dir + \"avg_order_value_by_region.png\")\n",
    "plt.close()\n",
    "display(avg_order_region)\n",
    "\n",
    "# --- 10. Heatmap (pivot) showing revenue by region and category ---\n",
    "heat_df = df.groupBy(\"region\", \"category\").agg(_sum(\"revenue\").alias(\"total_revenue\")).toPandas()\n",
    "pivot_heat = heat_df.pivot(index=\"region\", columns=\"category\", values=\"total_revenue\").fillna(0)\n",
    "plt.figure(figsize=(8,6))\n",
    "im = plt.imshow(pivot_heat.values, aspect='auto', cmap='YlGn')\n",
    "plt.colorbar(im, label='Revenue')\n",
    "plt.xticks(range(len(pivot_heat.columns)), pivot_heat.columns, rotation=45)\n",
    "plt.yticks(range(len(pivot_heat.index)), pivot_heat.index)\n",
    "plt.title(\"Revenue by Region and Category (Heatmap)\")\n",
    "# annotate cells\n",
    "for i in range(pivot_heat.shape[0]):\n",
    "    for j in range(pivot_heat.shape[1]):\n",
    "        plt.text(j, i, int(pivot_heat.values[i,j]), ha='center', va='center', color='black', fontsize=9)\n",
    "plt.tight_layout()\n",
    "plt.savefig(output_dir + \"heatmap_revenue_region_category.png\")\n",
    "plt.close()\n",
    "# Also show pivot as DataFrame in Databricks UI (pivot table)\n",
    "display(spark.createDataFrame(pivot_heat.reset_index()))\n",
    "\n",
    "# --- 11. Bonus: Apply discounts and plot discounted vs original revenue per category (grouped bar) ---\n",
    "df = df.withColumn(\"discount\", when(col(\"category\") == \"Electronics\", 0.10)\n",
    "                          .when(col(\"category\") == \"Clothing\", 0.05)\n",
    "                          .when(col(\"category\") == \"Furniture\", 0.08)\n",
    "                          .otherwise(0.0))\n",
    "df = df.withColumn(\"discounted_revenue\", col(\"revenue\") * (1 - col(\"discount\")))\n",
    "\n",
    "disc_df = df.groupBy(\"category\").agg(\n",
    "    _sum(\"revenue\").alias(\"original_revenue\"),\n",
    "    _sum(\"discounted_revenue\").alias(\"discounted_revenue\")\n",
    ").orderBy(col(\"original_revenue\").desc()).toPandas()\n",
    "\n",
    "x = np.arange(len(disc_df))\n",
    "width = 0.35\n",
    "plt.figure(figsize=(8,5))\n",
    "plt.bar(x - width/2, disc_df['original_revenue'], width, label='Original')\n",
    "plt.bar(x + width/2, disc_df['discounted_revenue'], width, label='Discounted')\n",
    "plt.xticks(x, disc_df['category'])\n",
    "plt.xlabel(\"Category\")\n",
    "plt.ylabel(\"Revenue\")\n",
    "plt.title(\"Original vs Discounted Revenue by Category\")\n",
    "plt.legend()\n",
    "plt.tight_layout()\n",
    "plt.savefig(output_dir + \"discounted_vs_original_by_category.png\")\n",
    "plt.close()\n",
    "\n",
    "# --- 12. Save all visualizations as PNG files to output_dir (done above) ---\n",
    "# List saved files for verification\n",
    "saved_files = os.listdir(output_dir)\n",
    "print(\"Saved visualization files:\")\n",
    "for f in saved_files:\n",
    "    print(f\"- {output_dir}{f}\")\n",
    "\n",
    "print(\"\\nAll tasks completed. PNG files are available in /dbfs/FileStore/tables/sales_viz/\")\n"
   ]
  },
  {
   "cell_type": "code",
   "execution_count": 0,
   "metadata": {
    "application/vnd.databricks.v1+cell": {
     "cellMetadata": {},
     "inputWidgets": {},
     "nuid": "ac6c1293-0b42-48f1-899d-6f41ebe0eb51",
     "showTitle": false,
     "tableResultSettingsMap": {},
     "title": ""
    }
   },
   "outputs": [],
   "source": [
    "\n"
   ]
  }
 ],
 "metadata": {
  "application/vnd.databricks.v1+notebook": {
   "computePreferences": null,
   "dashboards": [],
   "environmentMetadata": {
    "base_environment": "",
    "environment_version": "2"
   },
   "inputWidgetPreferences": null,
   "language": "python",
   "notebookMetadata": {
    "pythonIndentUnit": 4
   },
   "notebookName": "Exercise: Visualizing Sales Performance Data",
   "widgets": {}
  },
  "language_info": {
   "name": "python"
  }
 },
 "nbformat": 4,
 "nbformat_minor": 0
}