{
  "nbformat": 4,
  "nbformat_minor": 0,
  "metadata": {
    "colab": {
      "provenance": []
    },
    "kernelspec": {
      "name": "python3",
      "display_name": "Python 3"
    },
    "language_info": {
      "name": "python"
    }
  },
  "cells": [
    {
      "cell_type": "code",
      "execution_count": 1,
      "metadata": {
        "colab": {
          "base_uri": "https://localhost:8080/"
        },
        "id": "f8aZNgJDyQIM",
        "outputId": "9d94ddd9-9077-4825-e5f1-37f643f6eb12"
      },
      "outputs": [
        {
          "output_type": "stream",
          "name": "stdout",
          "text": [
            "   OrderID   OrderDate Customer      Segment Region   Product  \\\n",
            "0  CA-1001  2023-01-15     Ravi     Consumer  South    Laptop   \n",
            "1  CA-1002  2023-02-20    Priya    Corporate  North   Printer   \n",
            "2  CA-1003  2023-01-25     Amit     Consumer   East  Notebook   \n",
            "3  CA-1004  2023-03-01    Anita  Home Office   West     Table   \n",
            "4  CA-1005  2023-02-05    Divya     Consumer  South     Phone   \n",
            "\n",
            "          Category  SubCategory  Quantity  UnitPrice  Discount  Profit  \n",
            "0       Technology    Computers         1      55000      0.10    5000  \n",
            "1       Technology  Peripherals         2      12000      0.15    1800  \n",
            "2  Office Supplies        Paper         3        200      0.05     150  \n",
            "3        Furniture       Tables         1      18000      0.20   -1500  \n",
            "4       Technology       Phones         2      20000      0.00    3000  \n"
          ]
        }
      ],
      "source": [
        "import pandas as pd\n",
        "\n",
        "# CSV content (cleaned)\n",
        "csv_data = \"\"\"OrderID,OrderDate,Customer,Segment,Region,Product,Category,SubCategory,Quantity,UnitPrice,Discount,Profit\n",
        "CA-1001,2023-01-15,Ravi,Consumer,South,Laptop,Technology,Computers,1,55000,0.10,5000\n",
        "CA-1002,2023-02-20,Priya,Corporate,North,Printer,Technology,Peripherals,2,12000,0.15,1800\n",
        "CA-1003,2023-01-25,Amit,Consumer,East,Notebook,Office Supplies,Paper,3,200,0.05,150\n",
        "CA-1004,2023-03-01,Anita,Home Office,West,Table,Furniture,Tables,1,18000,0.20,-1500\n",
        "CA-1005,2023-02-05,Divya,Consumer,South,Phone,Technology,Phones,2,20000,0.00,3000\n",
        "\"\"\"\n",
        "\n",
        "# Save as CSV\n",
        "with open(\"superstore.csv\", \"w\") as f:\n",
        "    f.write(csv_data)\n",
        "\n",
        "# Load into pandas DataFrame\n",
        "df = pd.read_csv(\"superstore.csv\")\n",
        "print(df)\n"
      ]
    },
    {
      "cell_type": "code",
      "source": [
        "print(\" Head:\")\n",
        "print(df.head())\n",
        "print(\"\\n Shape:\", df.shape)\n",
        "print(\"\\n Data types:\")\n",
        "print(df.dtypes)\n"
      ],
      "metadata": {
        "colab": {
          "base_uri": "https://localhost:8080/"
        },
        "id": "VHhU8eiPyzq9",
        "outputId": "d9cfbcb9-e4ac-4681-9b33-d1588d6085bd"
      },
      "execution_count": 2,
      "outputs": [
        {
          "output_type": "stream",
          "name": "stdout",
          "text": [
            " Head:\n",
            "   OrderID   OrderDate Customer      Segment Region   Product  \\\n",
            "0  CA-1001  2023-01-15     Ravi     Consumer  South    Laptop   \n",
            "1  CA-1002  2023-02-20    Priya    Corporate  North   Printer   \n",
            "2  CA-1003  2023-01-25     Amit     Consumer   East  Notebook   \n",
            "3  CA-1004  2023-03-01    Anita  Home Office   West     Table   \n",
            "4  CA-1005  2023-02-05    Divya     Consumer  South     Phone   \n",
            "\n",
            "          Category  SubCategory  Quantity  UnitPrice  Discount  Profit  \n",
            "0       Technology    Computers         1      55000      0.10    5000  \n",
            "1       Technology  Peripherals         2      12000      0.15    1800  \n",
            "2  Office Supplies        Paper         3        200      0.05     150  \n",
            "3        Furniture       Tables         1      18000      0.20   -1500  \n",
            "4       Technology       Phones         2      20000      0.00    3000  \n",
            "\n",
            " Shape: (5, 12)\n",
            "\n",
            " Data types:\n",
            "OrderID         object\n",
            "OrderDate       object\n",
            "Customer        object\n",
            "Segment         object\n",
            "Region          object\n",
            "Product         object\n",
            "Category        object\n",
            "SubCategory     object\n",
            "Quantity         int64\n",
            "UnitPrice        int64\n",
            "Discount       float64\n",
            "Profit           int64\n",
            "dtype: object\n"
          ]
        }
      ]
    },
    {
      "cell_type": "code",
      "source": [
        "print(\"\\n Selected Columns:\")\n",
        "print(df[[\"Customer\", \"Product\", \"Profit\"]])\n"
      ],
      "metadata": {
        "colab": {
          "base_uri": "https://localhost:8080/"
        },
        "id": "zcl3Y5q3y_LQ",
        "outputId": "b2668563-ecc5-4df1-eeaf-7bd04b601243"
      },
      "execution_count": 3,
      "outputs": [
        {
          "output_type": "stream",
          "name": "stdout",
          "text": [
            "\n",
            " Selected Columns:\n",
            "  Customer   Product  Profit\n",
            "0     Ravi    Laptop    5000\n",
            "1    Priya   Printer    1800\n",
            "2     Amit  Notebook     150\n",
            "3    Anita     Table   -1500\n",
            "4    Divya     Phone    3000\n"
          ]
        }
      ]
    },
    {
      "cell_type": "code",
      "source": [
        "filtered_df = df[(df[\"Profit\"] > 2000) & (df[\"Discount\"] == 0.0)]\n",
        "print(\"\\n Orders with Profit > 2000 and Discount = 0:\")\n",
        "print(filtered_df)\n"
      ],
      "metadata": {
        "colab": {
          "base_uri": "https://localhost:8080/"
        },
        "id": "TZTI1RlTzFOP",
        "outputId": "b0b9d335-f4c2-4841-a3c7-326f62964bcb"
      },
      "execution_count": 4,
      "outputs": [
        {
          "output_type": "stream",
          "name": "stdout",
          "text": [
            "\n",
            " Orders with Profit > 2000 and Discount = 0:\n",
            "   OrderID   OrderDate Customer   Segment Region Product    Category  \\\n",
            "4  CA-1005  2023-02-05    Divya  Consumer  South   Phone  Technology   \n",
            "\n",
            "  SubCategory  Quantity  UnitPrice  Discount  Profit  \n",
            "4      Phones         2      20000       0.0    3000  \n"
          ]
        }
      ]
    },
    {
      "cell_type": "code",
      "source": [
        "sorted_df = df.sort_values(by=\"Profit\", ascending=False)\n",
        "print(\"\\n Sorted by Profit (Descending):\")\n",
        "print(sorted_df)\n"
      ],
      "metadata": {
        "colab": {
          "base_uri": "https://localhost:8080/"
        },
        "id": "jLNSXHn6zHN8",
        "outputId": "75195f7d-12ef-4fc4-d049-8cd022d9bf0f"
      },
      "execution_count": 5,
      "outputs": [
        {
          "output_type": "stream",
          "name": "stdout",
          "text": [
            "\n",
            " Sorted by Profit (Descending):\n",
            "   OrderID   OrderDate Customer      Segment Region   Product  \\\n",
            "0  CA-1001  2023-01-15     Ravi     Consumer  South    Laptop   \n",
            "4  CA-1005  2023-02-05    Divya     Consumer  South     Phone   \n",
            "1  CA-1002  2023-02-20    Priya    Corporate  North   Printer   \n",
            "2  CA-1003  2023-01-25     Amit     Consumer   East  Notebook   \n",
            "3  CA-1004  2023-03-01    Anita  Home Office   West     Table   \n",
            "\n",
            "          Category  SubCategory  Quantity  UnitPrice  Discount  Profit  \n",
            "0       Technology    Computers         1      55000      0.10    5000  \n",
            "4       Technology       Phones         2      20000      0.00    3000  \n",
            "1       Technology  Peripherals         2      12000      0.15    1800  \n",
            "2  Office Supplies        Paper         3        200      0.05     150  \n",
            "3        Furniture       Tables         1      18000      0.20   -1500  \n"
          ]
        }
      ]
    },
    {
      "cell_type": "code",
      "source": [
        "grouped_df = df.groupby(\"Category\").agg(\n",
        "    Total_Profit=(\"Profit\", \"sum\"),\n",
        "    Avg_Discount=(\"Discount\", \"mean\")\n",
        ").reset_index()\n",
        "\n",
        "print(\"\\n Grouped by Category:\")\n",
        "print(grouped_df)\n"
      ],
      "metadata": {
        "colab": {
          "base_uri": "https://localhost:8080/"
        },
        "id": "6EolHPWZzLk1",
        "outputId": "ee392b1d-f2ca-4a76-983b-b450690f5047"
      },
      "execution_count": 7,
      "outputs": [
        {
          "output_type": "stream",
          "name": "stdout",
          "text": [
            "\n",
            " Grouped by Category:\n",
            "          Category  Total_Profit  Avg_Discount\n",
            "0        Furniture         -1500      0.200000\n",
            "1  Office Supplies           150      0.050000\n",
            "2       Technology          9800      0.083333\n"
          ]
        }
      ]
    },
    {
      "cell_type": "code",
      "source": [
        "df[\"TotalPrice\"] = df[\"Quantity\"] * df[\"UnitPrice\"]\n",
        "print(\"\\n DataFrame with TotalPrice:\")\n",
        "print(df[[\"OrderID\", \"Quantity\", \"UnitPrice\", \"TotalPrice\"]])\n"
      ],
      "metadata": {
        "colab": {
          "base_uri": "https://localhost:8080/"
        },
        "id": "B6nq2an6zbLf",
        "outputId": "0caf120b-fd6c-44ce-fa93-102faa73ba7d"
      },
      "execution_count": 8,
      "outputs": [
        {
          "output_type": "stream",
          "name": "stdout",
          "text": [
            "\n",
            " DataFrame with TotalPrice:\n",
            "   OrderID  Quantity  UnitPrice  TotalPrice\n",
            "0  CA-1001         1      55000       55000\n",
            "1  CA-1002         2      12000       24000\n",
            "2  CA-1003         3        200         600\n",
            "3  CA-1004         1      18000       18000\n",
            "4  CA-1005         2      20000       40000\n"
          ]
        }
      ]
    },
    {
      "cell_type": "code",
      "source": [
        "df = df.drop(columns=[\"SubCategory\"])\n",
        "print(\"\\n DataFrame after dropping 'SubCategory':\")\n",
        "print(df.columns)\n"
      ],
      "metadata": {
        "colab": {
          "base_uri": "https://localhost:8080/"
        },
        "id": "BCNNFqA_zdPi",
        "outputId": "f165bf7f-f3b6-4fb8-9a1a-a025538f50ef"
      },
      "execution_count": 9,
      "outputs": [
        {
          "output_type": "stream",
          "name": "stdout",
          "text": [
            "\n",
            " DataFrame after dropping 'SubCategory':\n",
            "Index(['OrderID', 'OrderDate', 'Customer', 'Segment', 'Region', 'Product',\n",
            "       'Category', 'Quantity', 'UnitPrice', 'Discount', 'Profit',\n",
            "       'TotalPrice'],\n",
            "      dtype='object')\n"
          ]
        }
      ]
    },
    {
      "cell_type": "code",
      "source": [
        "# Simulate a null value in Discount\n",
        "df.loc[0, \"Discount\"] = None\n",
        "\n",
        "# Fill nulls with 0.10\n",
        "df[\"Discount\"] = df[\"Discount\"].fillna(0.10)\n",
        "\n",
        "print(\"\\n Discount after filling nulls:\")\n",
        "print(df[\"Discount\"])\n"
      ],
      "metadata": {
        "colab": {
          "base_uri": "https://localhost:8080/"
        },
        "id": "XnAF32D3zffw",
        "outputId": "b98cbee7-7e7f-4d98-faa8-9320ec109add"
      },
      "execution_count": 10,
      "outputs": [
        {
          "output_type": "stream",
          "name": "stdout",
          "text": [
            "\n",
            " Discount after filling nulls:\n",
            "0    0.10\n",
            "1    0.15\n",
            "2    0.05\n",
            "3    0.20\n",
            "4    0.00\n",
            "Name: Discount, dtype: float64\n"
          ]
        }
      ]
    },
    {
      "cell_type": "code",
      "source": [
        "def classify(row):\n",
        "    if row['Profit'] > 4000:\n",
        "        return 'High'\n",
        "    elif row['Profit'] > 0:\n",
        "        return 'Medium'\n",
        "    else:\n",
        "        return 'Low'\n",
        "\n",
        "# Apply the function\n",
        "df[\"ProfitLevel\"] = df.apply(classify, axis=1)\n",
        "\n",
        "print(\"\\n DataFrame with Profit Level:\")\n",
        "print(df[[\"OrderID\", \"Profit\", \"ProfitLevel\"]])\n"
      ],
      "metadata": {
        "colab": {
          "base_uri": "https://localhost:8080/"
        },
        "id": "yvkf_atbzhpg",
        "outputId": "b9fc0e4e-aa73-4e6b-811e-6f609104bb36"
      },
      "execution_count": 11,
      "outputs": [
        {
          "output_type": "stream",
          "name": "stdout",
          "text": [
            "\n",
            " DataFrame with Profit Level:\n",
            "   OrderID  Profit ProfitLevel\n",
            "0  CA-1001    5000        High\n",
            "1  CA-1002    1800      Medium\n",
            "2  CA-1003     150      Medium\n",
            "3  CA-1004   -1500         Low\n",
            "4  CA-1005    3000      Medium\n"
          ]
        }
      ]
    },
    {
      "cell_type": "code",
      "source": [
        "!pip install pyspark\n"
      ],
      "metadata": {
        "colab": {
          "base_uri": "https://localhost:8080/"
        },
        "id": "PBuZua8R0yxP",
        "outputId": "7764c4cc-f849-41dc-b85c-43c264b8b253"
      },
      "execution_count": 12,
      "outputs": [
        {
          "output_type": "stream",
          "name": "stdout",
          "text": [
            "Requirement already satisfied: pyspark in /usr/local/lib/python3.11/dist-packages (3.5.1)\n",
            "Requirement already satisfied: py4j==0.10.9.7 in /usr/local/lib/python3.11/dist-packages (from pyspark) (0.10.9.7)\n"
          ]
        }
      ]
    },
    {
      "cell_type": "code",
      "source": [
        "from pyspark.sql import SparkSession\n",
        "\n",
        "# Step 1: Start SparkSession\n",
        "spark = SparkSession.builder.appName(\"SuperstoreAssignment\").getOrCreate()\n",
        "\n",
        "# Step 2: Load the CSV\n",
        "df = spark.read.option(\"header\", True).option(\"inferSchema\", True).csv(\"superstore.csv\")\n",
        "\n",
        "# Step 3: Show schema and first 5 rows\n",
        "df.printSchema()\n",
        "df.show(5)\n"
      ],
      "metadata": {
        "colab": {
          "base_uri": "https://localhost:8080/"
        },
        "id": "I82wdzQk3iip",
        "outputId": "9089be16-b58e-48b9-ff34-1dbafee8a7ff"
      },
      "execution_count": 13,
      "outputs": [
        {
          "output_type": "stream",
          "name": "stdout",
          "text": [
            "root\n",
            " |-- OrderID: string (nullable = true)\n",
            " |-- OrderDate: date (nullable = true)\n",
            " |-- Customer: string (nullable = true)\n",
            " |-- Segment: string (nullable = true)\n",
            " |-- Region: string (nullable = true)\n",
            " |-- Product: string (nullable = true)\n",
            " |-- Category: string (nullable = true)\n",
            " |-- SubCategory: string (nullable = true)\n",
            " |-- Quantity: integer (nullable = true)\n",
            " |-- UnitPrice: integer (nullable = true)\n",
            " |-- Discount: double (nullable = true)\n",
            " |-- Profit: integer (nullable = true)\n",
            "\n",
            "+-------+----------+--------+-----------+------+--------+---------------+-----------+--------+---------+--------+------+\n",
            "|OrderID| OrderDate|Customer|    Segment|Region| Product|       Category|SubCategory|Quantity|UnitPrice|Discount|Profit|\n",
            "+-------+----------+--------+-----------+------+--------+---------------+-----------+--------+---------+--------+------+\n",
            "|CA-1001|2023-01-15|    Ravi|   Consumer| South|  Laptop|     Technology|  Computers|       1|    55000|     0.1|  5000|\n",
            "|CA-1002|2023-02-20|   Priya|  Corporate| North| Printer|     Technology|Peripherals|       2|    12000|    0.15|  1800|\n",
            "|CA-1003|2023-01-25|    Amit|   Consumer|  East|Notebook|Office Supplies|      Paper|       3|      200|    0.05|   150|\n",
            "|CA-1004|2023-03-01|   Anita|Home Office|  West|   Table|      Furniture|     Tables|       1|    18000|     0.2| -1500|\n",
            "|CA-1005|2023-02-05|   Divya|   Consumer| South|   Phone|     Technology|     Phones|       2|    20000|     0.0|  3000|\n",
            "+-------+----------+--------+-----------+------+--------+---------------+-----------+--------+---------+--------+------+\n",
            "\n"
          ]
        }
      ]
    },
    {
      "cell_type": "code",
      "source": [
        "df_selected = df.selectExpr(\"OrderID\", \"OrderDate\", \"Customer as Client\", \"Product\", \"Profit\")\n",
        "df_selected.show()\n"
      ],
      "metadata": {
        "colab": {
          "base_uri": "https://localhost:8080/"
        },
        "id": "8uDFQKjN4da-",
        "outputId": "48ede0ac-8a1b-452c-8bb6-43a3174e0976"
      },
      "execution_count": 14,
      "outputs": [
        {
          "output_type": "stream",
          "name": "stdout",
          "text": [
            "+-------+----------+------+--------+------+\n",
            "|OrderID| OrderDate|Client| Product|Profit|\n",
            "+-------+----------+------+--------+------+\n",
            "|CA-1001|2023-01-15|  Ravi|  Laptop|  5000|\n",
            "|CA-1002|2023-02-20| Priya| Printer|  1800|\n",
            "|CA-1003|2023-01-25|  Amit|Notebook|   150|\n",
            "|CA-1004|2023-03-01| Anita|   Table| -1500|\n",
            "|CA-1005|2023-02-05| Divya|   Phone|  3000|\n",
            "+-------+----------+------+--------+------+\n",
            "\n"
          ]
        }
      ]
    },
    {
      "cell_type": "code",
      "source": [
        "filtered_df = df.filter((df.Segment == \"Consumer\") & (df.Profit < 1000))\n",
        "filtered_df.show()\n"
      ],
      "metadata": {
        "colab": {
          "base_uri": "https://localhost:8080/"
        },
        "id": "bj2M-HDy4fEy",
        "outputId": "4a8fa734-a049-4519-a56a-dc998d326723"
      },
      "execution_count": 15,
      "outputs": [
        {
          "output_type": "stream",
          "name": "stdout",
          "text": [
            "+-------+----------+--------+--------+------+--------+---------------+-----------+--------+---------+--------+------+\n",
            "|OrderID| OrderDate|Customer| Segment|Region| Product|       Category|SubCategory|Quantity|UnitPrice|Discount|Profit|\n",
            "+-------+----------+--------+--------+------+--------+---------------+-----------+--------+---------+--------+------+\n",
            "|CA-1003|2023-01-25|    Amit|Consumer|  East|Notebook|Office Supplies|      Paper|       3|      200|    0.05|   150|\n",
            "+-------+----------+--------+--------+------+--------+---------------+-----------+--------+---------+--------+------+\n",
            "\n"
          ]
        }
      ]
    },
    {
      "cell_type": "code",
      "source": [
        "from pyspark.sql.functions import avg\n",
        "\n",
        "df.groupBy(\"Region\").agg(avg(\"Profit\").alias(\"Average_Profit\")).show()\n"
      ],
      "metadata": {
        "colab": {
          "base_uri": "https://localhost:8080/"
        },
        "id": "TsDsejvs4g5b",
        "outputId": "65d87135-f0cd-4a56-ed07-3c7c2745fb43"
      },
      "execution_count": 16,
      "outputs": [
        {
          "output_type": "stream",
          "name": "stdout",
          "text": [
            "+------+--------------+\n",
            "|Region|Average_Profit|\n",
            "+------+--------------+\n",
            "| South|        4000.0|\n",
            "|  East|         150.0|\n",
            "|  West|       -1500.0|\n",
            "| North|        1800.0|\n",
            "+------+--------------+\n",
            "\n"
          ]
        }
      ]
    },
    {
      "cell_type": "code",
      "source": [
        "from pyspark.sql.functions import col\n",
        "\n",
        "df = df.withColumn(\"TotalPrice\", col(\"Quantity\") * col(\"UnitPrice\"))\n",
        "df.select(\"OrderID\", \"Quantity\", \"UnitPrice\", \"TotalPrice\").show()\n"
      ],
      "metadata": {
        "colab": {
          "base_uri": "https://localhost:8080/"
        },
        "id": "mAzc_ipi4jR8",
        "outputId": "abe892c8-466b-4bd7-882d-d7ba856f99bd"
      },
      "execution_count": 17,
      "outputs": [
        {
          "output_type": "stream",
          "name": "stdout",
          "text": [
            "+-------+--------+---------+----------+\n",
            "|OrderID|Quantity|UnitPrice|TotalPrice|\n",
            "+-------+--------+---------+----------+\n",
            "|CA-1001|       1|    55000|     55000|\n",
            "|CA-1002|       2|    12000|     24000|\n",
            "|CA-1003|       3|      200|       600|\n",
            "|CA-1004|       1|    18000|     18000|\n",
            "|CA-1005|       2|    20000|     40000|\n",
            "+-------+--------+---------+----------+\n",
            "\n"
          ]
        }
      ]
    },
    {
      "cell_type": "code",
      "source": [
        "from pyspark.sql.functions import when\n",
        "\n",
        "df = df.withColumn(\"ProfitLevel\",\n",
        "    when(col(\"Profit\") > 2000, \"High\")\n",
        "    .when(col(\"Profit\") <= 0, \"Loss\")\n",
        "    .otherwise(\"Medium\")\n",
        ")\n",
        "df.select(\"OrderID\", \"Profit\", \"ProfitLevel\").show()\n"
      ],
      "metadata": {
        "colab": {
          "base_uri": "https://localhost:8080/"
        },
        "id": "4FfKyK674mgT",
        "outputId": "01b41e05-66be-4022-fd76-fad56da67bf5"
      },
      "execution_count": 18,
      "outputs": [
        {
          "output_type": "stream",
          "name": "stdout",
          "text": [
            "+-------+------+-----------+\n",
            "|OrderID|Profit|ProfitLevel|\n",
            "+-------+------+-----------+\n",
            "|CA-1001|  5000|       High|\n",
            "|CA-1002|  1800|     Medium|\n",
            "|CA-1003|   150|     Medium|\n",
            "|CA-1004| -1500|       Loss|\n",
            "|CA-1005|  3000|       High|\n",
            "+-------+------+-----------+\n",
            "\n"
          ]
        }
      ]
    },
    {
      "cell_type": "code",
      "source": [
        "df = df.drop(\"SubCategory\")\n",
        "print(\" SubCategory dropped. Remaining columns:\")\n",
        "print(df.columns)\n"
      ],
      "metadata": {
        "colab": {
          "base_uri": "https://localhost:8080/"
        },
        "id": "JBKsmxDC4pL3",
        "outputId": "c7af5bd2-c6f3-4dad-e22a-96672aceffab"
      },
      "execution_count": 19,
      "outputs": [
        {
          "output_type": "stream",
          "name": "stdout",
          "text": [
            " SubCategory dropped. Remaining columns:\n",
            "['OrderID', 'OrderDate', 'Customer', 'Segment', 'Region', 'Product', 'Category', 'Quantity', 'UnitPrice', 'Discount', 'Profit', 'TotalPrice', 'ProfitLevel']\n"
          ]
        }
      ]
    },
    {
      "cell_type": "code",
      "source": [
        "df = df.fillna({\"Discount\": 0.10})\n",
        "df.select(\"OrderID\", \"Discount\").show()\n"
      ],
      "metadata": {
        "colab": {
          "base_uri": "https://localhost:8080/"
        },
        "id": "MfIdchUg4suq",
        "outputId": "1bf97e21-5db6-4a42-a87b-45a3270c7a39"
      },
      "execution_count": 20,
      "outputs": [
        {
          "output_type": "stream",
          "name": "stdout",
          "text": [
            "+-------+--------+\n",
            "|OrderID|Discount|\n",
            "+-------+--------+\n",
            "|CA-1001|     0.1|\n",
            "|CA-1002|    0.15|\n",
            "|CA-1003|    0.05|\n",
            "|CA-1004|     0.2|\n",
            "|CA-1005|     0.0|\n",
            "+-------+--------+\n",
            "\n"
          ]
        }
      ]
    },
    {
      "cell_type": "code",
      "source": [
        "from pyspark.sql.functions import to_date, year, month\n",
        "\n",
        "df = df.withColumn(\"OrderDate\", to_date(\"OrderDate\", \"yyyy-MM-dd\"))\n",
        "df = df.withColumn(\"Year\", year(\"OrderDate\"))\n",
        "df = df.withColumn(\"Month\", month(\"OrderDate\"))\n",
        "\n",
        "df.select(\"OrderID\", \"OrderDate\", \"Year\", \"Month\").show()\n"
      ],
      "metadata": {
        "colab": {
          "base_uri": "https://localhost:8080/"
        },
        "id": "UJ96pfR_4vpF",
        "outputId": "53cf8a04-2b71-4d5c-ca1d-12425c401e19"
      },
      "execution_count": 21,
      "outputs": [
        {
          "output_type": "stream",
          "name": "stdout",
          "text": [
            "+-------+----------+----+-----+\n",
            "|OrderID| OrderDate|Year|Month|\n",
            "+-------+----------+----+-----+\n",
            "|CA-1001|2023-01-15|2023|    1|\n",
            "|CA-1002|2023-02-20|2023|    2|\n",
            "|CA-1003|2023-01-25|2023|    1|\n",
            "|CA-1004|2023-03-01|2023|    3|\n",
            "|CA-1005|2023-02-05|2023|    2|\n",
            "+-------+----------+----+-----+\n",
            "\n"
          ]
        }
      ]
    },
    {
      "cell_type": "code",
      "source": [
        "!pip install dask\n"
      ],
      "metadata": {
        "colab": {
          "base_uri": "https://localhost:8080/"
        },
        "id": "kmzEH0Je5KKQ",
        "outputId": "c7045fe0-b3e1-4446-e6f6-a5c783f0a031"
      },
      "execution_count": 22,
      "outputs": [
        {
          "output_type": "stream",
          "name": "stdout",
          "text": [
            "Requirement already satisfied: dask in /usr/local/lib/python3.11/dist-packages (2025.5.0)\n",
            "Requirement already satisfied: click>=8.1 in /usr/local/lib/python3.11/dist-packages (from dask) (8.2.1)\n",
            "Requirement already satisfied: cloudpickle>=3.0.0 in /usr/local/lib/python3.11/dist-packages (from dask) (3.1.1)\n",
            "Requirement already satisfied: fsspec>=2021.09.0 in /usr/local/lib/python3.11/dist-packages (from dask) (2025.3.0)\n",
            "Requirement already satisfied: packaging>=20.0 in /usr/local/lib/python3.11/dist-packages (from dask) (25.0)\n",
            "Requirement already satisfied: partd>=1.4.0 in /usr/local/lib/python3.11/dist-packages (from dask) (1.4.2)\n",
            "Requirement already satisfied: pyyaml>=5.3.1 in /usr/local/lib/python3.11/dist-packages (from dask) (6.0.2)\n",
            "Requirement already satisfied: toolz>=0.10.0 in /usr/local/lib/python3.11/dist-packages (from dask) (0.12.1)\n",
            "Requirement already satisfied: importlib_metadata>=4.13.0 in /usr/local/lib/python3.11/dist-packages (from dask) (8.7.0)\n",
            "Requirement already satisfied: zipp>=3.20 in /usr/local/lib/python3.11/dist-packages (from importlib_metadata>=4.13.0->dask) (3.23.0)\n",
            "Requirement already satisfied: locket in /usr/local/lib/python3.11/dist-packages (from partd>=1.4.0->dask) (1.0.0)\n"
          ]
        }
      ]
    },
    {
      "cell_type": "code",
      "source": [
        "import dask.dataframe as dd\n",
        "\n",
        "# Load the superstore.csv file\n",
        "df = dd.read_csv('superstore.csv')\n",
        "\n",
        "# View structure (just like .info())\n",
        "df.head()  # Only previews a few rows\n"
      ],
      "metadata": {
        "colab": {
          "base_uri": "https://localhost:8080/",
          "height": 206
        },
        "id": "Jn0-lTGN5M7-",
        "outputId": "2786424f-d9ff-4a86-a3c5-acfae45b4030"
      },
      "execution_count": 23,
      "outputs": [
        {
          "output_type": "execute_result",
          "data": {
            "text/plain": [
              "   OrderID   OrderDate Customer      Segment Region   Product  \\\n",
              "0  CA-1001  2023-01-15     Ravi     Consumer  South    Laptop   \n",
              "1  CA-1002  2023-02-20    Priya    Corporate  North   Printer   \n",
              "2  CA-1003  2023-01-25     Amit     Consumer   East  Notebook   \n",
              "3  CA-1004  2023-03-01    Anita  Home Office   West     Table   \n",
              "4  CA-1005  2023-02-05    Divya     Consumer  South     Phone   \n",
              "\n",
              "          Category  SubCategory  Quantity  UnitPrice  Discount  Profit  \n",
              "0       Technology    Computers         1      55000      0.10    5000  \n",
              "1       Technology  Peripherals         2      12000      0.15    1800  \n",
              "2  Office Supplies        Paper         3        200      0.05     150  \n",
              "3        Furniture       Tables         1      18000      0.20   -1500  \n",
              "4       Technology       Phones         2      20000      0.00    3000  "
            ],
            "text/html": [
              "\n",
              "  <div id=\"df-7d508176-013a-45f3-8aed-72c4465e11ec\" class=\"colab-df-container\">\n",
              "    <div>\n",
              "<style scoped>\n",
              "    .dataframe tbody tr th:only-of-type {\n",
              "        vertical-align: middle;\n",
              "    }\n",
              "\n",
              "    .dataframe tbody tr th {\n",
              "        vertical-align: top;\n",
              "    }\n",
              "\n",
              "    .dataframe thead th {\n",
              "        text-align: right;\n",
              "    }\n",
              "</style>\n",
              "<table border=\"1\" class=\"dataframe\">\n",
              "  <thead>\n",
              "    <tr style=\"text-align: right;\">\n",
              "      <th></th>\n",
              "      <th>OrderID</th>\n",
              "      <th>OrderDate</th>\n",
              "      <th>Customer</th>\n",
              "      <th>Segment</th>\n",
              "      <th>Region</th>\n",
              "      <th>Product</th>\n",
              "      <th>Category</th>\n",
              "      <th>SubCategory</th>\n",
              "      <th>Quantity</th>\n",
              "      <th>UnitPrice</th>\n",
              "      <th>Discount</th>\n",
              "      <th>Profit</th>\n",
              "    </tr>\n",
              "  </thead>\n",
              "  <tbody>\n",
              "    <tr>\n",
              "      <th>0</th>\n",
              "      <td>CA-1001</td>\n",
              "      <td>2023-01-15</td>\n",
              "      <td>Ravi</td>\n",
              "      <td>Consumer</td>\n",
              "      <td>South</td>\n",
              "      <td>Laptop</td>\n",
              "      <td>Technology</td>\n",
              "      <td>Computers</td>\n",
              "      <td>1</td>\n",
              "      <td>55000</td>\n",
              "      <td>0.10</td>\n",
              "      <td>5000</td>\n",
              "    </tr>\n",
              "    <tr>\n",
              "      <th>1</th>\n",
              "      <td>CA-1002</td>\n",
              "      <td>2023-02-20</td>\n",
              "      <td>Priya</td>\n",
              "      <td>Corporate</td>\n",
              "      <td>North</td>\n",
              "      <td>Printer</td>\n",
              "      <td>Technology</td>\n",
              "      <td>Peripherals</td>\n",
              "      <td>2</td>\n",
              "      <td>12000</td>\n",
              "      <td>0.15</td>\n",
              "      <td>1800</td>\n",
              "    </tr>\n",
              "    <tr>\n",
              "      <th>2</th>\n",
              "      <td>CA-1003</td>\n",
              "      <td>2023-01-25</td>\n",
              "      <td>Amit</td>\n",
              "      <td>Consumer</td>\n",
              "      <td>East</td>\n",
              "      <td>Notebook</td>\n",
              "      <td>Office Supplies</td>\n",
              "      <td>Paper</td>\n",
              "      <td>3</td>\n",
              "      <td>200</td>\n",
              "      <td>0.05</td>\n",
              "      <td>150</td>\n",
              "    </tr>\n",
              "    <tr>\n",
              "      <th>3</th>\n",
              "      <td>CA-1004</td>\n",
              "      <td>2023-03-01</td>\n",
              "      <td>Anita</td>\n",
              "      <td>Home Office</td>\n",
              "      <td>West</td>\n",
              "      <td>Table</td>\n",
              "      <td>Furniture</td>\n",
              "      <td>Tables</td>\n",
              "      <td>1</td>\n",
              "      <td>18000</td>\n",
              "      <td>0.20</td>\n",
              "      <td>-1500</td>\n",
              "    </tr>\n",
              "    <tr>\n",
              "      <th>4</th>\n",
              "      <td>CA-1005</td>\n",
              "      <td>2023-02-05</td>\n",
              "      <td>Divya</td>\n",
              "      <td>Consumer</td>\n",
              "      <td>South</td>\n",
              "      <td>Phone</td>\n",
              "      <td>Technology</td>\n",
              "      <td>Phones</td>\n",
              "      <td>2</td>\n",
              "      <td>20000</td>\n",
              "      <td>0.00</td>\n",
              "      <td>3000</td>\n",
              "    </tr>\n",
              "  </tbody>\n",
              "</table>\n",
              "</div>\n",
              "    <div class=\"colab-df-buttons\">\n",
              "\n",
              "  <div class=\"colab-df-container\">\n",
              "    <button class=\"colab-df-convert\" onclick=\"convertToInteractive('df-7d508176-013a-45f3-8aed-72c4465e11ec')\"\n",
              "            title=\"Convert this dataframe to an interactive table.\"\n",
              "            style=\"display:none;\">\n",
              "\n",
              "  <svg xmlns=\"http://www.w3.org/2000/svg\" height=\"24px\" viewBox=\"0 -960 960 960\">\n",
              "    <path d=\"M120-120v-720h720v720H120Zm60-500h600v-160H180v160Zm220 220h160v-160H400v160Zm0 220h160v-160H400v160ZM180-400h160v-160H180v160Zm440 0h160v-160H620v160ZM180-180h160v-160H180v160Zm440 0h160v-160H620v160Z\"/>\n",
              "  </svg>\n",
              "    </button>\n",
              "\n",
              "  <style>\n",
              "    .colab-df-container {\n",
              "      display:flex;\n",
              "      gap: 12px;\n",
              "    }\n",
              "\n",
              "    .colab-df-convert {\n",
              "      background-color: #E8F0FE;\n",
              "      border: none;\n",
              "      border-radius: 50%;\n",
              "      cursor: pointer;\n",
              "      display: none;\n",
              "      fill: #1967D2;\n",
              "      height: 32px;\n",
              "      padding: 0 0 0 0;\n",
              "      width: 32px;\n",
              "    }\n",
              "\n",
              "    .colab-df-convert:hover {\n",
              "      background-color: #E2EBFA;\n",
              "      box-shadow: 0px 1px 2px rgba(60, 64, 67, 0.3), 0px 1px 3px 1px rgba(60, 64, 67, 0.15);\n",
              "      fill: #174EA6;\n",
              "    }\n",
              "\n",
              "    .colab-df-buttons div {\n",
              "      margin-bottom: 4px;\n",
              "    }\n",
              "\n",
              "    [theme=dark] .colab-df-convert {\n",
              "      background-color: #3B4455;\n",
              "      fill: #D2E3FC;\n",
              "    }\n",
              "\n",
              "    [theme=dark] .colab-df-convert:hover {\n",
              "      background-color: #434B5C;\n",
              "      box-shadow: 0px 1px 3px 1px rgba(0, 0, 0, 0.15);\n",
              "      filter: drop-shadow(0px 1px 2px rgba(0, 0, 0, 0.3));\n",
              "      fill: #FFFFFF;\n",
              "    }\n",
              "  </style>\n",
              "\n",
              "    <script>\n",
              "      const buttonEl =\n",
              "        document.querySelector('#df-7d508176-013a-45f3-8aed-72c4465e11ec button.colab-df-convert');\n",
              "      buttonEl.style.display =\n",
              "        google.colab.kernel.accessAllowed ? 'block' : 'none';\n",
              "\n",
              "      async function convertToInteractive(key) {\n",
              "        const element = document.querySelector('#df-7d508176-013a-45f3-8aed-72c4465e11ec');\n",
              "        const dataTable =\n",
              "          await google.colab.kernel.invokeFunction('convertToInteractive',\n",
              "                                                    [key], {});\n",
              "        if (!dataTable) return;\n",
              "\n",
              "        const docLinkHtml = 'Like what you see? Visit the ' +\n",
              "          '<a target=\"_blank\" href=https://colab.research.google.com/notebooks/data_table.ipynb>data table notebook</a>'\n",
              "          + ' to learn more about interactive tables.';\n",
              "        element.innerHTML = '';\n",
              "        dataTable['output_type'] = 'display_data';\n",
              "        await google.colab.output.renderOutput(dataTable, element);\n",
              "        const docLink = document.createElement('div');\n",
              "        docLink.innerHTML = docLinkHtml;\n",
              "        element.appendChild(docLink);\n",
              "      }\n",
              "    </script>\n",
              "  </div>\n",
              "\n",
              "\n",
              "    <div id=\"df-44518c61-169f-4953-a033-2428d684fbeb\">\n",
              "      <button class=\"colab-df-quickchart\" onclick=\"quickchart('df-44518c61-169f-4953-a033-2428d684fbeb')\"\n",
              "                title=\"Suggest charts\"\n",
              "                style=\"display:none;\">\n",
              "\n",
              "<svg xmlns=\"http://www.w3.org/2000/svg\" height=\"24px\"viewBox=\"0 0 24 24\"\n",
              "     width=\"24px\">\n",
              "    <g>\n",
              "        <path d=\"M19 3H5c-1.1 0-2 .9-2 2v14c0 1.1.9 2 2 2h14c1.1 0 2-.9 2-2V5c0-1.1-.9-2-2-2zM9 17H7v-7h2v7zm4 0h-2V7h2v10zm4 0h-2v-4h2v4z\"/>\n",
              "    </g>\n",
              "</svg>\n",
              "      </button>\n",
              "\n",
              "<style>\n",
              "  .colab-df-quickchart {\n",
              "      --bg-color: #E8F0FE;\n",
              "      --fill-color: #1967D2;\n",
              "      --hover-bg-color: #E2EBFA;\n",
              "      --hover-fill-color: #174EA6;\n",
              "      --disabled-fill-color: #AAA;\n",
              "      --disabled-bg-color: #DDD;\n",
              "  }\n",
              "\n",
              "  [theme=dark] .colab-df-quickchart {\n",
              "      --bg-color: #3B4455;\n",
              "      --fill-color: #D2E3FC;\n",
              "      --hover-bg-color: #434B5C;\n",
              "      --hover-fill-color: #FFFFFF;\n",
              "      --disabled-bg-color: #3B4455;\n",
              "      --disabled-fill-color: #666;\n",
              "  }\n",
              "\n",
              "  .colab-df-quickchart {\n",
              "    background-color: var(--bg-color);\n",
              "    border: none;\n",
              "    border-radius: 50%;\n",
              "    cursor: pointer;\n",
              "    display: none;\n",
              "    fill: var(--fill-color);\n",
              "    height: 32px;\n",
              "    padding: 0;\n",
              "    width: 32px;\n",
              "  }\n",
              "\n",
              "  .colab-df-quickchart:hover {\n",
              "    background-color: var(--hover-bg-color);\n",
              "    box-shadow: 0 1px 2px rgba(60, 64, 67, 0.3), 0 1px 3px 1px rgba(60, 64, 67, 0.15);\n",
              "    fill: var(--button-hover-fill-color);\n",
              "  }\n",
              "\n",
              "  .colab-df-quickchart-complete:disabled,\n",
              "  .colab-df-quickchart-complete:disabled:hover {\n",
              "    background-color: var(--disabled-bg-color);\n",
              "    fill: var(--disabled-fill-color);\n",
              "    box-shadow: none;\n",
              "  }\n",
              "\n",
              "  .colab-df-spinner {\n",
              "    border: 2px solid var(--fill-color);\n",
              "    border-color: transparent;\n",
              "    border-bottom-color: var(--fill-color);\n",
              "    animation:\n",
              "      spin 1s steps(1) infinite;\n",
              "  }\n",
              "\n",
              "  @keyframes spin {\n",
              "    0% {\n",
              "      border-color: transparent;\n",
              "      border-bottom-color: var(--fill-color);\n",
              "      border-left-color: var(--fill-color);\n",
              "    }\n",
              "    20% {\n",
              "      border-color: transparent;\n",
              "      border-left-color: var(--fill-color);\n",
              "      border-top-color: var(--fill-color);\n",
              "    }\n",
              "    30% {\n",
              "      border-color: transparent;\n",
              "      border-left-color: var(--fill-color);\n",
              "      border-top-color: var(--fill-color);\n",
              "      border-right-color: var(--fill-color);\n",
              "    }\n",
              "    40% {\n",
              "      border-color: transparent;\n",
              "      border-right-color: var(--fill-color);\n",
              "      border-top-color: var(--fill-color);\n",
              "    }\n",
              "    60% {\n",
              "      border-color: transparent;\n",
              "      border-right-color: var(--fill-color);\n",
              "    }\n",
              "    80% {\n",
              "      border-color: transparent;\n",
              "      border-right-color: var(--fill-color);\n",
              "      border-bottom-color: var(--fill-color);\n",
              "    }\n",
              "    90% {\n",
              "      border-color: transparent;\n",
              "      border-bottom-color: var(--fill-color);\n",
              "    }\n",
              "  }\n",
              "</style>\n",
              "\n",
              "      <script>\n",
              "        async function quickchart(key) {\n",
              "          const quickchartButtonEl =\n",
              "            document.querySelector('#' + key + ' button');\n",
              "          quickchartButtonEl.disabled = true;  // To prevent multiple clicks.\n",
              "          quickchartButtonEl.classList.add('colab-df-spinner');\n",
              "          try {\n",
              "            const charts = await google.colab.kernel.invokeFunction(\n",
              "                'suggestCharts', [key], {});\n",
              "          } catch (error) {\n",
              "            console.error('Error during call to suggestCharts:', error);\n",
              "          }\n",
              "          quickchartButtonEl.classList.remove('colab-df-spinner');\n",
              "          quickchartButtonEl.classList.add('colab-df-quickchart-complete');\n",
              "        }\n",
              "        (() => {\n",
              "          let quickchartButtonEl =\n",
              "            document.querySelector('#df-44518c61-169f-4953-a033-2428d684fbeb button');\n",
              "          quickchartButtonEl.style.display =\n",
              "            google.colab.kernel.accessAllowed ? 'block' : 'none';\n",
              "        })();\n",
              "      </script>\n",
              "    </div>\n",
              "\n",
              "    </div>\n",
              "  </div>\n"
            ],
            "application/vnd.google.colaboratory.intrinsic+json": {
              "type": "dataframe",
              "summary": "{\n  \"name\": \"df\",\n  \"rows\": 5,\n  \"fields\": [\n    {\n      \"column\": \"OrderID\",\n      \"properties\": {\n        \"dtype\": \"string\",\n        \"num_unique_values\": 5,\n        \"samples\": [\n          \"CA-1002\",\n          \"CA-1005\",\n          \"CA-1003\"\n        ],\n        \"semantic_type\": \"\",\n        \"description\": \"\"\n      }\n    },\n    {\n      \"column\": \"OrderDate\",\n      \"properties\": {\n        \"dtype\": \"string\",\n        \"num_unique_values\": 5,\n        \"samples\": [\n          \"2023-02-20\",\n          \"2023-02-05\",\n          \"2023-01-25\"\n        ],\n        \"semantic_type\": \"\",\n        \"description\": \"\"\n      }\n    },\n    {\n      \"column\": \"Customer\",\n      \"properties\": {\n        \"dtype\": \"string\",\n        \"num_unique_values\": 5,\n        \"samples\": [\n          \"Priya\",\n          \"Divya\",\n          \"Amit\"\n        ],\n        \"semantic_type\": \"\",\n        \"description\": \"\"\n      }\n    },\n    {\n      \"column\": \"Segment\",\n      \"properties\": {\n        \"dtype\": \"string\",\n        \"num_unique_values\": 3,\n        \"samples\": [\n          \"Consumer\",\n          \"Corporate\",\n          \"Home Office\"\n        ],\n        \"semantic_type\": \"\",\n        \"description\": \"\"\n      }\n    },\n    {\n      \"column\": \"Region\",\n      \"properties\": {\n        \"dtype\": \"string\",\n        \"num_unique_values\": 4,\n        \"samples\": [\n          \"North\",\n          \"West\",\n          \"South\"\n        ],\n        \"semantic_type\": \"\",\n        \"description\": \"\"\n      }\n    },\n    {\n      \"column\": \"Product\",\n      \"properties\": {\n        \"dtype\": \"string\",\n        \"num_unique_values\": 5,\n        \"samples\": [\n          \"Printer\",\n          \"Phone\",\n          \"Notebook\"\n        ],\n        \"semantic_type\": \"\",\n        \"description\": \"\"\n      }\n    },\n    {\n      \"column\": \"Category\",\n      \"properties\": {\n        \"dtype\": \"string\",\n        \"num_unique_values\": 3,\n        \"samples\": [\n          \"Technology\",\n          \"Office Supplies\",\n          \"Furniture\"\n        ],\n        \"semantic_type\": \"\",\n        \"description\": \"\"\n      }\n    },\n    {\n      \"column\": \"SubCategory\",\n      \"properties\": {\n        \"dtype\": \"string\",\n        \"num_unique_values\": 5,\n        \"samples\": [\n          \"Peripherals\",\n          \"Phones\",\n          \"Paper\"\n        ],\n        \"semantic_type\": \"\",\n        \"description\": \"\"\n      }\n    },\n    {\n      \"column\": \"Quantity\",\n      \"properties\": {\n        \"dtype\": \"number\",\n        \"std\": 0,\n        \"min\": 1,\n        \"max\": 3,\n        \"num_unique_values\": 3,\n        \"samples\": [\n          1,\n          2,\n          3\n        ],\n        \"semantic_type\": \"\",\n        \"description\": \"\"\n      }\n    },\n    {\n      \"column\": \"UnitPrice\",\n      \"properties\": {\n        \"dtype\": \"number\",\n        \"std\": 20491,\n        \"min\": 200,\n        \"max\": 55000,\n        \"num_unique_values\": 5,\n        \"samples\": [\n          12000,\n          20000,\n          200\n        ],\n        \"semantic_type\": \"\",\n        \"description\": \"\"\n      }\n    },\n    {\n      \"column\": \"Discount\",\n      \"properties\": {\n        \"dtype\": \"number\",\n        \"std\": 0.07905694150420949,\n        \"min\": 0.0,\n        \"max\": 0.2,\n        \"num_unique_values\": 5,\n        \"samples\": [\n          0.15,\n          0.0,\n          0.05\n        ],\n        \"semantic_type\": \"\",\n        \"description\": \"\"\n      }\n    },\n    {\n      \"column\": \"Profit\",\n      \"properties\": {\n        \"dtype\": \"number\",\n        \"std\": 2511,\n        \"min\": -1500,\n        \"max\": 5000,\n        \"num_unique_values\": 5,\n        \"samples\": [\n          1800,\n          3000,\n          150\n        ],\n        \"semantic_type\": \"\",\n        \"description\": \"\"\n      }\n    }\n  ]\n}"
            }
          },
          "metadata": {},
          "execution_count": 23
        }
      ]
    },
    {
      "cell_type": "code",
      "source": [
        "avg_discount = df.groupby(\"Category\")[\"Discount\"].mean().compute()\n",
        "print(\" Average Discount by Category:\\n\")\n",
        "print(avg_discount)\n"
      ],
      "metadata": {
        "colab": {
          "base_uri": "https://localhost:8080/"
        },
        "id": "uobc271u5Pcj",
        "outputId": "2ab24214-67fa-4ea2-f227-26589305530f"
      },
      "execution_count": 24,
      "outputs": [
        {
          "output_type": "stream",
          "name": "stdout",
          "text": [
            " Average Discount by Category:\n",
            "\n",
            "Category\n",
            "Furniture          0.200000\n",
            "Office Supplies    0.050000\n",
            "Technology         0.083333\n",
            "Name: Discount, dtype: float64\n"
          ]
        }
      ]
    },
    {
      "cell_type": "code",
      "source": [
        "filtered = df[(df[\"Quantity\"] > 1) & (df[\"Profit\"] > 2000)]\n",
        "filtered_df = filtered.compute()\n",
        "\n",
        "print(\" Filtered Orders (Quantity > 1 and Profit > 2000):\\n\")\n",
        "print(filtered_df)\n"
      ],
      "metadata": {
        "colab": {
          "base_uri": "https://localhost:8080/"
        },
        "id": "hcZ7QusU5Rlx",
        "outputId": "fc602c55-ca8a-448b-d21e-de3b9a03f1e8"
      },
      "execution_count": 25,
      "outputs": [
        {
          "output_type": "stream",
          "name": "stdout",
          "text": [
            " Filtered Orders (Quantity > 1 and Profit > 2000):\n",
            "\n",
            "   OrderID   OrderDate Customer   Segment Region Product    Category  \\\n",
            "4  CA-1005  2023-02-05    Divya  Consumer  South   Phone  Technology   \n",
            "\n",
            "  SubCategory  Quantity  UnitPrice  Discount  Profit  \n",
            "4      Phones         2      20000       0.0    3000  \n"
          ]
        }
      ]
    },
    {
      "cell_type": "code",
      "source": [
        "filtered_df.to_csv(\"filtered_superstore.csv\", index=False)\n",
        "print(\" Saved as filtered_superstore.csv\")\n"
      ],
      "metadata": {
        "colab": {
          "base_uri": "https://localhost:8080/"
        },
        "id": "Q_0hVmAg5Tic",
        "outputId": "40a3ed4c-0c9a-435e-81b2-89026b4bfc78"
      },
      "execution_count": 26,
      "outputs": [
        {
          "output_type": "stream",
          "name": "stdout",
          "text": [
            " Saved as filtered_superstore.csv\n"
          ]
        }
      ]
    },
    {
      "cell_type": "code",
      "source": [
        "from google.colab import files\n",
        "files.download(\"filtered_superstore.csv\")\n"
      ],
      "metadata": {
        "colab": {
          "base_uri": "https://localhost:8080/",
          "height": 17
        },
        "id": "wi5fEh715ZMR",
        "outputId": "c49c2e70-5eeb-4f4b-9f3b-10262b3caf67"
      },
      "execution_count": 27,
      "outputs": [
        {
          "output_type": "display_data",
          "data": {
            "text/plain": [
              "<IPython.core.display.Javascript object>"
            ],
            "application/javascript": [
              "\n",
              "    async function download(id, filename, size) {\n",
              "      if (!google.colab.kernel.accessAllowed) {\n",
              "        return;\n",
              "      }\n",
              "      const div = document.createElement('div');\n",
              "      const label = document.createElement('label');\n",
              "      label.textContent = `Downloading \"${filename}\": `;\n",
              "      div.appendChild(label);\n",
              "      const progress = document.createElement('progress');\n",
              "      progress.max = size;\n",
              "      div.appendChild(progress);\n",
              "      document.body.appendChild(div);\n",
              "\n",
              "      const buffers = [];\n",
              "      let downloaded = 0;\n",
              "\n",
              "      const channel = await google.colab.kernel.comms.open(id);\n",
              "      // Send a message to notify the kernel that we're ready.\n",
              "      channel.send({})\n",
              "\n",
              "      for await (const message of channel.messages) {\n",
              "        // Send a message to notify the kernel that we're ready.\n",
              "        channel.send({})\n",
              "        if (message.buffers) {\n",
              "          for (const buffer of message.buffers) {\n",
              "            buffers.push(buffer);\n",
              "            downloaded += buffer.byteLength;\n",
              "            progress.value = downloaded;\n",
              "          }\n",
              "        }\n",
              "      }\n",
              "      const blob = new Blob(buffers, {type: 'application/binary'});\n",
              "      const a = document.createElement('a');\n",
              "      a.href = window.URL.createObjectURL(blob);\n",
              "      a.download = filename;\n",
              "      div.appendChild(a);\n",
              "      a.click();\n",
              "      div.remove();\n",
              "    }\n",
              "  "
            ]
          },
          "metadata": {}
        },
        {
          "output_type": "display_data",
          "data": {
            "text/plain": [
              "<IPython.core.display.Javascript object>"
            ],
            "application/javascript": [
              "download(\"download_b85938a2-5fb2-4955-a33d-491fcc118030\", \"filtered_superstore.csv\", 187)"
            ]
          },
          "metadata": {}
        }
      ]
    },
    {
      "cell_type": "code",
      "source": [
        "# Step 1: Create nested JSON content\n",
        "json_data = \"\"\"\n",
        "[\n",
        "  {\n",
        "    \"OrderID\": \"CA-1001\",\n",
        "    \"Customer\": {\"Name\": \"Ravi\", \"Segment\": \"Consumer\"},\n",
        "    \"Details\": {\"Region\": \"South\", \"Profit\": 5000}\n",
        "  },\n",
        "  {\n",
        "    \"OrderID\": \"CA-1002\",\n",
        "    \"Customer\": {\"Name\": \"Priya\", \"Segment\": \"Corporate\"},\n",
        "    \"Details\": {\"Region\": \"North\", \"Profit\": 1800}\n",
        "  }\n",
        "]\n",
        "\"\"\"\n",
        "\n",
        "# Save the JSON to a file\n",
        "with open(\"orders.json\", \"w\") as f:\n",
        "    f.write(json_data)\n"
      ],
      "metadata": {
        "id": "XEU2A6yr6DfA"
      },
      "execution_count": 28,
      "outputs": []
    },
    {
      "cell_type": "code",
      "source": [
        "# Step 2: Load JSON using PySpark\n",
        "df_json = spark.read.option(\"multiLine\", True).json(\"orders.json\")\n",
        "\n",
        "# Print schema to see nested structure\n",
        "df_json.printSchema()\n",
        "\n",
        "# Select nested fields\n",
        "df_json.select(\"OrderID\", \"Customer.Name\", \"Details.Profit\").show()\n"
      ],
      "metadata": {
        "colab": {
          "base_uri": "https://localhost:8080/"
        },
        "id": "N0e7liYM6FjB",
        "outputId": "df39be0b-5e76-4e47-e675-4a30be3fdd9c"
      },
      "execution_count": 29,
      "outputs": [
        {
          "output_type": "stream",
          "name": "stdout",
          "text": [
            "root\n",
            " |-- Customer: struct (nullable = true)\n",
            " |    |-- Name: string (nullable = true)\n",
            " |    |-- Segment: string (nullable = true)\n",
            " |-- Details: struct (nullable = true)\n",
            " |    |-- Profit: long (nullable = true)\n",
            " |    |-- Region: string (nullable = true)\n",
            " |-- OrderID: string (nullable = true)\n",
            "\n",
            "+-------+-----+------+\n",
            "|OrderID| Name|Profit|\n",
            "+-------+-----+------+\n",
            "|CA-1001| Ravi|  5000|\n",
            "|CA-1002|Priya|  1800|\n",
            "+-------+-----+------+\n",
            "\n"
          ]
        }
      ]
    }
  ]
}