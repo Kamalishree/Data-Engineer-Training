{
  "nbformat": 4,
  "nbformat_minor": 0,
  "metadata": {
    "colab": {
      "provenance": []
    },
    "kernelspec": {
      "name": "python3",
      "display_name": "Python 3"
    },
    "language_info": {
      "name": "python"
    }
  },
  "cells": [
    {
      "cell_type": "code",
      "execution_count": 1,
      "metadata": {
        "id": "ht4df79WKIF1"
      },
      "outputs": [],
      "source": [
        "students = [\n",
        "    [\"Ravi\", [85, 72, 90]],\n",
        "    [\"Sneha\", [95, 88, 92]],\n",
        "    [\"Kabir\", [65, 70, 60]],\n",
        "    [\"Anita\", [75, 80, 78]]\n",
        "]\n"
      ]
    },
    {
      "cell_type": "code",
      "source": [
        "print(\"Ravi's second mark:\", students[0][1][1])\n",
        "\n",
        "print(\"\\nAverage marks:\")\n",
        "for student in students:\n",
        "    name = student[0]\n",
        "    marks = student[1]\n",
        "    avg = sum(marks) / len(marks)\n",
        "    print(f\"{name}: {avg:.2f}\")\n",
        "print(\"\\nStudents with all marks above 80:\")\n",
        "\n",
        "for name, marks in students:\n",
        "    if all(mark > 80 for mark in marks):\n",
        "        print(name)\n",
        "\n",
        "average_list = [[name, sum(marks)/len(marks)] for name, marks in students]\n",
        "print(\"\\nNew list with averages:\")\n",
        "print(average_list)\n"
      ],
      "metadata": {
        "colab": {
          "base_uri": "https://localhost:8080/"
        },
        "id": "wAht_x7tKRHo",
        "outputId": "2f5e7f45-3633-4556-c8e9-b73083b1034a"
      },
      "execution_count": 3,
      "outputs": [
        {
          "output_type": "stream",
          "name": "stdout",
          "text": [
            "Ravi's second mark: 72\n",
            "\n",
            "Average marks:\n",
            "Ravi: 82.33\n",
            "Sneha: 91.67\n",
            "Kabir: 65.00\n",
            "Anita: 77.67\n",
            "\n",
            "Students with all marks above 80:\n",
            "Sneha\n",
            "\n",
            "New list with averages:\n",
            "[['Ravi', 82.33333333333333], ['Sneha', 91.66666666666667], ['Kabir', 65.0], ['Anita', 77.66666666666667]]\n"
          ]
        }
      ]
    },
    {
      "cell_type": "code",
      "source": [
        "data = {\n",
        "    \"products\": [\"Mobile\", \"Laptop\", \"Tablet\", \"Camera\"],\n",
        "    \"prices\": [12000, 55000, 18000, 25000],\n",
        "    \"ratings\": [4.5, 4.7, 4.0, 4.2]\n",
        "}\n"
      ],
      "metadata": {
        "id": "f5Mqj2m-LBoN"
      },
      "execution_count": 4,
      "outputs": []
    },
    {
      "cell_type": "code",
      "source": [
        "product_list = [\n",
        "    {\"name\": name, \"price\": price, \"rating\": rating}\n",
        "    for name, price, rating in zip(data[\"products\"], data[\"prices\"], data[\"ratings\"])\n",
        "]\n",
        "\n",
        "print(\" Product List of Dictionaries:\")\n",
        "for item in product_list:\n",
        "    print(item)\n",
        "\n",
        "filtered_products = [\n",
        "    product for product in product_list\n",
        "    if product[\"price\"] > 20000 and product[\"rating\"] >= 4.5\n",
        "]\n",
        "\n",
        "print(\"\\n Filtered Products (Price > 20000 & Rating ≥ 4.5):\")\n",
        "for item in filtered_products:\n",
        "    print(item)\n",
        "\n",
        "sorted_by_rating = sorted(product_list, key=lambda x: x[\"rating\"], reverse=True)\n",
        "\n",
        "print(\"\\n Products Sorted by Rating (High to Low):\")\n",
        "for item in sorted_by_rating:\n",
        "    print(item)\n"
      ],
      "metadata": {
        "colab": {
          "base_uri": "https://localhost:8080/"
        },
        "id": "aHex_8Q8LEoF",
        "outputId": "197f635f-6dd5-42df-bdc7-669f8634fb93"
      },
      "execution_count": 5,
      "outputs": [
        {
          "output_type": "stream",
          "name": "stdout",
          "text": [
            " Product List of Dictionaries:\n",
            "{'name': 'Mobile', 'price': 12000, 'rating': 4.5}\n",
            "{'name': 'Laptop', 'price': 55000, 'rating': 4.7}\n",
            "{'name': 'Tablet', 'price': 18000, 'rating': 4.0}\n",
            "{'name': 'Camera', 'price': 25000, 'rating': 4.2}\n",
            "\n",
            " Filtered Products (Price > 20000 & Rating ≥ 4.5):\n",
            "{'name': 'Laptop', 'price': 55000, 'rating': 4.7}\n",
            "\n",
            " Products Sorted by Rating (High to Low):\n",
            "{'name': 'Laptop', 'price': 55000, 'rating': 4.7}\n",
            "{'name': 'Mobile', 'price': 12000, 'rating': 4.5}\n",
            "{'name': 'Camera', 'price': 25000, 'rating': 4.2}\n",
            "{'name': 'Tablet', 'price': 18000, 'rating': 4.0}\n"
          ]
        }
      ]
    },
    {
      "cell_type": "code",
      "source": [
        "text = \"ai is the future and ai will change everything in the ai world\"\n",
        "\n",
        "words = text.split()\n",
        "freq_dict = {}\n",
        "\n",
        "for word in words:\n",
        "    freq_dict[word] = freq_dict.get(word, 0) + 1\n",
        "\n",
        "print(\" Word Frequencies:\")\n",
        "for word, count in freq_dict.items():\n",
        "    print(f\"{word}: {count}\")\n",
        "\n",
        "\n",
        "\n",
        "print(\"\\n Words appearing more than once:\")\n",
        "for word, count in freq_dict.items():\n",
        "    if count > 1:\n",
        "        print(word)\n",
        "\n",
        "        unique_words = sorted(set(words))\n",
        "print(\"\\n Sorted Unique Words:\")\n",
        "print(unique_words)\n",
        "\n",
        "set1 = set(words)\n",
        "set2 = {\"ai\", \"ml\", \"data\", \"future\"}\n",
        "\n",
        "common_words = set1 & set2\n",
        "\n",
        "print(\"\\n Common Words Between Sets:\")\n",
        "print(common_words)\n",
        "\n",
        "\n"
      ],
      "metadata": {
        "colab": {
          "base_uri": "https://localhost:8080/"
        },
        "id": "Aw2Q9Fr0LhmD",
        "outputId": "0f0f75a2-3516-47c7-f32c-4a120559cbeb"
      },
      "execution_count": 6,
      "outputs": [
        {
          "output_type": "stream",
          "name": "stdout",
          "text": [
            " Word Frequencies:\n",
            "ai: 3\n",
            "is: 1\n",
            "the: 2\n",
            "future: 1\n",
            "and: 1\n",
            "will: 1\n",
            "change: 1\n",
            "everything: 1\n",
            "in: 1\n",
            "world: 1\n",
            "\n",
            " Words appearing more than once:\n",
            "ai\n",
            "the\n",
            "\n",
            " Sorted Unique Words:\n",
            "['ai', 'and', 'change', 'everything', 'future', 'in', 'is', 'the', 'will', 'world']\n",
            "\n",
            " Common Words Between Sets:\n",
            "{'ai', 'future'}\n"
          ]
        }
      ]
    },
    {
      "cell_type": "code",
      "source": [
        "sales = {\n",
        "    'Amit': 70000,\n",
        "    'Sneha': 45000,\n",
        "    'Ravi': 30000,\n",
        "    'Anita': 90000,\n",
        "    'Kabir': 20000\n",
        "}\n",
        "\n",
        "\n",
        "bonus_sales = {name: sale + sale * 0.10 for name, sale in sales.items()}\n",
        "\n",
        "print(\" Sales with 10% Bonus:\")\n",
        "print(bonus_sales)\n",
        "\n",
        "\n",
        "high_sales = {name: sale for name, sale in sales.items() if sale > 50000}\n",
        "\n",
        "print(\"\\n Sales > 50,000:\")\n",
        "print(high_sales)\n",
        "\n",
        "\n",
        "labels = {\n",
        "    name: (\n",
        "        \"High\" if sale >= 75000 else\n",
        "        \"Medium\" if sale >= 40000 else\n",
        "        \"Low\"\n",
        "    )\n",
        "    for name, sale in sales.items()\n",
        "}\n",
        "\n",
        "print(\"\\n Sales Labels (High/Medium/Low):\")\n",
        "print(labels)\n"
      ],
      "metadata": {
        "colab": {
          "base_uri": "https://localhost:8080/"
        },
        "id": "o2rCQmAhMCQl",
        "outputId": "c8d3fcfb-98ae-47d3-d706-633fe0b29d23"
      },
      "execution_count": 7,
      "outputs": [
        {
          "output_type": "stream",
          "name": "stdout",
          "text": [
            " Sales with 10% Bonus:\n",
            "{'Amit': 77000.0, 'Sneha': 49500.0, 'Ravi': 33000.0, 'Anita': 99000.0, 'Kabir': 22000.0}\n",
            "\n",
            " Sales > 50,000:\n",
            "{'Amit': 70000, 'Anita': 90000}\n",
            "\n",
            " Sales Labels (High/Medium/Low):\n",
            "{'Amit': 'Medium', 'Sneha': 'Medium', 'Ravi': 'Low', 'Anita': 'High', 'Kabir': 'Low'}\n"
          ]
        }
      ]
    },
    {
      "cell_type": "code",
      "source": [
        "names = (\"Ravi\", \"Sneha\", \"Kabir\")\n",
        "marks = (88, 92, 76)\n",
        "\n",
        "\n",
        "student_dict = dict(zip(names, marks))\n",
        "print(\"Dictionary from tuples:\")\n",
        "print(student_dict)\n",
        "\n",
        "\n",
        "print(\"Minimum mark:\", min(marks))\n",
        "print(\"Maximum mark:\", max(marks))\n",
        "\n",
        "\n",
        "\n",
        "marks_set = set(marks)\n",
        "marks_set.add(95)\n",
        "print(\"Updated set of marks:\", marks_set)\n",
        "\n",
        "new_marks_set = {88, 70, 95, 60}\n",
        "merged_set = marks_set.union(new_marks_set)\n",
        "print(\"Merged set (unique elements):\", merged_set)\n"
      ],
      "metadata": {
        "colab": {
          "base_uri": "https://localhost:8080/"
        },
        "id": "7C-CjsK9MR_W",
        "outputId": "6728f05d-0c43-4729-ce51-0c6e7c11d823"
      },
      "execution_count": 8,
      "outputs": [
        {
          "output_type": "stream",
          "name": "stdout",
          "text": [
            "Dictionary from tuples:\n",
            "{'Ravi': 88, 'Sneha': 92, 'Kabir': 76}\n",
            "Minimum mark: 76\n",
            "Maximum mark: 92\n",
            "Updated set of marks: {88, 92, 95, 76}\n",
            "Merged set (unique elements): {70, 76, 60, 88, 92, 95}\n"
          ]
        }
      ]
    },
    {
      "cell_type": "code",
      "source": [
        "employees = {\n",
        "    \"E101\": {\"name\": \"Ravi\", \"dept\": \"Sales\", \"salary\": 50000},\n",
        "    \"E102\": {\"name\": \"Sneha\", \"dept\": \"Engineering\", \"salary\": 80000},\n",
        "    \"E103\": {\"name\": \"Kabir\", \"dept\": \"HR\", \"salary\": 45000}\n",
        "}\n",
        "\n",
        "\n",
        "employees[\"E104\"] = {\"name\": \"Anita\", \"dept\": \"Engineering\", \"salary\": 90000}\n",
        "print(\"After adding E104:\")\n",
        "print(employees)\n",
        "\n",
        "\n",
        "for emp in employees.values():\n",
        "    if emp[\"dept\"] == \"Engineering\":\n",
        "        emp[\"salary\"] = int(emp[\"salary\"] * 1.10)\n",
        "\n",
        "print(\"\\nAfter 10% salary hike for Engineering:\")\n",
        "for k, v in employees.items():\n",
        "    print(k, \"→\", v)\n",
        "\n",
        "\n",
        "from collections import defaultdict\n",
        "\n",
        "dept_salaries = defaultdict(list)\n",
        "\n",
        "for emp in employees.values():\n",
        "    dept_salaries[emp[\"dept\"]].append(emp[\"salary\"])\n",
        "\n",
        "avg_salaries = {dept: sum(salaries)/len(salaries) for dept, salaries in dept_salaries.items()}\n",
        "\n",
        "# Find department with highest avg salary\n",
        "highest_avg_dept = max(avg_salaries, key=avg_salaries.get)\n",
        "\n",
        "print(\"\\nAverage salary by department:\")\n",
        "for dept, avg in avg_salaries.items():\n",
        "    print(f\"{dept}: {avg:.2f}\")\n",
        "\n",
        "print(\"\\nDepartment with highest average salary:\", highest_avg_dept)\n"
      ],
      "metadata": {
        "colab": {
          "base_uri": "https://localhost:8080/"
        },
        "id": "3Rkkl6F1Mf7w",
        "outputId": "f13c6e38-eb93-478d-bc3c-1e05310241a9"
      },
      "execution_count": 9,
      "outputs": [
        {
          "output_type": "stream",
          "name": "stdout",
          "text": [
            "After adding E104:\n",
            "{'E101': {'name': 'Ravi', 'dept': 'Sales', 'salary': 50000}, 'E102': {'name': 'Sneha', 'dept': 'Engineering', 'salary': 80000}, 'E103': {'name': 'Kabir', 'dept': 'HR', 'salary': 45000}, 'E104': {'name': 'Anita', 'dept': 'Engineering', 'salary': 90000}}\n",
            "\n",
            "After 10% salary hike for Engineering:\n",
            "E101 → {'name': 'Ravi', 'dept': 'Sales', 'salary': 50000}\n",
            "E102 → {'name': 'Sneha', 'dept': 'Engineering', 'salary': 88000}\n",
            "E103 → {'name': 'Kabir', 'dept': 'HR', 'salary': 45000}\n",
            "E104 → {'name': 'Anita', 'dept': 'Engineering', 'salary': 99000}\n",
            "\n",
            "Average salary by department:\n",
            "Sales: 50000.00\n",
            "Engineering: 93500.00\n",
            "HR: 45000.00\n",
            "\n",
            "Department with highest average salary: Engineering\n"
          ]
        }
      ]
    }
  ]
}