{
  "nbformat": 4,
  "nbformat_minor": 0,
  "metadata": {
    "colab": {
      "provenance": []
    },
    "kernelspec": {
      "name": "python3",
      "display_name": "Python 3"
    },
    "language_info": {
      "name": "python"
    }
  },
  "cells": [
    {
      "cell_type": "code",
      "source": [
        "# Step 1: Import required libraries\n",
        "import pandas as pd\n",
        "import numpy as np\n",
        "\n",
        "# Step 2: Load the datasets\n",
        "customers_df = pd.read_csv(\"customers.csv\")\n",
        "orders_df = pd.read_csv(\"orders (1).csv\")  # or \"orders.csv\" if renamed\n",
        "delivery_status_df = pd.read_csv(\"delivery_status.csv\")\n",
        "\n",
        "# Step 3: Preprocess date columns\n",
        "orders_df['order_date'] = pd.to_datetime(orders_df['order_date'], errors='coerce')\n",
        "orders_df['delivery_date'] = pd.to_datetime(orders_df['delivery_date'], errors='coerce')\n",
        "delivery_status_df['updated_at'] = pd.to_datetime(delivery_status_df['updated_at'], errors='coerce')\n",
        "\n",
        "# Step 4: Handle missing values and compute delay\n",
        "orders_df['delivery_date'] = orders_df['delivery_date'].fillna(pd.Timestamp.today())\n",
        "orders_df['delay_days'] = (orders_df['delivery_date'] - orders_df['order_date']).dt.days\n",
        "orders_df['is_delayed'] = np.where(orders_df['delay_days'] > 3, 1, 0)\n",
        "\n",
        "# Step 5: Merge orders with customer information\n",
        "merged_df = pd.merge(orders_df, customers_df, on='customer_id', how='left')\n",
        "\n",
        "# Step 6: Analyze delay summary by customer\n",
        "delay_summary = merged_df.groupby(['customer_id', 'customer_name'])['is_delayed'].sum().reset_index()\n",
        "delay_summary = delay_summary.sort_values(by='is_delayed', ascending=False)\n",
        "\n",
        "# Step 7: Save cleaned data\n",
        "orders_df.to_csv(\"cleaned_orders.csv\", index=False)\n",
        "print(\"Cleaned dataset saved as cleaned_orders.csv\")\n",
        "print(\"Delay summary by customer:\")\n",
        "print(delay_summary)\n"
      ],
      "metadata": {
        "colab": {
          "base_uri": "https://localhost:8080/"
        },
        "id": "HibOM9efLv13",
        "outputId": "5b2040a0-e813-4468-9e7e-63eee120c1fb"
      },
      "execution_count": 15,
      "outputs": [
        {
          "output_type": "stream",
          "name": "stdout",
          "text": [
            "Cleaned dataset saved as cleaned_orders.csv\n",
            "Delay summary by customer:\n",
            "   customer_id customer_name  is_delayed\n",
            "0            1    Asha Patel           1\n",
            "1            2  Rohan Sharma           1\n",
            "2            3    Neha Reddy           1\n",
            "3            4   Arjun Mehta           1\n",
            "4            5   Isha Kapoor           1\n"
          ]
        }
      ]
    }
  ]
}