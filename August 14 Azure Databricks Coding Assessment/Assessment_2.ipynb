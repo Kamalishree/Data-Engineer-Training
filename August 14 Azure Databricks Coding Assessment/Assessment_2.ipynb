{
  "nbformat": 4,
  "nbformat_minor": 0,
  "metadata": {
    "colab": {
      "provenance": []
    },
    "kernelspec": {
      "name": "python3",
      "display_name": "Python 3"
    },
    "language_info": {
      "name": "python"
    }
  },
  "cells": [
    {
      "cell_type": "code",
      "execution_count": 3,
      "metadata": {
        "colab": {
          "base_uri": "https://localhost:8080/"
        },
        "id": "T26Tx9jw6dPo",
        "outputId": "8758c560-c6e1-4eec-a3fe-065b7be0bdbe"
      },
      "outputs": [
        {
          "output_type": "stream",
          "name": "stdout",
          "text": [
            "Environment ready & dataset created\n"
          ]
        }
      ],
      "source": [
        "# Install dependencies (Colab only)\n",
        "!pip install pyspark==3.5.0 delta-spark==3.1.0 -q\n",
        "\n",
        "from pyspark.sql import SparkSession\n",
        "from delta import configure_spark_with_delta_pip\n",
        "\n",
        "# Build SparkSession with Delta support\n",
        "builder = (\n",
        "    SparkSession.builder.appName(\"DeltaLakeProject\")\n",
        "    .config(\"spark.sql.extensions\", \"io.delta.sql.DeltaSparkSessionExtension\")\n",
        "    .config(\"spark.sql.catalog.spark_catalog\", \"org.apache.spark.sql.delta.catalog.DeltaCatalog\")\n",
        ")\n",
        "\n",
        "spark = configure_spark_with_delta_pip(builder).getOrCreate()\n",
        "\n",
        "# Create sample ride-hailing dataset\n",
        "data = [\n",
        "    (1, \"John\", \"Sedan\", 15.0, \"2025-08-01\"),\n",
        "    (2, \"Sara\", \"SUV\", 25.0, \"2025-08-02\"),\n",
        "    (3, \"Mike\", \"Sedan\", 18.0, \"2025-08-03\"),\n",
        "    (4, \"Nina\", \"Hatchback\", 12.0, \"2025-08-04\"),\n",
        "]\n",
        "columns = [\"ride_id\", \"driver_name\", \"vehicle_type\", \"fare_amount\", \"ride_date\"]\n",
        "\n",
        "df = spark.createDataFrame(data, columns)\n",
        "\n",
        "# Save as Delta\n",
        "df.write.format(\"delta\").mode(\"overwrite\").save(\"/tmp/rides_delta\")\n",
        "\n",
        "print(\"Environment ready & dataset created\")\n"
      ]
    },
    {
      "cell_type": "code",
      "source": [
        "# Managed table\n",
        "spark.sql(\"DROP TABLE IF EXISTS rides_managed\")\n",
        "spark.sql(\"CREATE TABLE rides_managed USING DELTA LOCATION '/tmp/rides_delta'\")\n",
        "\n",
        "# Unmanaged table\n",
        "spark.sql(\"DROP TABLE IF EXISTS rides_unmanaged\")\n",
        "spark.sql(\"CREATE TABLE rides_unmanaged USING DELTA LOCATION '/tmp/rides_delta'\")\n",
        "\n",
        "print(\" Managed & unmanaged tables created\")\n"
      ],
      "metadata": {
        "colab": {
          "base_uri": "https://localhost:8080/"
        },
        "id": "3AHE3sNU7Dse",
        "outputId": "c546821b-6ffe-468f-e5b7-4c510f21eb70"
      },
      "execution_count": 2,
      "outputs": [
        {
          "output_type": "stream",
          "name": "stdout",
          "text": [
            " Managed & unmanaged tables created\n"
          ]
        }
      ]
    },
    {
      "cell_type": "code",
      "source": [
        "from delta.tables import DeltaTable\n",
        "from pyspark.sql.functions import col\n",
        "\n",
        "deltaTable = DeltaTable.forPath(spark, \"/tmp/rides_delta\")\n",
        "\n",
        "# Update: Increase Sedan fares by 5\n",
        "deltaTable.update(\n",
        "    condition=col(\"vehicle_type\") == \"Sedan\",\n",
        "    set={\"fare_amount\": col(\"fare_amount\") + 5}\n",
        ")\n",
        "\n",
        "# Delete: Remove fares less than 13\n",
        "deltaTable.delete(condition=col(\"fare_amount\") < 13)\n",
        "\n",
        "# Merge new data\n",
        "new_data = [\n",
        "    (3, \"Mike\", \"Sedan\", 30.0, \"2025-08-03\"),  # Updated\n",
        "    (5, \"Alex\", \"SUV\", 28.0, \"2025-08-05\")     # New\n",
        "]\n",
        "new_df = spark.createDataFrame(new_data, columns)\n",
        "\n",
        "deltaTable.alias(\"old\").merge(\n",
        "    new_df.alias(\"new\"),\n",
        "    \"old.ride_id = new.ride_id\"\n",
        ").whenMatchedUpdateAll().whenNotMatchedInsertAll().execute()\n",
        "\n",
        "print(\" CRUD operations completed\")\n"
      ],
      "metadata": {
        "colab": {
          "base_uri": "https://localhost:8080/"
        },
        "id": "_j6Qe1pX7MoZ",
        "outputId": "62c207ad-5cda-4c93-e0d0-5b97381628d8"
      },
      "execution_count": 4,
      "outputs": [
        {
          "output_type": "stream",
          "name": "stdout",
          "text": [
            " CRUD operations completed\n"
          ]
        }
      ]
    },
    {
      "cell_type": "code",
      "source": [
        "# Show history\n",
        "spark.sql(\"DESCRIBE HISTORY delta.`/tmp/rides_delta`\").show(truncate=False)\n",
        "\n",
        "# Read version 0\n",
        "print(\"Version 0:\")\n",
        "spark.read.format(\"delta\").option(\"versionAsOf\", 0).load(\"/tmp/rides_delta\").show()\n",
        "\n",
        "# Read latest\n",
        "print(\"Latest Version:\")\n",
        "spark.read.format(\"delta\").load(\"/tmp/rides_delta\").show()\n"
      ],
      "metadata": {
        "colab": {
          "base_uri": "https://localhost:8080/"
        },
        "id": "IIeSimFk7P9w",
        "outputId": "3b366a95-a9da-4fee-ac7e-5fd3c7231c53"
      },
      "execution_count": 5,
      "outputs": [
        {
          "output_type": "stream",
          "name": "stdout",
          "text": [
            "+-------+-----------------------+------+--------+---------+-----------------------------------------------------------------------------------------------------------------------------------------------------------------------------------------+----+--------+---------+-----------+--------------+-------------+--------------------------------------------------------------------------------------------------------------------------------------------------------------------------------------------------------------------------------------------------------------------------------------------------------------------------------------------------------------------------------------------------------------------------------------------------------------------------------------------------------------------------------------------------------------------------------------------------------------------------------------------------------+------------+-----------------------------------+\n",
            "|version|timestamp              |userId|userName|operation|operationParameters                                                                                                                                                                      |job |notebook|clusterId|readVersion|isolationLevel|isBlindAppend|operationMetrics                                                                                                                                                                                                                                                                                                                                                                                                                                                                                                                                                                                                                                        |userMetadata|engineInfo                         |\n",
            "+-------+-----------------------+------+--------+---------+-----------------------------------------------------------------------------------------------------------------------------------------------------------------------------------------+----+--------+---------+-----------+--------------+-------------+--------------------------------------------------------------------------------------------------------------------------------------------------------------------------------------------------------------------------------------------------------------------------------------------------------------------------------------------------------------------------------------------------------------------------------------------------------------------------------------------------------------------------------------------------------------------------------------------------------------------------------------------------------+------------+-----------------------------------+\n",
            "|4      |2025-08-14 04:55:49.88 |NULL  |NULL    |MERGE    |{predicate -> [\"(ride_id#2068L = ride_id#4436L)\"], matchedPredicates -> [{\"actionType\":\"update\"}], notMatchedPredicates -> [{\"actionType\":\"insert\"}], notMatchedBySourcePredicates -> []}|NULL|NULL    |NULL     |3          |Serializable  |false        |{numTargetRowsCopied -> 0, numTargetRowsDeleted -> 0, numTargetFilesAdded -> 1, numTargetBytesAdded -> 1565, numTargetBytesRemoved -> 1574, numTargetDeletionVectorsAdded -> 0, numTargetRowsMatchedUpdated -> 1, executionTimeMs -> 6285, numTargetRowsInserted -> 1, numTargetRowsMatchedDeleted -> 0, numTargetDeletionVectorsUpdated -> 0, scanTimeMs -> 4208, numTargetRowsUpdated -> 1, numOutputRows -> 2, numTargetDeletionVectorsRemoved -> 0, numTargetRowsNotMatchedBySourceUpdated -> 0, numTargetChangeFilesAdded -> 0, numSourceRows -> 2, numTargetFilesRemoved -> 1, numTargetRowsNotMatchedBySourceDeleted -> 0, rewriteTimeMs -> 1375}|NULL        |Apache-Spark/3.5.0 Delta-Lake/3.1.0|\n",
            "|3      |2025-08-14 04:55:35.995|NULL  |NULL    |DELETE   |{predicate -> [\"(fare_amount#2071 < 13.0)\"]}                                                                                                                                             |NULL|NULL    |NULL     |2          |Serializable  |false        |{numRemovedFiles -> 1, numRemovedBytes -> 1583, numCopiedRows -> 1, numDeletionVectorsAdded -> 0, numDeletionVectorsRemoved -> 0, numAddedChangeFiles -> 0, executionTimeMs -> 3977, numDeletionVectorsUpdated -> 0, numDeletedRows -> 1, scanTimeMs -> 3335, numAddedFiles -> 1, numAddedBytes -> 1574, rewriteTimeMs -> 641}                                                                                                                                                                                                                                                                                                                          |NULL        |Apache-Spark/3.5.0 Delta-Lake/3.1.0|\n",
            "|2      |2025-08-14 04:55:23.894|NULL  |NULL    |UPDATE   |{predicate -> [\"(vehicle_type#2070 = Sedan)\"]}                                                                                                                                           |NULL|NULL    |NULL     |1          |Serializable  |false        |{numRemovedFiles -> 2, numRemovedBytes -> 3148, numCopiedRows -> 2, numDeletionVectorsAdded -> 0, numDeletionVectorsRemoved -> 0, numAddedChangeFiles -> 0, executionTimeMs -> 11610, numDeletionVectorsUpdated -> 0, scanTimeMs -> 10502, numAddedFiles -> 2, numUpdatedRows -> 2, numAddedBytes -> 3148, rewriteTimeMs -> 1104}                                                                                                                                                                                                                                                                                                                       |NULL        |Apache-Spark/3.5.0 Delta-Lake/3.1.0|\n",
            "|1      |2025-08-14 04:54:56.391|NULL  |NULL    |WRITE    |{mode -> Overwrite, partitionBy -> []}                                                                                                                                                   |NULL|NULL    |NULL     |0          |Serializable  |false        |{numFiles -> 2, numOutputRows -> 4, numOutputBytes -> 3148}                                                                                                                                                                                                                                                                                                                                                                                                                                                                                                                                                                                             |NULL        |Apache-Spark/3.5.0 Delta-Lake/3.1.0|\n",
            "|0      |2025-08-14 04:54:11.788|NULL  |NULL    |WRITE    |{mode -> Overwrite, partitionBy -> []}                                                                                                                                                   |NULL|NULL    |NULL     |NULL       |Serializable  |false        |{numFiles -> 2, numOutputRows -> 4, numOutputBytes -> 3148}                                                                                                                                                                                                                                                                                                                                                                                                                                                                                                                                                                                             |NULL        |Apache-Spark/3.5.0 Delta-Lake/3.1.0|\n",
            "+-------+-----------------------+------+--------+---------+-----------------------------------------------------------------------------------------------------------------------------------------------------------------------------------------+----+--------+---------+-----------+--------------+-------------+--------------------------------------------------------------------------------------------------------------------------------------------------------------------------------------------------------------------------------------------------------------------------------------------------------------------------------------------------------------------------------------------------------------------------------------------------------------------------------------------------------------------------------------------------------------------------------------------------------------------------------------------------------+------------+-----------------------------------+\n",
            "\n",
            "Version 0:\n",
            "+-------+-----------+------------+-----------+----------+\n",
            "|ride_id|driver_name|vehicle_type|fare_amount| ride_date|\n",
            "+-------+-----------+------------+-----------+----------+\n",
            "|      3|       Mike|       Sedan|       18.0|2025-08-03|\n",
            "|      4|       Nina|   Hatchback|       12.0|2025-08-04|\n",
            "|      1|       John|       Sedan|       15.0|2025-08-01|\n",
            "|      2|       Sara|         SUV|       25.0|2025-08-02|\n",
            "+-------+-----------+------------+-----------+----------+\n",
            "\n",
            "Latest Version:\n",
            "+-------+-----------+------------+-----------+----------+\n",
            "|ride_id|driver_name|vehicle_type|fare_amount| ride_date|\n",
            "+-------+-----------+------------+-----------+----------+\n",
            "|      1|       John|       Sedan|       20.0|2025-08-01|\n",
            "|      2|       Sara|         SUV|       25.0|2025-08-02|\n",
            "|      3|       Mike|       Sedan|       30.0|2025-08-03|\n",
            "|      5|       Alex|         SUV|       28.0|2025-08-05|\n",
            "+-------+-----------+------------+-----------+----------+\n",
            "\n"
          ]
        }
      ]
    },
    {
      "cell_type": "code",
      "source": [
        "# Save partitioned by vehicle_type\n",
        "df.write.format(\"delta\").mode(\"overwrite\").partitionBy(\"vehicle_type\").save(\"/tmp/rides_partitioned\")\n",
        "\n",
        "print(\" Partitioned data saved\")\n"
      ],
      "metadata": {
        "colab": {
          "base_uri": "https://localhost:8080/"
        },
        "id": "JEOeSoSF7Roc",
        "outputId": "ffa3bc36-9a21-4a88-e249-e657ba0f2798"
      },
      "execution_count": 6,
      "outputs": [
        {
          "output_type": "stream",
          "name": "stdout",
          "text": [
            " Partitioned data saved\n"
          ]
        }
      ]
    },
    {
      "cell_type": "code",
      "source": [
        "# New batch\n",
        "new_batch = [\n",
        "    (6, \"Emma\", \"Sedan\", 20.0, \"2025-08-06\"),\n",
        "    (7, \"David\", \"Hatchback\", 15.0, \"2025-08-07\")\n",
        "]\n",
        "batch_df = spark.createDataFrame(new_batch, columns)\n",
        "\n",
        "batch_df.write.format(\"delta\").mode(\"append\").save(\"/tmp/rides_delta\")\n",
        "\n",
        "print(\" Incremental load appended\")\n"
      ],
      "metadata": {
        "colab": {
          "base_uri": "https://localhost:8080/"
        },
        "id": "MWpusNgp71Uw",
        "outputId": "d8f990b7-923d-4e86-f0d0-0ef32fb12bf9"
      },
      "execution_count": 7,
      "outputs": [
        {
          "output_type": "stream",
          "name": "stdout",
          "text": [
            " Incremental load appended\n"
          ]
        }
      ]
    },
    {
      "cell_type": "code",
      "source": [
        "stream_df = (\n",
        "    spark.readStream.format(\"delta\")\n",
        "    .load(\"/tmp/rides_delta\")\n",
        ")\n",
        "\n",
        "query = (\n",
        "    stream_df.writeStream\n",
        "    .format(\"console\")\n",
        "    .outputMode(\"append\")\n",
        "    .trigger(processingTime=\"5 seconds\")\n",
        "    .start()\n",
        ")\n",
        "\n",
        "# Let it run for ~20 seconds, then stop in Colab manually\n"
      ],
      "metadata": {
        "id": "ilYkL4NX8OjZ"
      },
      "execution_count": 8,
      "outputs": []
    },
    {
      "cell_type": "code",
      "source": [
        "import pandas as pd\n",
        "import matplotlib.pyplot as plt\n",
        "\n",
        "pdf = spark.read.format(\"delta\").load(\"/tmp/rides_delta\").toPandas()\n",
        "summary = pdf.groupby(\"vehicle_type\")[\"fare_amount\"].sum()\n",
        "\n",
        "summary.plot(kind=\"bar\", title=\"Total Fare by Vehicle Type\", ylabel=\"Fare Amount\", xlabel=\"Vehicle Type\")\n",
        "plt.show()\n"
      ],
      "metadata": {
        "colab": {
          "base_uri": "https://localhost:8080/",
          "height": 532
        },
        "id": "lxe9A65v8RwR",
        "outputId": "a3271896-42fe-4155-a8ee-4f8688b978c4"
      },
      "execution_count": 9,
      "outputs": [
        {
          "output_type": "display_data",
          "data": {
            "text/plain": [
              "<Figure size 640x480 with 1 Axes>"
            ],
            "image/png": "[encoded data removed]"
          },
          "metadata": {}
        }
      ]
    },
    {
      "cell_type": "code",
      "source": [
        "# Save as Parquet\n",
        "df.write.mode(\"overwrite\").parquet(\"/tmp/rides_parquet\")\n",
        "\n",
        "# Convert to Delta\n",
        "spark.read.format(\"parquet\").load(\"/tmp/rides_parquet\") \\\n",
        "    .write.format(\"delta\").mode(\"overwrite\").save(\"/tmp/rides_from_parquet\")\n",
        "\n",
        "print(\"Parquet converted to Delta\")\n"
      ],
      "metadata": {
        "colab": {
          "base_uri": "https://localhost:8080/"
        },
        "id": "hebKGLa18T1D",
        "outputId": "ddb1cb6c-f163-4e5a-bf45-16975873ca6d"
      },
      "execution_count": 10,
      "outputs": [
        {
          "output_type": "stream",
          "name": "stdout",
          "text": [
            "Parquet converted to Delta\n"
          ]
        }
      ]
    },
    {
      "cell_type": "code",
      "source": [
        "spark.sql(\"\"\"\n",
        "CREATE TABLE rides_with_constraint (\n",
        "    ride_id INT,\n",
        "    driver_name STRING,\n",
        "    vehicle_type STRING,\n",
        "    fare_amount DOUBLE,\n",
        "    ride_date STRING\n",
        ") USING DELTA\n",
        "TBLPROPERTIES ('delta.constraints.fare_check' = 'fare_amount >= 0')\n",
        "\"\"\")\n",
        "print(\" Table with constraint created\")\n"
      ],
      "metadata": {
        "colab": {
          "base_uri": "https://localhost:8080/"
        },
        "id": "3nM4AMXC8XoQ",
        "outputId": "8a4f35df-5a2e-4673-a6cd-59630007bf7c"
      },
      "execution_count": 11,
      "outputs": [
        {
          "output_type": "stream",
          "name": "stdout",
          "text": [
            " Table with constraint created\n"
          ]
        }
      ]
    },
    {
      "cell_type": "code",
      "source": [
        "spark.sql(\"DROP TABLE IF EXISTS rides_unmanaged\")\n",
        "\n",
        "import os\n",
        "print(\"Files still exist:\", os.path.exists(\"/tmp/rides_delta\"))\n"
      ],
      "metadata": {
        "colab": {
          "base_uri": "https://localhost:8080/"
        },
        "id": "SnN4pGxW8bbs",
        "outputId": "3a4098a6-c6e3-41cb-dd8c-e69486ec2d9a"
      },
      "execution_count": 12,
      "outputs": [
        {
          "output_type": "stream",
          "name": "stdout",
          "text": [
            "Files still exist: True\n"
          ]
        }
      ]
    },
    {
      "cell_type": "code",
      "source": [
        "spark.conf.set(\"spark.databricks.delta.retentionDurationCheck.enabled\", \"false\")\n",
        "spark.sql(\"VACUUM delta.`/tmp/rides_delta` RETAIN 0 HOURS\")\n",
        "print(\" Vacuum completed\")\n"
      ],
      "metadata": {
        "colab": {
          "base_uri": "https://localhost:8080/"
        },
        "id": "yy9l_Mwz8bTY",
        "outputId": "4446c519-d130-456c-c0ae-92bd4072cbbe"
      },
      "execution_count": 13,
      "outputs": [
        {
          "output_type": "stream",
          "name": "stdout",
          "text": [
            " Vacuum completed\n"
          ]
        }
      ]
    },
    {
      "cell_type": "code",
      "source": [
        "spark.sql(\"OPTIMIZE delta.`/tmp/rides_delta` ZORDER BY (vehicle_type)\")\n",
        "print(\" Optimize & Z-Order completed\")\n"
      ],
      "metadata": {
        "colab": {
          "base_uri": "https://localhost:8080/"
        },
        "id": "Y6NHxqKE8bLF",
        "outputId": "eea0b7d7-3a32-453e-fd81-e753df5d5429"
      },
      "execution_count": 14,
      "outputs": [
        {
          "output_type": "stream",
          "name": "stdout",
          "text": [
            " Optimize & Z-Order completed\n"
          ]
        }
      ]
    },
    {
      "cell_type": "code",
      "source": [
        "new_schema_data = [\n",
        "    (8, \"Sam\", \"Sedan\", 22.0, \"2025-08-08\", \"Premium\"),\n",
        "]\n",
        "new_schema_cols = [\"ride_id\", \"driver_name\", \"vehicle_type\", \"fare_amount\", \"ride_date\", \"service_type\"]\n",
        "new_schema_df = spark.createDataFrame(new_schema_data, new_schema_cols)\n",
        "\n",
        "new_schema_df.write.format(\"delta\").mode(\"append\").option(\"mergeSchema\", \"true\").save(\"/tmp/rides_delta\")\n",
        "print(\" Schema evolved with new column\")\n"
      ],
      "metadata": {
        "colab": {
          "base_uri": "https://localhost:8080/"
        },
        "id": "wKrYduno8bDG",
        "outputId": "4bbc0266-cb06-4201-986c-00cdc990001d"
      },
      "execution_count": 15,
      "outputs": [
        {
          "output_type": "stream",
          "name": "stdout",
          "text": [
            " Schema evolved with new column\n"
          ]
        }
      ]
    },
    {
      "cell_type": "code",
      "source": [
        "spark.stop()\n",
        "print(\" Spark session stopped\")\n"
      ],
      "metadata": {
        "colab": {
          "base_uri": "https://localhost:8080/"
        },
        "id": "5XYInJiF8a7_",
        "outputId": "1227fc28-1486-4eca-bb4e-d5c53df2f9b8"
      },
      "execution_count": 16,
      "outputs": [
        {
          "output_type": "stream",
          "name": "stdout",
          "text": [
            " Spark session stopped\n"
          ]
        }
      ]
    }
  ]
}