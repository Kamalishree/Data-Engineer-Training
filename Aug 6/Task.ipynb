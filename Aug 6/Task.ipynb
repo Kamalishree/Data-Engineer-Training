{
  "nbformat": 4,
  "nbformat_minor": 0,
  "metadata": {
    "colab": {
      "provenance": []
    },
    "kernelspec": {
      "name": "python3",
      "display_name": "Python 3"
    },
    "language_info": {
      "name": "python"
    }
  },
  "cells": [
    {
      "cell_type": "code",
      "source": [
        "# Creating Spark Session\n",
        "from pyspark.sql import SparkSession\n",
        "spark = SparkSession.builder.appName(\"Campus PySpark Practice\").master(\"local[*]\").getOrCreate()"
      ],
      "metadata": {
        "id": "PW2UbtZnKx77"
      },
      "execution_count": 1,
      "outputs": []
    },
    {
      "cell_type": "code",
      "execution_count": 2,
      "metadata": {
        "colab": {
          "base_uri": "https://localhost:8080/"
        },
        "id": "chflvb1mKfZy",
        "outputId": "ef6f8185-fb03-453e-ae0a-1f717fde4894"
      },
      "outputs": [
        {
          "output_type": "stream",
          "name": "stdout",
          "text": [
            "+-----+------+----------+---------+---------+\n",
            "|EmpID|  Name|Department|UnitsSold|UnitPrice|\n",
            "+-----+------+----------+---------+---------+\n",
            "| E101|  Amit|     Sales|       10|     1200|\n",
            "| E102| Sneha| Marketing|        8|     1500|\n",
            "| E103|  Ravi|     Sales|       12|     1300|\n",
            "| E104|Anjali|        HR|        7|     1100|\n",
            "| E105|   Raj|     Sales|        5|     1000|\n",
            "+-----+------+----------+---------+---------+\n",
            "\n"
          ]
        }
      ],
      "source": [
        "# Creating dataframe\n",
        "\n",
        "\n",
        "data = [\n",
        "    (\"E101\", \"Amit\", \"Sales\", 10, 1200),\n",
        "    (\"E102\", \"Sneha\", \"Marketing\", 8, 1500),\n",
        "    (\"E103\", \"Ravi\", \"Sales\", 12, 1300),\n",
        "    (\"E104\", \"Anjali\", \"HR\", 7, 1100),\n",
        "    (\"E105\", \"Raj\", \"Sales\", 5, 1000)\n",
        "]\n",
        "\n",
        "columns = [\"EmpID\", \"Name\", \"Department\", \"UnitsSold\", \"UnitPrice\"]\n",
        "\n",
        "df = spark.createDataFrame(data, columns)\n",
        "df.show()\n",
        "\n",
        ""
      ]
    },
    {
      "cell_type": "code",
      "source": [
        "# Show total number of employees\n",
        "df.count()"
      ],
      "metadata": {
        "colab": {
          "base_uri": "https://localhost:8080/"
        },
        "id": "0SoRXH1LMRL4",
        "outputId": "e1e3813b-5328-4681-ee3b-d40602bbaa37"
      },
      "execution_count": 3,
      "outputs": [
        {
          "output_type": "execute_result",
          "data": {
            "text/plain": [
              "5"
            ]
          },
          "metadata": {},
          "execution_count": 3
        }
      ]
    },
    {
      "cell_type": "code",
      "source": [
        "# Add a new column TotalSales (UnitsSold * UnitPrice)\n",
        "from pyspark.sql.functions import col\n",
        "df = df.withColumn(\"TotalSales\", col(\"UnitsSold\") * col(\"UnitPrice\"))\n",
        "df.show()"
      ],
      "metadata": {
        "colab": {
          "base_uri": "https://localhost:8080/"
        },
        "id": "4eApdno9MZmr",
        "outputId": "1c5779ce-f326-4f01-f380-447d63db7a14"
      },
      "execution_count": 4,
      "outputs": [
        {
          "output_type": "stream",
          "name": "stdout",
          "text": [
            "+-----+------+----------+---------+---------+----------+\n",
            "|EmpID|  Name|Department|UnitsSold|UnitPrice|TotalSales|\n",
            "+-----+------+----------+---------+---------+----------+\n",
            "| E101|  Amit|     Sales|       10|     1200|     12000|\n",
            "| E102| Sneha| Marketing|        8|     1500|     12000|\n",
            "| E103|  Ravi|     Sales|       12|     1300|     15600|\n",
            "| E104|Anjali|        HR|        7|     1100|      7700|\n",
            "| E105|   Raj|     Sales|        5|     1000|      5000|\n",
            "+-----+------+----------+---------+---------+----------+\n",
            "\n"
          ]
        }
      ]
    },
    {
      "cell_type": "code",
      "source": [
        "# Show only Sales Department employees with TotalSales > 12,000\n",
        "df.filter((col(\"Department\") == \"Sales\") & (col(\"TotalSales\") > 12000)).show()"
      ],
      "metadata": {
        "colab": {
          "base_uri": "https://localhost:8080/"
        },
        "id": "fM-XhKR0MiZ0",
        "outputId": "0c722c6a-7103-42c1-c46d-9425471d1b70"
      },
      "execution_count": 5,
      "outputs": [
        {
          "output_type": "stream",
          "name": "stdout",
          "text": [
            "+-----+----+----------+---------+---------+----------+\n",
            "|EmpID|Name|Department|UnitsSold|UnitPrice|TotalSales|\n",
            "+-----+----+----------+---------+---------+----------+\n",
            "| E103|Ravi|     Sales|       12|     1300|     15600|\n",
            "+-----+----+----------+---------+---------+----------+\n",
            "\n"
          ]
        }
      ]
    },
    {
      "cell_type": "code",
      "source": [
        "# Find employee with highest total sales\n",
        "high = df.orderBy(col(\"TotalSales\").desc()).limit(1)\n",
        "high.show()\n"
      ],
      "metadata": {
        "colab": {
          "base_uri": "https://localhost:8080/"
        },
        "id": "YUKl4w7cMrK6",
        "outputId": "4a2ae7ac-2ad2-4e27-a85f-90df8bca3eda"
      },
      "execution_count": 9,
      "outputs": [
        {
          "output_type": "stream",
          "name": "stdout",
          "text": [
            "+-----+----+----------+---------+---------+----------+\n",
            "|EmpID|Name|Department|UnitsSold|UnitPrice|TotalSales|\n",
            "+-----+----+----------+---------+---------+----------+\n",
            "| E103|Ravi|     Sales|       12|     1300|     15600|\n",
            "+-----+----+----------+---------+---------+----------+\n",
            "\n"
          ]
        }
      ]
    },
    {
      "cell_type": "code",
      "source": [
        "# Sort employees by TotalSales in descending order\n",
        "desc = df.orderBy(col(\"TotalSales\").desc())\n",
        "desc.show()"
      ],
      "metadata": {
        "colab": {
          "base_uri": "https://localhost:8080/"
        },
        "id": "skuZ9ou-Mxet",
        "outputId": "9db58c17-786c-43bb-ccc5-22af2fcc68ce"
      },
      "execution_count": 10,
      "outputs": [
        {
          "output_type": "stream",
          "name": "stdout",
          "text": [
            "+-----+------+----------+---------+---------+----------+\n",
            "|EmpID|  Name|Department|UnitsSold|UnitPrice|TotalSales|\n",
            "+-----+------+----------+---------+---------+----------+\n",
            "| E103|  Ravi|     Sales|       12|     1300|     15600|\n",
            "| E101|  Amit|     Sales|       10|     1200|     12000|\n",
            "| E102| Sneha| Marketing|        8|     1500|     12000|\n",
            "| E104|Anjali|        HR|        7|     1100|      7700|\n",
            "| E105|   Raj|     Sales|        5|     1000|      5000|\n",
            "+-----+------+----------+---------+---------+----------+\n",
            "\n"
          ]
        }
      ]
    },
    {
      "cell_type": "code",
      "source": [],
      "metadata": {
        "id": "qS5Blnp2Ptsc"
      },
      "execution_count": null,
      "outputs": []
    }
  ]
}