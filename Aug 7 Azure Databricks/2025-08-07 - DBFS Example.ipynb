{
 "cells": [
  {
   "cell_type": "markdown",
   "metadata": {
    "application/vnd.databricks.v1+cell": {
     "cellMetadata": {},
     "inputWidgets": {},
     "nuid": "96816ed7-b08a-4ca3-abb9-f99880c3535d",
     "showTitle": false,
     "tableResultSettingsMap": {},
     "title": ""
    }
   },
   "source": [
    "\n",
    "## Overview\n",
    "\n",
    "This notebook will show you how to create and query a table or DataFrame that you uploaded to DBFS. [DBFS](https://docs.databricks.com/user-guide/dbfs-databricks-file-system.html) is a Databricks File System that allows you to store data for querying inside of Databricks. This notebook assumes that you have a file already inside of DBFS that you would like to read from.\n",
    "\n",
    "This notebook is written in **Python** so the default cell type is Python. However, you can use different languages by using the `%LANGUAGE` syntax. Python, Scala, SQL, and R are all supported."
   ]
  },
  {
   "cell_type": "code",
   "execution_count": 0,
   "metadata": {
    "application/vnd.databricks.v1+cell": {
     "cellMetadata": {
      "byteLimit": 2048000,
      "rowLimit": 10000
     },
     "inputWidgets": {},
     "nuid": "6482be4c-f067-47c9-b0ac-35c938b94601",
     "showTitle": false,
     "tableResultSettingsMap": {},
     "title": ""
    }
   },
   "outputs": [
    {
     "output_type": "display_data",
     "data": {
      "text/html": [
       "<style scoped>\n",
       "  .table-result-container {\n",
       "    max-height: 300px;\n",
       "    overflow: auto;\n",
       "  }\n",
       "  table, th, td {\n",
       "    border: 1px solid black;\n",
       "    border-collapse: collapse;\n",
       "  }\n",
       "  th, td {\n",
       "    padding: 5px;\n",
       "  }\n",
       "  th {\n",
       "    text-align: left;\n",
       "  }\n",
       "</style><div class='table-result-container'><table class='table-result'><thead style='background-color: white'><tr><th>_c0</th><th>_c1</th><th>_c2</th><th>_c3</th><th>_c4</th></tr></thead><tbody><tr><td>product_id</td><td>product_name</td><td>category</td><td>price</td><td>quantity</td></tr><tr><td>101</td><td>Laptop</td><td>Electronics</td><td>55000</td><td>10</td></tr><tr><td>102</td><td>Smartphone</td><td>Electronics</td><td>30000</td><td>25</td></tr><tr><td>103</td><td>Chair</td><td>Furniture</td><td>2500</td><td>50</td></tr><tr><td>104</td><td>Book</td><td>Stationery</td><td>400</td><td>200</td></tr><tr><td>105</td><td>Headphones</td><td>Electronics</td><td>1500</td><td>100</td></tr><tr><td>106</td><td>Table</td><td>Furniture</td><td>3200</td><td>40</td></tr><tr><td>107</td><td>Pen</td><td>Stationery</td><td>20</td><td>500</td></tr><tr><td>108</td><td>Monitor</td><td>Electronics</td><td>12000</td><td>15</td></tr><tr><td>109</td><td>Notebook</td><td>Stationery</td><td>60</td><td>300</td></tr><tr><td>110</td><td>Sofa</td><td>Furniture</td><td>45000</td><td>5</td></tr></tbody></table></div>"
      ]
     },
     "metadata": {
      "application/vnd.databricks.v1+output": {
       "addedWidgets": {},
       "aggData": [],
       "aggError": "",
       "aggOverflow": false,
       "aggSchema": [],
       "aggSeriesLimitReached": false,
       "aggType": "",
       "arguments": {},
       "columnCustomDisplayInfos": {},
       "data": [
        [
         "product_id",
         "product_name",
         "category",
         "price",
         "quantity"
        ],
        [
         "101",
         "Laptop",
         "Electronics",
         "55000",
         "10"
        ],
        [
         "102",
         "Smartphone",
         "Electronics",
         "30000",
         "25"
        ],
        [
         "103",
         "Chair",
         "Furniture",
         "2500",
         "50"
        ],
        [
         "104",
         "Book",
         "Stationery",
         "400",
         "200"
        ],
        [
         "105",
         "Headphones",
         "Electronics",
         "1500",
         "100"
        ],
        [
         "106",
         "Table",
         "Furniture",
         "3200",
         "40"
        ],
        [
         "107",
         "Pen",
         "Stationery",
         "20",
         "500"
        ],
        [
         "108",
         "Monitor",
         "Electronics",
         "12000",
         "15"
        ],
        [
         "109",
         "Notebook",
         "Stationery",
         "60",
         "300"
        ],
        [
         "110",
         "Sofa",
         "Furniture",
         "45000",
         "5"
        ]
       ],
       "datasetInfos": [],
       "dbfsResultPath": null,
       "isJsonSchema": true,
       "metadata": {},
       "overflow": false,
       "plotOptions": {
        "customPlotOptions": {},
        "displayType": "table",
        "pivotAggregation": null,
        "pivotColumns": null,
        "xColumns": null,
        "yColumns": null
       },
       "removedWidgets": [],
       "schema": [
        {
         "metadata": "{}",
         "name": "_c0",
         "type": "\"string\""
        },
        {
         "metadata": "{}",
         "name": "_c1",
         "type": "\"string\""
        },
        {
         "metadata": "{}",
         "name": "_c2",
         "type": "\"string\""
        },
        {
         "metadata": "{}",
         "name": "_c3",
         "type": "\"string\""
        },
        {
         "metadata": "{}",
         "name": "_c4",
         "type": "\"string\""
        }
       ],
       "type": "table"
      }
     },
     "output_type": "display_data"
    }
   ],
   "source": [
    "# File location and type\n",
    "file_location = \"/FileStore/tables/product.csv\"\n",
    "file_type = \"csv\"\n",
    "\n",
    "# CSV options\n",
    "infer_schema = \"false\"\n",
    "first_row_is_header = \"false\"\n",
    "delimiter = \",\"\n",
    "\n",
    "# The applied options are for CSV files. For other file types, these will be ignored.\n",
    "df = spark.read.format(file_type) \\\n",
    "  .option(\"inferSchema\", infer_schema) \\\n",
    "  .option(\"header\", first_row_is_header) \\\n",
    "  .option(\"sep\", delimiter) \\\n",
    "  .load(file_location)\n",
    "\n",
    "display(df)"
   ]
  },
  {
   "cell_type": "code",
   "execution_count": 0,
   "metadata": {
    "application/vnd.databricks.v1+cell": {
     "cellMetadata": {
      "byteLimit": 2048000,
      "rowLimit": 10000
     },
     "inputWidgets": {},
     "nuid": "bd82bb99-1479-4d5c-be10-8c36df0f1d44",
     "showTitle": false,
     "tableResultSettingsMap": {},
     "title": ""
    }
   },
   "outputs": [],
   "source": [
    "# Create a view or table\n",
    "\n",
    "temp_table_name = \"product_csv\"\n",
    "\n",
    "df.createOrReplaceTempView(temp_table_name)"
   ]
  },
  {
   "cell_type": "code",
   "execution_count": 0,
   "metadata": {
    "application/vnd.databricks.v1+cell": {
     "cellMetadata": {
      "byteLimit": 2048000,
      "implicitDf": true,
      "rowLimit": 10000
     },
     "inputWidgets": {},
     "nuid": "b5f66379-6f7f-42ec-8e82-d0e0926a1721",
     "showTitle": false,
     "tableResultSettingsMap": {},
     "title": ""
    }
   },
   "outputs": [
    {
     "output_type": "display_data",
     "data": {
      "text/html": [
       "<style scoped>\n",
       "  .table-result-container {\n",
       "    max-height: 300px;\n",
       "    overflow: auto;\n",
       "  }\n",
       "  table, th, td {\n",
       "    border: 1px solid black;\n",
       "    border-collapse: collapse;\n",
       "  }\n",
       "  th, td {\n",
       "    padding: 5px;\n",
       "  }\n",
       "  th {\n",
       "    text-align: left;\n",
       "  }\n",
       "</style><div class='table-result-container'><table class='table-result'><thead style='background-color: white'><tr><th>_c0</th><th>_c1</th><th>_c2</th><th>_c3</th><th>_c4</th></tr></thead><tbody><tr><td>product_id</td><td>product_name</td><td>category</td><td>price</td><td>quantity</td></tr><tr><td>101</td><td>Laptop</td><td>Electronics</td><td>55000</td><td>10</td></tr><tr><td>102</td><td>Smartphone</td><td>Electronics</td><td>30000</td><td>25</td></tr><tr><td>103</td><td>Chair</td><td>Furniture</td><td>2500</td><td>50</td></tr><tr><td>104</td><td>Book</td><td>Stationery</td><td>400</td><td>200</td></tr><tr><td>105</td><td>Headphones</td><td>Electronics</td><td>1500</td><td>100</td></tr><tr><td>106</td><td>Table</td><td>Furniture</td><td>3200</td><td>40</td></tr><tr><td>107</td><td>Pen</td><td>Stationery</td><td>20</td><td>500</td></tr><tr><td>108</td><td>Monitor</td><td>Electronics</td><td>12000</td><td>15</td></tr><tr><td>109</td><td>Notebook</td><td>Stationery</td><td>60</td><td>300</td></tr><tr><td>110</td><td>Sofa</td><td>Furniture</td><td>45000</td><td>5</td></tr></tbody></table></div>"
      ]
     },
     "metadata": {
      "application/vnd.databricks.v1+output": {
       "addedWidgets": {},
       "aggData": [],
       "aggError": "",
       "aggOverflow": false,
       "aggSchema": [],
       "aggSeriesLimitReached": false,
       "aggType": "",
       "arguments": {},
       "columnCustomDisplayInfos": {},
       "data": [
        [
         "product_id",
         "product_name",
         "category",
         "price",
         "quantity"
        ],
        [
         "101",
         "Laptop",
         "Electronics",
         "55000",
         "10"
        ],
        [
         "102",
         "Smartphone",
         "Electronics",
         "30000",
         "25"
        ],
        [
         "103",
         "Chair",
         "Furniture",
         "2500",
         "50"
        ],
        [
         "104",
         "Book",
         "Stationery",
         "400",
         "200"
        ],
        [
         "105",
         "Headphones",
         "Electronics",
         "1500",
         "100"
        ],
        [
         "106",
         "Table",
         "Furniture",
         "3200",
         "40"
        ],
        [
         "107",
         "Pen",
         "Stationery",
         "20",
         "500"
        ],
        [
         "108",
         "Monitor",
         "Electronics",
         "12000",
         "15"
        ],
        [
         "109",
         "Notebook",
         "Stationery",
         "60",
         "300"
        ],
        [
         "110",
         "Sofa",
         "Furniture",
         "45000",
         "5"
        ]
       ],
       "datasetInfos": [
        {
         "name": "_sqldf",
         "schema": {
          "fields": [
           {
            "metadata": {},
            "name": "_c0",
            "nullable": true,
            "type": "string"
           },
           {
            "metadata": {},
            "name": "_c1",
            "nullable": true,
            "type": "string"
           },
           {
            "metadata": {},
            "name": "_c2",
            "nullable": true,
            "type": "string"
           },
           {
            "metadata": {},
            "name": "_c3",
            "nullable": true,
            "type": "string"
           },
           {
            "metadata": {},
            "name": "_c4",
            "nullable": true,
            "type": "string"
           }
          ],
          "type": "struct"
         },
         "tableIdentifier": null,
         "typeStr": "pyspark.sql.dataframe.DataFrame"
        }
       ],
       "dbfsResultPath": null,
       "isJsonSchema": true,
       "metadata": {
        "createTempViewForImplicitDf": true,
        "dataframeName": "_sqldf",
        "executionCount": 3
       },
       "overflow": false,
       "plotOptions": {
        "customPlotOptions": {},
        "displayType": "table",
        "pivotAggregation": null,
        "pivotColumns": null,
        "xColumns": null,
        "yColumns": null
       },
       "removedWidgets": [],
       "schema": [
        {
         "metadata": "{}",
         "name": "_c0",
         "type": "\"string\""
        },
        {
         "metadata": "{}",
         "name": "_c1",
         "type": "\"string\""
        },
        {
         "metadata": "{}",
         "name": "_c2",
         "type": "\"string\""
        },
        {
         "metadata": "{}",
         "name": "_c3",
         "type": "\"string\""
        },
        {
         "metadata": "{}",
         "name": "_c4",
         "type": "\"string\""
        }
       ],
       "type": "table"
      }
     },
     "output_type": "display_data"
    }
   ],
   "source": [
    "%sql\n",
    "\n",
    "/* Query the created temp table in a SQL cell */\n",
    "\n",
    "select * from `product_csv`"
   ]
  },
  {
   "cell_type": "code",
   "execution_count": 0,
   "metadata": {
    "application/vnd.databricks.v1+cell": {
     "cellMetadata": {
      "byteLimit": 2048000,
      "rowLimit": 10000
     },
     "inputWidgets": {},
     "nuid": "db9631f6-bb4a-42ca-8a3c-0d48af932331",
     "showTitle": false,
     "tableResultSettingsMap": {},
     "title": ""
    }
   },
   "outputs": [],
   "source": [
    "# With this registered as a temp view, it will only be available to this particular notebook. If you'd like other users to be able to query this table, you can also create a table from the DataFrame.\n",
    "# Once saved, this table will persist across cluster restarts as well as allow various users across different notebooks to query this data.\n",
    "# To do so, choose your table name and uncomment the bottom line.\n",
    "\n",
    "permanent_table_name = \"product_csv\"\n",
    "\n",
    "# df.write.format(\"parquet\").saveAsTable(permanent_table_name)"
   ]
  }
 ],
 "metadata": {
  "application/vnd.databricks.v1+notebook": {
   "computePreferences": null,
   "dashboards": [],
   "environmentMetadata": null,
   "inputWidgetPreferences": null,
   "language": "python",
   "notebookMetadata": {
    "mostRecentlyExecutedCommandWithImplicitDF": {
     "commandId": 3541385752937843,
     "dataframes": [
      "_sqldf"
     ]
    },
    "pythonIndentUnit": 4
   },
   "notebookName": "2025-08-07 - DBFS Example",
   "widgets": {}
  },
  "language_info": {
   "name": "python"
  }
 },
 "nbformat": 4,
 "nbformat_minor": 0
}