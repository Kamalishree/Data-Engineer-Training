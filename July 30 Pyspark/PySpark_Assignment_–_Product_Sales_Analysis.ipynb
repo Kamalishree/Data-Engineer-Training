{
  "nbformat": 4,
  "nbformat_minor": 0,
  "metadata": {
    "colab": {
      "provenance": []
    },
    "kernelspec": {
      "name": "python3",
      "display_name": "Python 3"
    },
    "language_info": {
      "name": "python"
    }
  },
  "cells": [
    {
      "cell_type": "code",
      "execution_count": 1,
      "metadata": {
        "colab": {
          "base_uri": "https://localhost:8080/"
        },
        "id": "H8A2kHkx7sOl",
        "outputId": "13b3bcff-55d4-449f-ec24-f87458385674"
      },
      "outputs": [
        {
          "output_type": "stream",
          "name": "stdout",
          "text": [
            "tar: spark-3.4.1-bin-hadoop3.tgz: Cannot open: No such file or directory\n",
            "tar: Error is not recoverable: exiting now\n"
          ]
        }
      ],
      "source": [
        "# Install Java and Spark\n",
        "!apt-get install openjdk-11-jdk-headless -qq > /dev/null\n",
        "!wget -q https://downloads.apache.org/spark/spark-3.4.1/spark-3.4.1-bin-hadoop3.tgz\n",
        "!tar xf spark-3.4.1-bin-hadoop3.tgz\n",
        "!pip install -q findspark\n",
        "\n"
      ]
    },
    {
      "cell_type": "code",
      "source": [
        "# Step 1: Install Java, Spark, and findspark in Google Colab\n",
        "\n",
        "!apt-get install openjdk-11-jdk-headless -qq > /dev/null\n",
        "!wget -q https://archive.apache.org/dist/spark/spark-3.4.1/spark-3.4.1-bin-hadoop3.tgz\n",
        "!tar -xzf spark-3.4.1-bin-hadoop3.tgz\n",
        "!pip install -q findspark\n"
      ],
      "metadata": {
        "id": "HIy7ieS686B8"
      },
      "execution_count": 2,
      "outputs": []
    },
    {
      "cell_type": "code",
      "source": [
        "import os\n",
        "import findspark\n",
        "\n",
        "os.environ[\"JAVA_HOME\"] = \"/usr/lib/jvm/java-11-openjdk-amd64\"\n",
        "os.environ[\"SPARK_HOME\"] = \"/content/spark-3.4.1-bin-hadoop3\"\n",
        "\n",
        "findspark.init()\n",
        "\n",
        "from pyspark.sql import SparkSession\n",
        "\n",
        "spark = SparkSession.builder \\\n",
        "    .appName(\"ProductSalesAnalysis\") \\\n",
        "    .getOrCreate()\n"
      ],
      "metadata": {
        "id": "pWfWrTQo-HKS"
      },
      "execution_count": 3,
      "outputs": []
    },
    {
      "cell_type": "code",
      "source": [
        "# Write the CSV content to a file\n",
        "csv_content = \"\"\"OrderID,Product,Category,Quantity,UnitPrice,Region\n",
        "1001,Mobile,Electronics,2,15000,North\n",
        "1002,Laptop,Electronics,1,55000,South\n",
        "1003,T-Shirt,Apparel,3,500,East\n",
        "1004,Jeans,Apparel,2,1200,North\n",
        "1005,TV,Electronics,1,40000,West\n",
        "1006,Shoes,Footwear,4,2000,South\n",
        "1007,Watch,Accessories,2,3000,East\n",
        "1008,Headphones,Electronics,3,2500,North\n",
        "\"\"\"\n",
        "\n",
        "with open(\"sales.csv\", \"w\") as f:\n",
        "    f.write(csv_content)\n"
      ],
      "metadata": {
        "id": "_cfZ0VX5-n4r"
      },
      "execution_count": 4,
      "outputs": []
    },
    {
      "cell_type": "code",
      "source": [
        "# Read the CSV file into DataFrame\n",
        "df = spark.read.csv(\"sales.csv\", header=True, inferSchema=True)\n",
        "\n",
        "# Print schema\n",
        "df.printSchema()\n",
        "\n",
        "# Show top 5 rows\n",
        "df.show(5)\n"
      ],
      "metadata": {
        "colab": {
          "base_uri": "https://localhost:8080/"
        },
        "id": "AcIDPa0y-qUC",
        "outputId": "5f622899-e531-4e0f-f3f1-d1fbdb167281"
      },
      "execution_count": 5,
      "outputs": [
        {
          "output_type": "stream",
          "name": "stdout",
          "text": [
            "root\n",
            " |-- OrderID: integer (nullable = true)\n",
            " |-- Product: string (nullable = true)\n",
            " |-- Category: string (nullable = true)\n",
            " |-- Quantity: integer (nullable = true)\n",
            " |-- UnitPrice: integer (nullable = true)\n",
            " |-- Region: string (nullable = true)\n",
            "\n",
            "+-------+-------+-----------+--------+---------+------+\n",
            "|OrderID|Product|   Category|Quantity|UnitPrice|Region|\n",
            "+-------+-------+-----------+--------+---------+------+\n",
            "|   1001| Mobile|Electronics|       2|    15000| North|\n",
            "|   1002| Laptop|Electronics|       1|    55000| South|\n",
            "|   1003|T-Shirt|    Apparel|       3|      500|  East|\n",
            "|   1004|  Jeans|    Apparel|       2|     1200| North|\n",
            "|   1005|     TV|Electronics|       1|    40000|  West|\n",
            "+-------+-------+-----------+--------+---------+------+\n",
            "only showing top 5 rows\n",
            "\n"
          ]
        }
      ]
    },
    {
      "cell_type": "code",
      "source": [
        "from pyspark.sql.functions import col, sum\n",
        "\n",
        "# Step 1: Add TotalPrice column\n",
        "df = df.withColumn(\"TotalPrice\", col(\"Quantity\") * col(\"UnitPrice\"))\n",
        "\n",
        "# Step 2: Calculate Total Revenue\n",
        "total_revenue_df = df.agg(sum(\"TotalPrice\").alias(\"Total_Revenue\"))\n",
        "total_revenue_df.show()\n"
      ],
      "metadata": {
        "colab": {
          "base_uri": "https://localhost:8080/"
        },
        "id": "MV6V7aMlBUso",
        "outputId": "cf7a5d9a-2a97-4af0-a22f-75e4f097fa9a"
      },
      "execution_count": 14,
      "outputs": [
        {
          "output_type": "stream",
          "name": "stdout",
          "text": [
            "+-------------+\n",
            "|Total_Revenue|\n",
            "+-------------+\n",
            "|       150400|\n",
            "+-------------+\n",
            "\n"
          ]
        }
      ]
    },
    {
      "cell_type": "code",
      "source": [
        "total_revenue_df.coalesce(1).write.mode(\"overwrite\").option(\"header\", True).csv(\"total_revenue\")\n"
      ],
      "metadata": {
        "id": "qXc1PrIbBXK0"
      },
      "execution_count": 13,
      "outputs": []
    },
    {
      "cell_type": "code",
      "source": [
        "from pyspark.sql import SparkSession\n",
        "from pyspark.sql.functions import col, sum, avg, desc\n",
        "\n",
        "# Start Spark session\n",
        "spark = SparkSession.builder.appName(\"Sales Analysis\").getOrCreate()\n",
        "\n",
        "# Load the CSV file\n",
        "df = spark.read.csv(\"sales.csv\", header=True, inferSchema=True)\n",
        "\n",
        "# Show schema and data\n",
        "df.printSchema()\n",
        "df.show(5)\n"
      ],
      "metadata": {
        "colab": {
          "base_uri": "https://localhost:8080/"
        },
        "id": "50bufdQJBz-t",
        "outputId": "690a276c-d96d-48f9-a205-4ef9e10186fe"
      },
      "execution_count": 15,
      "outputs": [
        {
          "output_type": "stream",
          "name": "stdout",
          "text": [
            "root\n",
            " |-- OrderID: integer (nullable = true)\n",
            " |-- Product: string (nullable = true)\n",
            " |-- Category: string (nullable = true)\n",
            " |-- Quantity: integer (nullable = true)\n",
            " |-- UnitPrice: integer (nullable = true)\n",
            " |-- Region: string (nullable = true)\n",
            "\n",
            "+-------+-------+-----------+--------+---------+------+\n",
            "|OrderID|Product|   Category|Quantity|UnitPrice|Region|\n",
            "+-------+-------+-----------+--------+---------+------+\n",
            "|   1001| Mobile|Electronics|       2|    15000| North|\n",
            "|   1002| Laptop|Electronics|       1|    55000| South|\n",
            "|   1003|T-Shirt|    Apparel|       3|      500|  East|\n",
            "|   1004|  Jeans|    Apparel|       2|     1200| North|\n",
            "|   1005|     TV|Electronics|       1|    40000|  West|\n",
            "+-------+-------+-----------+--------+---------+------+\n",
            "only showing top 5 rows\n",
            "\n"
          ]
        }
      ]
    },
    {
      "cell_type": "code",
      "source": [
        "df = df.withColumn(\"TotalPrice\", col(\"Quantity\") * col(\"UnitPrice\"))\n",
        "df.select(\"OrderID\", \"Product\", \"Quantity\", \"UnitPrice\", \"TotalPrice\").show()\n"
      ],
      "metadata": {
        "colab": {
          "base_uri": "https://localhost:8080/"
        },
        "id": "5ktE3C6xB2ik",
        "outputId": "35cf5554-beaf-40e3-ac3a-3801cda05372"
      },
      "execution_count": 16,
      "outputs": [
        {
          "output_type": "stream",
          "name": "stdout",
          "text": [
            "+-------+----------+--------+---------+----------+\n",
            "|OrderID|   Product|Quantity|UnitPrice|TotalPrice|\n",
            "+-------+----------+--------+---------+----------+\n",
            "|   1001|    Mobile|       2|    15000|     30000|\n",
            "|   1002|    Laptop|       1|    55000|     55000|\n",
            "|   1003|   T-Shirt|       3|      500|      1500|\n",
            "|   1004|     Jeans|       2|     1200|      2400|\n",
            "|   1005|        TV|       1|    40000|     40000|\n",
            "|   1006|     Shoes|       4|     2000|      8000|\n",
            "|   1007|     Watch|       2|     3000|      6000|\n",
            "|   1008|Headphones|       3|     2500|      7500|\n",
            "+-------+----------+--------+---------+----------+\n",
            "\n"
          ]
        }
      ]
    },
    {
      "cell_type": "code",
      "source": [
        "df.agg(sum(\"TotalPrice\").alias(\"Total_Revenue\")).show()\n"
      ],
      "metadata": {
        "colab": {
          "base_uri": "https://localhost:8080/"
        },
        "id": "9ssYn7pmC8Di",
        "outputId": "b049ab7f-52b5-42e8-a72a-f3048cf084eb"
      },
      "execution_count": 17,
      "outputs": [
        {
          "output_type": "stream",
          "name": "stdout",
          "text": [
            "+-------------+\n",
            "|Total_Revenue|\n",
            "+-------------+\n",
            "|       150400|\n",
            "+-------------+\n",
            "\n"
          ]
        }
      ]
    },
    {
      "cell_type": "code",
      "source": [
        "df.groupBy(\"Category\") \\\n",
        "  .agg(sum(\"TotalPrice\").alias(\"Category_Revenue\")) \\\n",
        "  .orderBy(desc(\"Category_Revenue\")) \\\n",
        "  .show()\n"
      ],
      "metadata": {
        "colab": {
          "base_uri": "https://localhost:8080/"
        },
        "id": "Ysa-F2WQC-H-",
        "outputId": "b2775451-e76b-4ae4-91c6-6c90785e183e"
      },
      "execution_count": 18,
      "outputs": [
        {
          "output_type": "stream",
          "name": "stdout",
          "text": [
            "+-----------+----------------+\n",
            "|   Category|Category_Revenue|\n",
            "+-----------+----------------+\n",
            "|Electronics|          132500|\n",
            "|   Footwear|            8000|\n",
            "|Accessories|            6000|\n",
            "|    Apparel|            3900|\n",
            "+-----------+----------------+\n",
            "\n"
          ]
        }
      ]
    },
    {
      "cell_type": "code",
      "source": [
        "from pyspark.sql.functions import count\n",
        "\n",
        "df.groupBy(\"Region\") \\\n",
        "  .agg(count(\"OrderID\").alias(\"Num_Orders\")) \\\n",
        "  .orderBy(desc(\"Num_Orders\")) \\\n",
        "  .show(1)\n"
      ],
      "metadata": {
        "colab": {
          "base_uri": "https://localhost:8080/"
        },
        "id": "h1y-dEX4DAg5",
        "outputId": "2663ff83-05f8-4f56-be04-bd0527cf2834"
      },
      "execution_count": 19,
      "outputs": [
        {
          "output_type": "stream",
          "name": "stdout",
          "text": [
            "+------+----------+\n",
            "|Region|Num_Orders|\n",
            "+------+----------+\n",
            "| North|         3|\n",
            "+------+----------+\n",
            "only showing top 1 row\n",
            "\n"
          ]
        }
      ]
    },
    {
      "cell_type": "code",
      "source": [
        "df.groupBy(\"Category\") \\\n",
        "  .agg(avg(\"UnitPrice\").alias(\"Avg_UnitPrice\")) \\\n",
        "  .orderBy(\"Category\") \\\n",
        "  .show()\n"
      ],
      "metadata": {
        "colab": {
          "base_uri": "https://localhost:8080/"
        },
        "id": "5z_FDUOkDC2v",
        "outputId": "036ba73d-6ef6-4a1b-f329-15350fc93b4d"
      },
      "execution_count": 20,
      "outputs": [
        {
          "output_type": "stream",
          "name": "stdout",
          "text": [
            "+-----------+-------------+\n",
            "|   Category|Avg_UnitPrice|\n",
            "+-----------+-------------+\n",
            "|Accessories|       3000.0|\n",
            "|    Apparel|        850.0|\n",
            "|Electronics|      28125.0|\n",
            "|   Footwear|       2000.0|\n",
            "+-----------+-------------+\n",
            "\n"
          ]
        }
      ]
    },
    {
      "cell_type": "code",
      "source": [
        "df.filter(col(\"TotalPrice\") > 30000).select(\"OrderID\", \"Product\", \"TotalPrice\").show()\n"
      ],
      "metadata": {
        "colab": {
          "base_uri": "https://localhost:8080/"
        },
        "id": "Qld7XBE1DGAR",
        "outputId": "c4b8c059-7056-4a3e-b2b2-1fe26d66ad16"
      },
      "execution_count": 21,
      "outputs": [
        {
          "output_type": "stream",
          "name": "stdout",
          "text": [
            "+-------+-------+----------+\n",
            "|OrderID|Product|TotalPrice|\n",
            "+-------+-------+----------+\n",
            "|   1002| Laptop|     55000|\n",
            "|   1005|     TV|     40000|\n",
            "+-------+-------+----------+\n",
            "\n"
          ]
        }
      ]
    },
    {
      "cell_type": "code",
      "source": [
        "from pyspark.sql.functions import sum, desc\n",
        "\n",
        "category_revenue_df = df.groupBy(\"Category\") \\\n",
        "    .agg(sum(\"TotalPrice\").alias(\"Category_Revenue\")) \\\n",
        "    .orderBy(desc(\"Category_Revenue\"))\n",
        "\n",
        "# View the result\n",
        "category_revenue_df.show()\n",
        "\n",
        "# Save the result\n",
        "category_revenue_df.coalesce(1).write.mode(\"overwrite\").option(\"header\", True).csv(\"output/category_revenue\")\n"
      ],
      "metadata": {
        "colab": {
          "base_uri": "https://localhost:8080/"
        },
        "id": "EIkoncCaDsMA",
        "outputId": "48999352-2214-42d4-947f-7d55b6bb4c9e"
      },
      "execution_count": 24,
      "outputs": [
        {
          "output_type": "stream",
          "name": "stdout",
          "text": [
            "+-----------+----------------+\n",
            "|   Category|Category_Revenue|\n",
            "+-----------+----------------+\n",
            "|Electronics|          132500|\n",
            "|   Footwear|            8000|\n",
            "|Accessories|            6000|\n",
            "|    Apparel|            3900|\n",
            "+-----------+----------------+\n",
            "\n"
          ]
        }
      ]
    },
    {
      "cell_type": "code",
      "source": [
        "category_revenue_df.coalesce(1).write.mode(\"overwrite\").option(\"header\", True).csv(\"output/category_revenue\")\n"
      ],
      "metadata": {
        "id": "ONlsqJy-EHTq"
      },
      "execution_count": 25,
      "outputs": []
    },
    {
      "cell_type": "code",
      "source": [
        "import os\n",
        "from google.colab import files\n",
        "\n",
        "# Locate the actual CSV file inside the folder\n",
        "csv_file = [f for f in os.listdir(\"output/category_revenue\") if f.endswith(\".csv\")][0]\n",
        "\n",
        "# Download it\n",
        "files.download(f\"output/category_revenue/{csv_file}\")\n"
      ],
      "metadata": {
        "colab": {
          "base_uri": "https://localhost:8080/",
          "height": 17
        },
        "id": "aHTKkbNdEM5-",
        "outputId": "efa55884-de8f-4392-ac6d-d3e3dff37196"
      },
      "execution_count": 26,
      "outputs": [
        {
          "output_type": "display_data",
          "data": {
            "text/plain": [
              "<IPython.core.display.Javascript object>"
            ],
            "application/javascript": [
              "\n",
              "    async function download(id, filename, size) {\n",
              "      if (!google.colab.kernel.accessAllowed) {\n",
              "        return;\n",
              "      }\n",
              "      const div = document.createElement('div');\n",
              "      const label = document.createElement('label');\n",
              "      label.textContent = `Downloading \"${filename}\": `;\n",
              "      div.appendChild(label);\n",
              "      const progress = document.createElement('progress');\n",
              "      progress.max = size;\n",
              "      div.appendChild(progress);\n",
              "      document.body.appendChild(div);\n",
              "\n",
              "      const buffers = [];\n",
              "      let downloaded = 0;\n",
              "\n",
              "      const channel = await google.colab.kernel.comms.open(id);\n",
              "      // Send a message to notify the kernel that we're ready.\n",
              "      channel.send({})\n",
              "\n",
              "      for await (const message of channel.messages) {\n",
              "        // Send a message to notify the kernel that we're ready.\n",
              "        channel.send({})\n",
              "        if (message.buffers) {\n",
              "          for (const buffer of message.buffers) {\n",
              "            buffers.push(buffer);\n",
              "            downloaded += buffer.byteLength;\n",
              "            progress.value = downloaded;\n",
              "          }\n",
              "        }\n",
              "      }\n",
              "      const blob = new Blob(buffers, {type: 'application/binary'});\n",
              "      const a = document.createElement('a');\n",
              "      a.href = window.URL.createObjectURL(blob);\n",
              "      a.download = filename;\n",
              "      div.appendChild(a);\n",
              "      a.click();\n",
              "      div.remove();\n",
              "    }\n",
              "  "
            ]
          },
          "metadata": {}
        },
        {
          "output_type": "display_data",
          "data": {
            "text/plain": [
              "<IPython.core.display.Javascript object>"
            ],
            "application/javascript": [
              "download(\"download_6e3ff2a0-1c9b-45da-8f2c-cfd59dbd1b82\", \"part-00000-c0639ad4-08e5-45ce-a50e-a3add5e5904d-c000.csv\", 89)"
            ]
          },
          "metadata": {}
        }
      ]
    },
    {
      "cell_type": "code",
      "source": [
        "from pyspark.sql import SparkSession\n",
        "from pyspark.sql.functions import col, sum, desc, avg\n",
        "\n",
        "# Step 1: Create Spark session\n",
        "spark = SparkSession.builder.appName(\"SalesAnalysis\").getOrCreate()\n",
        "\n",
        "# Step 2: Load CSV into DataFrame\n",
        "df = spark.read.csv(\"sales.csv\", header=True, inferSchema=True)\n",
        "\n",
        "# Step 3: Add TotalPrice column\n",
        "df = df.withColumn(\"TotalPrice\", col(\"Quantity\") * col(\"UnitPrice\"))\n",
        "\n",
        "# 1️ Total revenue generated across all regions\n",
        "total_revenue = df.agg(sum(\"TotalPrice\").alias(\"Total_Revenue\"))\n",
        "total_revenue.show()\n",
        "\n",
        "# 2️ Category-wise revenue sorted in descending order\n",
        "category_revenue = df.groupBy(\"Category\") \\\n",
        "                     .agg(sum(\"TotalPrice\").alias(\"Category_Revenue\")) \\\n",
        "                     .orderBy(desc(\"Category_Revenue\"))\n",
        "category_revenue.show()\n",
        "\n",
        "# 3️ Region with the highest number of orders\n",
        "from pyspark.sql.functions import count\n",
        "region_orders = df.groupBy(\"Region\").agg(count(\"OrderID\").alias(\"Order_Count\")) \\\n",
        "                  .orderBy(desc(\"Order_Count\"))\n",
        "region_orders.show(1)\n",
        "\n",
        "\n",
        "# 4️ Average Unit Price per Category\n",
        "avg_price = df.groupBy(\"Category\").agg(avg(\"UnitPrice\").alias(\"Avg_UnitPrice\"))\n",
        "avg_price.show()\n",
        "\n",
        "\n",
        "\n",
        "# 5️ All orders where TotalPrice is more than 30,000\n",
        "high_value_orders = df.filter(col(\"TotalPrice\") > 30000)\n",
        "high_value_orders.show()\n",
        "\n"
      ],
      "metadata": {
        "colab": {
          "base_uri": "https://localhost:8080/"
        },
        "id": "JrsbfzGgEkoY",
        "outputId": "48dbfc5b-6ef4-48f3-cb5a-0ad5f32592a3"
      },
      "execution_count": 27,
      "outputs": [
        {
          "output_type": "stream",
          "name": "stdout",
          "text": [
            "+-------------+\n",
            "|Total_Revenue|\n",
            "+-------------+\n",
            "|       150400|\n",
            "+-------------+\n",
            "\n",
            "+-----------+----------------+\n",
            "|   Category|Category_Revenue|\n",
            "+-----------+----------------+\n",
            "|Electronics|          132500|\n",
            "|   Footwear|            8000|\n",
            "|Accessories|            6000|\n",
            "|    Apparel|            3900|\n",
            "+-----------+----------------+\n",
            "\n",
            "+------+-----------+\n",
            "|Region|Order_Count|\n",
            "+------+-----------+\n",
            "| North|          3|\n",
            "+------+-----------+\n",
            "only showing top 1 row\n",
            "\n",
            "+-----------+-------------+\n",
            "|   Category|Avg_UnitPrice|\n",
            "+-----------+-------------+\n",
            "|    Apparel|        850.0|\n",
            "|Electronics|      28125.0|\n",
            "|   Footwear|       2000.0|\n",
            "|Accessories|       3000.0|\n",
            "+-----------+-------------+\n",
            "\n",
            "+-------+-------+-----------+--------+---------+------+----------+\n",
            "|OrderID|Product|   Category|Quantity|UnitPrice|Region|TotalPrice|\n",
            "+-------+-------+-----------+--------+---------+------+----------+\n",
            "|   1002| Laptop|Electronics|       1|    55000| South|     55000|\n",
            "|   1005|     TV|Electronics|       1|    40000|  West|     40000|\n",
            "+-------+-------+-----------+--------+---------+------+----------+\n",
            "\n"
          ]
        }
      ]
    },
    {
      "cell_type": "code",
      "source": [
        "category_revenue.coalesce(1).write.mode(\"overwrite\").option(\"header\", True).csv(\"output/category_revenue\")\n"
      ],
      "metadata": {
        "id": "PD8rQEkpE3Ne"
      },
      "execution_count": 28,
      "outputs": []
    },
    {
      "cell_type": "code",
      "source": [
        "import os\n",
        "from google.colab import files\n",
        "\n",
        "csv_file = [f for f in os.listdir(\"output/category_revenue\") if f.endswith(\".csv\")][0]\n",
        "files.download(f\"output/category_revenue/{csv_file}\")\n"
      ],
      "metadata": {
        "colab": {
          "base_uri": "https://localhost:8080/",
          "height": 17
        },
        "id": "0xdbaEeGE5Yq",
        "outputId": "d031490c-e657-4f19-a660-2e923ff855a2"
      },
      "execution_count": 29,
      "outputs": [
        {
          "output_type": "display_data",
          "data": {
            "text/plain": [
              "<IPython.core.display.Javascript object>"
            ],
            "application/javascript": [
              "\n",
              "    async function download(id, filename, size) {\n",
              "      if (!google.colab.kernel.accessAllowed) {\n",
              "        return;\n",
              "      }\n",
              "      const div = document.createElement('div');\n",
              "      const label = document.createElement('label');\n",
              "      label.textContent = `Downloading \"${filename}\": `;\n",
              "      div.appendChild(label);\n",
              "      const progress = document.createElement('progress');\n",
              "      progress.max = size;\n",
              "      div.appendChild(progress);\n",
              "      document.body.appendChild(div);\n",
              "\n",
              "      const buffers = [];\n",
              "      let downloaded = 0;\n",
              "\n",
              "      const channel = await google.colab.kernel.comms.open(id);\n",
              "      // Send a message to notify the kernel that we're ready.\n",
              "      channel.send({})\n",
              "\n",
              "      for await (const message of channel.messages) {\n",
              "        // Send a message to notify the kernel that we're ready.\n",
              "        channel.send({})\n",
              "        if (message.buffers) {\n",
              "          for (const buffer of message.buffers) {\n",
              "            buffers.push(buffer);\n",
              "            downloaded += buffer.byteLength;\n",
              "            progress.value = downloaded;\n",
              "          }\n",
              "        }\n",
              "      }\n",
              "      const blob = new Blob(buffers, {type: 'application/binary'});\n",
              "      const a = document.createElement('a');\n",
              "      a.href = window.URL.createObjectURL(blob);\n",
              "      a.download = filename;\n",
              "      div.appendChild(a);\n",
              "      a.click();\n",
              "      div.remove();\n",
              "    }\n",
              "  "
            ]
          },
          "metadata": {}
        },
        {
          "output_type": "display_data",
          "data": {
            "text/plain": [
              "<IPython.core.display.Javascript object>"
            ],
            "application/javascript": [
              "download(\"download_9a31d6a3-6ce3-4b0c-9cf6-b556325ac897\", \"part-00000-0106964d-b76f-42a3-822e-91356d31bf0d-c000.csv\", 89)"
            ]
          },
          "metadata": {}
        }
      ]
    },
    {
      "cell_type": "code",
      "source": [
        "from pyspark.sql.functions import when, count\n",
        "\n",
        "# 1️ Create new column: HighValueOrder (\"Yes\" if TotalPrice > 20000, else \"No\")\n",
        "df = df.withColumn(\"HighValueOrder\", when(col(\"TotalPrice\") > 20000, \"Yes\").otherwise(\"No\"))\n",
        "df.select(\"OrderID\", \"Product\", \"TotalPrice\", \"HighValueOrder\").show()\n",
        "\n",
        "# 2️ Filter and display all high-value orders in the North region\n",
        "north_high_value = df.filter((col(\"HighValueOrder\") == \"Yes\") & (col(\"Region\") == \"North\"))\n",
        "north_high_value.show()\n",
        "\n",
        "# 3️ Count how many high-value orders exist per region\n",
        "high_value_count = df.filter(col(\"HighValueOrder\") == \"Yes\") \\\n",
        "                     .groupBy(\"Region\") \\\n",
        "                     .agg(count(\"*\").alias(\"HighValueOrder_Count\"))\n",
        "high_value_count.show()\n"
      ],
      "metadata": {
        "colab": {
          "base_uri": "https://localhost:8080/"
        },
        "id": "xyGT4vY8FLB9",
        "outputId": "9cfc1175-f0ae-4cd8-9326-2780581ca146"
      },
      "execution_count": 30,
      "outputs": [
        {
          "output_type": "stream",
          "name": "stdout",
          "text": [
            "+-------+----------+----------+--------------+\n",
            "|OrderID|   Product|TotalPrice|HighValueOrder|\n",
            "+-------+----------+----------+--------------+\n",
            "|   1001|    Mobile|     30000|           Yes|\n",
            "|   1002|    Laptop|     55000|           Yes|\n",
            "|   1003|   T-Shirt|      1500|            No|\n",
            "|   1004|     Jeans|      2400|            No|\n",
            "|   1005|        TV|     40000|           Yes|\n",
            "|   1006|     Shoes|      8000|            No|\n",
            "|   1007|     Watch|      6000|            No|\n",
            "|   1008|Headphones|      7500|            No|\n",
            "+-------+----------+----------+--------------+\n",
            "\n",
            "+-------+-------+-----------+--------+---------+------+----------+--------------+\n",
            "|OrderID|Product|   Category|Quantity|UnitPrice|Region|TotalPrice|HighValueOrder|\n",
            "+-------+-------+-----------+--------+---------+------+----------+--------------+\n",
            "|   1001| Mobile|Electronics|       2|    15000| North|     30000|           Yes|\n",
            "+-------+-------+-----------+--------+---------+------+----------+--------------+\n",
            "\n",
            "+------+--------------------+\n",
            "|Region|HighValueOrder_Count|\n",
            "+------+--------------------+\n",
            "| South|                   1|\n",
            "|  West|                   1|\n",
            "| North|                   1|\n",
            "+------+--------------------+\n",
            "\n"
          ]
        }
      ]
    },
    {
      "cell_type": "code",
      "source": [
        "# Save High-Value Orders in North Region to CSV\n",
        "north_high_value.coalesce(1).write.mode(\"overwrite\").option(\"header\", True).csv(\"north_high_value_orders\")\n",
        "\n",
        "# Save High-Value Order Count per Region to CSV\n",
        "high_value_count.coalesce(1).write.mode(\"overwrite\").option(\"header\", True).csv(\"high_value_count_by_region\")\n"
      ],
      "metadata": {
        "id": "ZIiZbLPUFdln"
      },
      "execution_count": 31,
      "outputs": []
    },
    {
      "cell_type": "code",
      "source": [
        "# Zip the output folders\n",
        "!zip -r north_high_value_orders.zip north_high_value_orders\n",
        "!zip -r high_value_count_by_region.zip high_value_count_by_region\n",
        "\n",
        "# Download\n",
        "from google.colab import files\n",
        "files.download(\"north_high_value_orders.zip\")\n",
        "files.download(\"high_value_count_by_region.zip\")\n"
      ],
      "metadata": {
        "colab": {
          "base_uri": "https://localhost:8080/",
          "height": 191
        },
        "id": "OCsbRwdPFuyT",
        "outputId": "ffc8833b-7825-4129-d50c-3c136c118d33"
      },
      "execution_count": 32,
      "outputs": [
        {
          "output_type": "stream",
          "name": "stdout",
          "text": [
            "  adding: north_high_value_orders/ (stored 0%)\n",
            "  adding: north_high_value_orders/._SUCCESS.crc (stored 0%)\n",
            "  adding: north_high_value_orders/.part-00000-ee62b1ed-2908-46d8-b17d-add2ced9f1e1-c000.csv.crc (stored 0%)\n",
            "  adding: north_high_value_orders/part-00000-ee62b1ed-2908-46d8-b17d-add2ced9f1e1-c000.csv (deflated 10%)\n",
            "  adding: north_high_value_orders/_SUCCESS (stored 0%)\n",
            "  adding: high_value_count_by_region/ (stored 0%)\n",
            "  adding: high_value_count_by_region/._SUCCESS.crc (stored 0%)\n",
            "  adding: high_value_count_by_region/.part-00000-2767a342-4e03-4512-9d6d-fc65870005cb-c000.csv.crc (stored 0%)\n",
            "  adding: high_value_count_by_region/part-00000-2767a342-4e03-4512-9d6d-fc65870005cb-c000.csv (deflated 6%)\n",
            "  adding: high_value_count_by_region/_SUCCESS (stored 0%)\n"
          ]
        },
        {
          "output_type": "display_data",
          "data": {
            "text/plain": [
              "<IPython.core.display.Javascript object>"
            ],
            "application/javascript": [
              "\n",
              "    async function download(id, filename, size) {\n",
              "      if (!google.colab.kernel.accessAllowed) {\n",
              "        return;\n",
              "      }\n",
              "      const div = document.createElement('div');\n",
              "      const label = document.createElement('label');\n",
              "      label.textContent = `Downloading \"${filename}\": `;\n",
              "      div.appendChild(label);\n",
              "      const progress = document.createElement('progress');\n",
              "      progress.max = size;\n",
              "      div.appendChild(progress);\n",
              "      document.body.appendChild(div);\n",
              "\n",
              "      const buffers = [];\n",
              "      let downloaded = 0;\n",
              "\n",
              "      const channel = await google.colab.kernel.comms.open(id);\n",
              "      // Send a message to notify the kernel that we're ready.\n",
              "      channel.send({})\n",
              "\n",
              "      for await (const message of channel.messages) {\n",
              "        // Send a message to notify the kernel that we're ready.\n",
              "        channel.send({})\n",
              "        if (message.buffers) {\n",
              "          for (const buffer of message.buffers) {\n",
              "            buffers.push(buffer);\n",
              "            downloaded += buffer.byteLength;\n",
              "            progress.value = downloaded;\n",
              "          }\n",
              "        }\n",
              "      }\n",
              "      const blob = new Blob(buffers, {type: 'application/binary'});\n",
              "      const a = document.createElement('a');\n",
              "      a.href = window.URL.createObjectURL(blob);\n",
              "      a.download = filename;\n",
              "      div.appendChild(a);\n",
              "      a.click();\n",
              "      div.remove();\n",
              "    }\n",
              "  "
            ]
          },
          "metadata": {}
        },
        {
          "output_type": "display_data",
          "data": {
            "text/plain": [
              "<IPython.core.display.Javascript object>"
            ],
            "application/javascript": [
              "download(\"download_3e94b033-63f9-47ec-a602-1c7a9195be0e\", \"north_high_value_orders.zip\", 1310)"
            ]
          },
          "metadata": {}
        },
        {
          "output_type": "display_data",
          "data": {
            "text/plain": [
              "<IPython.core.display.Javascript object>"
            ],
            "application/javascript": [
              "\n",
              "    async function download(id, filename, size) {\n",
              "      if (!google.colab.kernel.accessAllowed) {\n",
              "        return;\n",
              "      }\n",
              "      const div = document.createElement('div');\n",
              "      const label = document.createElement('label');\n",
              "      label.textContent = `Downloading \"${filename}\": `;\n",
              "      div.appendChild(label);\n",
              "      const progress = document.createElement('progress');\n",
              "      progress.max = size;\n",
              "      div.appendChild(progress);\n",
              "      document.body.appendChild(div);\n",
              "\n",
              "      const buffers = [];\n",
              "      let downloaded = 0;\n",
              "\n",
              "      const channel = await google.colab.kernel.comms.open(id);\n",
              "      // Send a message to notify the kernel that we're ready.\n",
              "      channel.send({})\n",
              "\n",
              "      for await (const message of channel.messages) {\n",
              "        // Send a message to notify the kernel that we're ready.\n",
              "        channel.send({})\n",
              "        if (message.buffers) {\n",
              "          for (const buffer of message.buffers) {\n",
              "            buffers.push(buffer);\n",
              "            downloaded += buffer.byteLength;\n",
              "            progress.value = downloaded;\n",
              "          }\n",
              "        }\n",
              "      }\n",
              "      const blob = new Blob(buffers, {type: 'application/binary'});\n",
              "      const a = document.createElement('a');\n",
              "      a.href = window.URL.createObjectURL(blob);\n",
              "      a.download = filename;\n",
              "      div.appendChild(a);\n",
              "      a.click();\n",
              "      div.remove();\n",
              "    }\n",
              "  "
            ]
          },
          "metadata": {}
        },
        {
          "output_type": "display_data",
          "data": {
            "text/plain": [
              "<IPython.core.display.Javascript object>"
            ],
            "application/javascript": [
              "download(\"download_096a5718-9070-45d0-9de2-cba68d48f5ed\", \"high_value_count_by_region.zip\", 1276)"
            ]
          },
          "metadata": {}
        }
      ]
    },
    {
      "cell_type": "code",
      "source": [
        "# Save the transformed DataFrame with 'HighValueOrder' column\n",
        "df.coalesce(1).write.mode(\"overwrite\").option(\"header\", True).csv(\"high_value_orders\")\n",
        "\n",
        "# Zip the folder to download from Colab\n",
        "!zip -r high_value_orders.zip high_value_orders\n",
        "\n",
        "# Download the zipped CSV\n",
        "from google.colab import files\n",
        "files.download(\"high_value_orders.zip\")\n"
      ],
      "metadata": {
        "colab": {
          "base_uri": "https://localhost:8080/",
          "height": 104
        },
        "id": "xAYWmN04F5PS",
        "outputId": "a5a9d95e-db8c-4dd2-c137-dc0d9959311a"
      },
      "execution_count": 33,
      "outputs": [
        {
          "output_type": "stream",
          "name": "stdout",
          "text": [
            "  adding: high_value_orders/ (stored 0%)\n",
            "  adding: high_value_orders/._SUCCESS.crc (stored 0%)\n",
            "  adding: high_value_orders/part-00000-8492e30a-3511-4900-9e54-9a1a78a8942b-c000.csv (deflated 43%)\n",
            "  adding: high_value_orders/_SUCCESS (stored 0%)\n",
            "  adding: high_value_orders/.part-00000-8492e30a-3511-4900-9e54-9a1a78a8942b-c000.csv.crc (stored 0%)\n"
          ]
        },
        {
          "output_type": "display_data",
          "data": {
            "text/plain": [
              "<IPython.core.display.Javascript object>"
            ],
            "application/javascript": [
              "\n",
              "    async function download(id, filename, size) {\n",
              "      if (!google.colab.kernel.accessAllowed) {\n",
              "        return;\n",
              "      }\n",
              "      const div = document.createElement('div');\n",
              "      const label = document.createElement('label');\n",
              "      label.textContent = `Downloading \"${filename}\": `;\n",
              "      div.appendChild(label);\n",
              "      const progress = document.createElement('progress');\n",
              "      progress.max = size;\n",
              "      div.appendChild(progress);\n",
              "      document.body.appendChild(div);\n",
              "\n",
              "      const buffers = [];\n",
              "      let downloaded = 0;\n",
              "\n",
              "      const channel = await google.colab.kernel.comms.open(id);\n",
              "      // Send a message to notify the kernel that we're ready.\n",
              "      channel.send({})\n",
              "\n",
              "      for await (const message of channel.messages) {\n",
              "        // Send a message to notify the kernel that we're ready.\n",
              "        channel.send({})\n",
              "        if (message.buffers) {\n",
              "          for (const buffer of message.buffers) {\n",
              "            buffers.push(buffer);\n",
              "            downloaded += buffer.byteLength;\n",
              "            progress.value = downloaded;\n",
              "          }\n",
              "        }\n",
              "      }\n",
              "      const blob = new Blob(buffers, {type: 'application/binary'});\n",
              "      const a = document.createElement('a');\n",
              "      a.href = window.URL.createObjectURL(blob);\n",
              "      a.download = filename;\n",
              "      div.appendChild(a);\n",
              "      a.click();\n",
              "      div.remove();\n",
              "    }\n",
              "  "
            ]
          },
          "metadata": {}
        },
        {
          "output_type": "display_data",
          "data": {
            "text/plain": [
              "<IPython.core.display.Javascript object>"
            ],
            "application/javascript": [
              "download(\"download_bb160e71-fefd-46d3-8767-cdadac39e0a1\", \"high_value_orders.zip\", 1384)"
            ]
          },
          "metadata": {}
        }
      ]
    }
  ]
}