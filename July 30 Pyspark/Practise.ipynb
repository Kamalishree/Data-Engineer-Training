{
  "nbformat": 4,
  "nbformat_minor": 0,
  "metadata": {
    "colab": {
      "provenance": []
    },
    "kernelspec": {
      "name": "python3",
      "display_name": "Python 3"
    },
    "language_info": {
      "name": "python"
    }
  },
  "cells": [
    {
      "cell_type": "code",
      "execution_count": 1,
      "metadata": {
        "colab": {
          "base_uri": "https://localhost:8080/"
        },
        "id": "gyG-UssT2G2Z",
        "outputId": "bc8f3f41-f8cf-476d-8224-7f2d7b892c17"
      },
      "outputs": [
        {
          "output_type": "stream",
          "name": "stdout",
          "text": [
            "    Name   Age   Department   Salary\n",
            "0  Aarav  28.0        Sales  50000.0\n",
            "1  Sneha   NaN  Engineering  80000.0\n",
            "2  Kabir  25.0           HR      NaN\n",
            "3  Anaya  29.0          NaN  60000.0\n",
            "4  Rohan  35.0  Engineering  85000.0\n",
            "    Name    Age  Department  Salary\n",
            "0  False  False       False   False\n",
            "1  False   True       False   False\n",
            "2  False  False       False    True\n",
            "3  False  False        True   False\n",
            "4  False  False       False   False\n",
            "Name          0\n",
            "Age           1\n",
            "Department    1\n",
            "Salary        1\n",
            "dtype: int64\n"
          ]
        }
      ],
      "source": [
        "\n",
        "import pandas as pd\n",
        "\n",
        "# Sample data with missing values\n",
        "csv_data = \"\"\"Name,Age,Department,Salary\n",
        "Aarav,28,Sales,50000\n",
        "Sneha,,Engineering,80000\n",
        "Kabir,25,HR,\n",
        "Anaya,29,,60000\n",
        "Rohan,35,Engineering,85000\n",
        "\"\"\"\n",
        "\n",
        "with open('employees_missing.csv', 'w') as file:\n",
        "    file.write(csv_data)\n",
        "\n",
        "df = pd.read_csv('employees_missing.csv')\n",
        "print(df)\n",
        "\n",
        "print(df.isnull())      # Shows True/False for missing entries\n",
        "print(df.isnull().sum()) # Count of missing values in each column\n"
      ]
    },
    {
      "cell_type": "code",
      "source": [
        "# CSV data already created in previous steps\n",
        "\n",
        "with open('employees_missing.csv', 'w') as file:\n",
        "    file.write(csv_data)\n",
        "\n",
        "df = pd.read_csv('employees_missing.csv')\n",
        "print(df)\n",
        "\n",
        "print(df.isnull())        # Shows True/False for missing entries\n",
        "print(df.isnull().sum())  # Count of missing values in each column\n",
        "\n",
        "# Drop rows with any missing data\n",
        "df_cleaned = df.dropna()\n",
        "print(df_cleaned)\n",
        "\n",
        "# Fill missing 'Age' with mean value\n",
        "df['Age'] = df['Age'].fillna(df['Age'].mean())\n",
        "print(df)\n",
        "\n",
        "# Fill missing 'Department' with a placeholder string\n",
        "df['Department'] = df['Department'].fillna(\"Unknown\")\n",
        "print(df)\n",
        "\n",
        "# Fill missing 'Salary' with 0\n",
        "df['Salary'] = df['Salary'].fillna(0)\n",
        "print(df)\n",
        "\n"
      ],
      "metadata": {
        "colab": {
          "base_uri": "https://localhost:8080/"
        },
        "id": "vVha-UNG4b2a",
        "outputId": "cf7a53d3-166b-4e84-f409-8790aa05f86e"
      },
      "execution_count": 2,
      "outputs": [
        {
          "output_type": "stream",
          "name": "stdout",
          "text": [
            "    Name   Age   Department   Salary\n",
            "0  Aarav  28.0        Sales  50000.0\n",
            "1  Sneha   NaN  Engineering  80000.0\n",
            "2  Kabir  25.0           HR      NaN\n",
            "3  Anaya  29.0          NaN  60000.0\n",
            "4  Rohan  35.0  Engineering  85000.0\n",
            "    Name    Age  Department  Salary\n",
            "0  False  False       False   False\n",
            "1  False   True       False   False\n",
            "2  False  False       False    True\n",
            "3  False  False        True   False\n",
            "4  False  False       False   False\n",
            "Name          0\n",
            "Age           1\n",
            "Department    1\n",
            "Salary        1\n",
            "dtype: int64\n",
            "    Name   Age   Department   Salary\n",
            "0  Aarav  28.0        Sales  50000.0\n",
            "4  Rohan  35.0  Engineering  85000.0\n",
            "    Name    Age   Department   Salary\n",
            "0  Aarav  28.00        Sales  50000.0\n",
            "1  Sneha  29.25  Engineering  80000.0\n",
            "2  Kabir  25.00           HR      NaN\n",
            "3  Anaya  29.00          NaN  60000.0\n",
            "4  Rohan  35.00  Engineering  85000.0\n",
            "    Name    Age   Department   Salary\n",
            "0  Aarav  28.00        Sales  50000.0\n",
            "1  Sneha  29.25  Engineering  80000.0\n",
            "2  Kabir  25.00           HR      NaN\n",
            "3  Anaya  29.00      Unknown  60000.0\n",
            "4  Rohan  35.00  Engineering  85000.0\n",
            "    Name    Age   Department   Salary\n",
            "0  Aarav  28.00        Sales  50000.0\n",
            "1  Sneha  29.25  Engineering  80000.0\n",
            "2  Kabir  25.00           HR      0.0\n",
            "3  Anaya  29.00      Unknown  60000.0\n",
            "4  Rohan  35.00  Engineering  85000.0\n"
          ]
        }
      ]
    },
    {
      "cell_type": "code",
      "source": [
        "import pandas as pd\n",
        "\n",
        "# Create employees CSV\n",
        "emp_data = \"\"\"EmpID,Name,Department\n",
        "101,Amit,Sales\n",
        "102,Anita,Engineering\n",
        "103,Kabir,HR\n",
        "104,Sneha,Marketing\n",
        "105,Ravi,Engineering\n",
        "\"\"\"\n",
        "with open('employees.csv', 'w') as f:\n",
        "    f.write(emp_data)\n",
        "\n",
        "# Create departments CSV\n",
        "dept_data = \"\"\"Department,Location\n",
        "Sales,Mumbai\n",
        "Engineering,Bangalore\n",
        "HR,Delhi\n",
        "Marketing,Chennai\n",
        "\"\"\"\n",
        "with open('departments.csv', 'w') as f:\n",
        "    f.write(dept_data)\n",
        "\n",
        "# Read both\n",
        "df_emp = pd.read_csv('employees.csv')\n",
        "df_dept = pd.read_csv('departments.csv')\n",
        "\n",
        "print(df_emp)\n",
        "print(df_dept)"
      ],
      "metadata": {
        "colab": {
          "base_uri": "https://localhost:8080/"
        },
        "id": "bhSPCEZIuR0w",
        "outputId": "6c00e2fb-ade0-483d-d3c2-8b3d978aeec4"
      },
      "execution_count": 1,
      "outputs": [
        {
          "output_type": "stream",
          "name": "stdout",
          "text": [
            "   EmpID   Name   Department\n",
            "0    101   Amit        Sales\n",
            "1    102  Anita  Engineering\n",
            "2    103  Kabir           HR\n",
            "3    104  Sneha    Marketing\n",
            "4    105   Ravi  Engineering\n",
            "    Department   Location\n",
            "0        Sales     Mumbai\n",
            "1  Engineering  Bangalore\n",
            "2           HR      Delhi\n",
            "3    Marketing    Chennai\n"
          ]
        }
      ]
    },
    {
      "cell_type": "code",
      "source": [
        "# Merge employee data with department location\n",
        "df_combined = pd.merge(df_emp, df_dept, on='Department')\n",
        "\n",
        "print(df_combined)\n"
      ],
      "metadata": {
        "colab": {
          "base_uri": "https://localhost:8080/"
        },
        "id": "IIMo3oOwudXI",
        "outputId": "8651fac6-9c3f-4597-9363-c776fdf78fa8"
      },
      "execution_count": 2,
      "outputs": [
        {
          "output_type": "stream",
          "name": "stdout",
          "text": [
            "   EmpID   Name   Department   Location\n",
            "0    101   Amit        Sales     Mumbai\n",
            "1    102  Anita  Engineering  Bangalore\n",
            "2    103  Kabir           HR      Delhi\n",
            "3    104  Sneha    Marketing    Chennai\n",
            "4    105   Ravi  Engineering  Bangalore\n"
          ]
        }
      ]
    },
    {
      "cell_type": "code",
      "source": [
        "merged_df = pd.merge(df_emp, df_dept, on='Department', how='inner')\n",
        "print(merged_df)\n"
      ],
      "metadata": {
        "colab": {
          "base_uri": "https://localhost:8080/"
        },
        "id": "jGM2do9NuzQh",
        "outputId": "e64e7231-daf4-4843-fef4-9759c6954ee9"
      },
      "execution_count": 3,
      "outputs": [
        {
          "output_type": "stream",
          "name": "stdout",
          "text": [
            "   EmpID   Name   Department   Location\n",
            "0    101   Amit        Sales     Mumbai\n",
            "1    102  Anita  Engineering  Bangalore\n",
            "2    103  Kabir           HR      Delhi\n",
            "3    104  Sneha    Marketing    Chennai\n",
            "4    105   Ravi  Engineering  Bangalore\n"
          ]
        }
      ]
    },
    {
      "cell_type": "code",
      "source": [
        "merged_df = pd.merge(df_emp, df_dept, on='Department', how='left')\n",
        "print(merged_df)\n"
      ],
      "metadata": {
        "colab": {
          "base_uri": "https://localhost:8080/"
        },
        "id": "oEXWbMHsu1LU",
        "outputId": "1f8e632d-8d82-447b-b82a-5b1bb0d916cc"
      },
      "execution_count": 4,
      "outputs": [
        {
          "output_type": "stream",
          "name": "stdout",
          "text": [
            "   EmpID   Name   Department   Location\n",
            "0    101   Amit        Sales     Mumbai\n",
            "1    102  Anita  Engineering  Bangalore\n",
            "2    103  Kabir           HR      Delhi\n",
            "3    104  Sneha    Marketing    Chennai\n",
            "4    105   Ravi  Engineering  Bangalore\n"
          ]
        }
      ]
    },
    {
      "cell_type": "code",
      "source": [
        "from pyspark.sql import SparkSession\n",
        "\n",
        "# Create Spark session\n",
        "spark = SparkSession.builder \\\n",
        "    .appName(\"PySparkBasics\") \\\n",
        "    .getOrCreate()\n",
        "\n",
        "# Sample data\n",
        "data = [(\"Amit\", 25), (\"Sneha\", 30), (\"Kabir\", 28)]\n",
        "columns = [\"Name\", \"Age\"]\n",
        "\n",
        "# Create DataFrame\n",
        "df = spark.createDataFrame(data, columns)\n",
        "\n",
        "# Show data\n",
        "df.show()\n"
      ],
      "metadata": {
        "colab": {
          "base_uri": "https://localhost:8080/"
        },
        "id": "3V4nxPbbxnE6",
        "outputId": "2ac35198-9cb0-4bf6-ad1b-6726ed2f5da6"
      },
      "execution_count": 5,
      "outputs": [
        {
          "output_type": "stream",
          "name": "stdout",
          "text": [
            "+-----+---+\n",
            "| Name|Age|\n",
            "+-----+---+\n",
            "| Amit| 25|\n",
            "|Sneha| 30|\n",
            "|Kabir| 28|\n",
            "+-----+---+\n",
            "\n"
          ]
        }
      ]
    },
    {
      "cell_type": "code",
      "source": [
        "csv_data = \"\"\"Name,Department,Salary\n",
        "Amit,Sales,50000\n",
        "Sneha,Engineering,80000\n",
        "Kabir,HR,45000\n",
        "Anaya,Marketing,60000\n",
        "Ravi,Engineering,85000\n",
        "\"\"\"\n",
        "\n",
        "with open('employees.csv', 'w') as f:\n",
        "    f.write(csv_data)\n",
        "\n",
        "df = spark.read.csv('employees.csv', header=True, inferSchema=True)\n",
        "df.show()\n",
        "df.printSchema()\n"
      ],
      "metadata": {
        "colab": {
          "base_uri": "https://localhost:8080/"
        },
        "id": "HOzHCIuE2xPP",
        "outputId": "14e65425-d888-4a6f-f49f-80a7640a97be"
      },
      "execution_count": 6,
      "outputs": [
        {
          "output_type": "stream",
          "name": "stdout",
          "text": [
            "+-----+-----------+------+\n",
            "| Name| Department|Salary|\n",
            "+-----+-----------+------+\n",
            "| Amit|      Sales| 50000|\n",
            "|Sneha|Engineering| 80000|\n",
            "|Kabir|         HR| 45000|\n",
            "|Anaya|  Marketing| 60000|\n",
            "| Ravi|Engineering| 85000|\n",
            "+-----+-----------+------+\n",
            "\n",
            "root\n",
            " |-- Name: string (nullable = true)\n",
            " |-- Department: string (nullable = true)\n",
            " |-- Salary: integer (nullable = true)\n",
            "\n"
          ]
        }
      ]
    }
  ]
}