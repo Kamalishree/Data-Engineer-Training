{
  "nbformat": 4,
  "nbformat_minor": 0,
  "metadata": {
    "colab": {
      "provenance": []
    },
    "kernelspec": {
      "name": "python3",
      "display_name": "Python 3"
    },
    "language_info": {
      "name": "python"
    }
  },
  "cells": [
    {
      "cell_type": "code",
      "execution_count": 1,
      "metadata": {
        "id": "b70UwSn_hW8J"
      },
      "outputs": [],
      "source": [
        "import pandas as pd\n",
        "\n",
        "# CSV content\n",
        "csv_data = \"\"\"Month,Store,Sales\n",
        "Jan,Store A,12000\n",
        "Jan,Store B,15000\n",
        "Feb,Store A,18000\n",
        "Feb,Store B,17000\n",
        "Mar,Store A,16000\n",
        "Mar,Store B,19000\n",
        "\"\"\"\n",
        "\n",
        "# Save the file temporarily in Colab\n",
        "with open(\"sales_data.csv\", \"w\") as f:\n",
        "    f.write(csv_data)\n"
      ]
    },
    {
      "cell_type": "code",
      "source": [
        "# Read CSV\n",
        "df = pd.read_csv(\"sales_data.csv\")\n",
        "print(df)\n"
      ],
      "metadata": {
        "colab": {
          "base_uri": "https://localhost:8080/"
        },
        "id": "xjtyw-7vhhCX",
        "outputId": "829eed75-adce-4562-af7e-2059e3b168e1"
      },
      "execution_count": 2,
      "outputs": [
        {
          "output_type": "stream",
          "name": "stdout",
          "text": [
            "  Month    Store  Sales\n",
            "0   Jan  Store A  12000\n",
            "1   Jan  Store B  15000\n",
            "2   Feb  Store A  18000\n",
            "3   Feb  Store B  17000\n",
            "4   Mar  Store A  16000\n",
            "5   Mar  Store B  19000\n"
          ]
        }
      ]
    },
    {
      "cell_type": "code",
      "source": [
        "from google.colab import files\n",
        "\n",
        "# Download the file\n",
        "files.download(\"sales_data.csv\")\n"
      ],
      "metadata": {
        "colab": {
          "base_uri": "https://localhost:8080/",
          "height": 17
        },
        "id": "kcxZIC7_hmjf",
        "outputId": "b53321e4-83c9-4e0d-d2df-aeed3f5541dc"
      },
      "execution_count": 3,
      "outputs": [
        {
          "output_type": "display_data",
          "data": {
            "text/plain": [
              "<IPython.core.display.Javascript object>"
            ],
            "application/javascript": [
              "\n",
              "    async function download(id, filename, size) {\n",
              "      if (!google.colab.kernel.accessAllowed) {\n",
              "        return;\n",
              "      }\n",
              "      const div = document.createElement('div');\n",
              "      const label = document.createElement('label');\n",
              "      label.textContent = `Downloading \"${filename}\": `;\n",
              "      div.appendChild(label);\n",
              "      const progress = document.createElement('progress');\n",
              "      progress.max = size;\n",
              "      div.appendChild(progress);\n",
              "      document.body.appendChild(div);\n",
              "\n",
              "      const buffers = [];\n",
              "      let downloaded = 0;\n",
              "\n",
              "      const channel = await google.colab.kernel.comms.open(id);\n",
              "      // Send a message to notify the kernel that we're ready.\n",
              "      channel.send({})\n",
              "\n",
              "      for await (const message of channel.messages) {\n",
              "        // Send a message to notify the kernel that we're ready.\n",
              "        channel.send({})\n",
              "        if (message.buffers) {\n",
              "          for (const buffer of message.buffers) {\n",
              "            buffers.push(buffer);\n",
              "            downloaded += buffer.byteLength;\n",
              "            progress.value = downloaded;\n",
              "          }\n",
              "        }\n",
              "      }\n",
              "      const blob = new Blob(buffers, {type: 'application/binary'});\n",
              "      const a = document.createElement('a');\n",
              "      a.href = window.URL.createObjectURL(blob);\n",
              "      a.download = filename;\n",
              "      div.appendChild(a);\n",
              "      a.click();\n",
              "      div.remove();\n",
              "    }\n",
              "  "
            ]
          },
          "metadata": {}
        },
        {
          "output_type": "display_data",
          "data": {
            "text/plain": [
              "<IPython.core.display.Javascript object>"
            ],
            "application/javascript": [
              "download(\"download_cfeacd26-ce9a-4b13-8417-40d5dfa48abf\", \"sales_data.csv\", 126)"
            ]
          },
          "metadata": {}
        }
      ]
    },
    {
      "cell_type": "code",
      "source": [
        "import pandas as pd\n",
        "\n",
        "# CSV content\n",
        "csv_data = \"\"\"Month,Store,Sales\n",
        "Jan,Store A,12000\n",
        "Jan,Store B,15000\n",
        "Feb,Store A,18000\n",
        "Feb,Store B,17000\n",
        "Mar,Store A,16000\n",
        "Mar,Store B,19000\n",
        "\"\"\"\n",
        "\n",
        "# Save the file temporarily in Colab\n",
        "with open(\"sales_data.csv\", \"w\") as f:\n",
        "    f.write(csv_data)\n",
        "# Read CSV\n",
        "df = pd.read_csv(\"sales_data.csv\")\n",
        "print(df)\n",
        "from google.colab import files\n",
        "\n",
        "# Download the file\n",
        "files.download(\"sales_data.csv\")\n"
      ],
      "metadata": {
        "colab": {
          "base_uri": "https://localhost:8080/",
          "height": 138
        },
        "id": "NkwDHtaThwUc",
        "outputId": "11435772-caed-4111-c87d-35d7e0e37b82"
      },
      "execution_count": 4,
      "outputs": [
        {
          "output_type": "stream",
          "name": "stdout",
          "text": [
            "  Month    Store  Sales\n",
            "0   Jan  Store A  12000\n",
            "1   Jan  Store B  15000\n",
            "2   Feb  Store A  18000\n",
            "3   Feb  Store B  17000\n",
            "4   Mar  Store A  16000\n",
            "5   Mar  Store B  19000\n"
          ]
        },
        {
          "output_type": "display_data",
          "data": {
            "text/plain": [
              "<IPython.core.display.Javascript object>"
            ],
            "application/javascript": [
              "\n",
              "    async function download(id, filename, size) {\n",
              "      if (!google.colab.kernel.accessAllowed) {\n",
              "        return;\n",
              "      }\n",
              "      const div = document.createElement('div');\n",
              "      const label = document.createElement('label');\n",
              "      label.textContent = `Downloading \"${filename}\": `;\n",
              "      div.appendChild(label);\n",
              "      const progress = document.createElement('progress');\n",
              "      progress.max = size;\n",
              "      div.appendChild(progress);\n",
              "      document.body.appendChild(div);\n",
              "\n",
              "      const buffers = [];\n",
              "      let downloaded = 0;\n",
              "\n",
              "      const channel = await google.colab.kernel.comms.open(id);\n",
              "      // Send a message to notify the kernel that we're ready.\n",
              "      channel.send({})\n",
              "\n",
              "      for await (const message of channel.messages) {\n",
              "        // Send a message to notify the kernel that we're ready.\n",
              "        channel.send({})\n",
              "        if (message.buffers) {\n",
              "          for (const buffer of message.buffers) {\n",
              "            buffers.push(buffer);\n",
              "            downloaded += buffer.byteLength;\n",
              "            progress.value = downloaded;\n",
              "          }\n",
              "        }\n",
              "      }\n",
              "      const blob = new Blob(buffers, {type: 'application/binary'});\n",
              "      const a = document.createElement('a');\n",
              "      a.href = window.URL.createObjectURL(blob);\n",
              "      a.download = filename;\n",
              "      div.appendChild(a);\n",
              "      a.click();\n",
              "      div.remove();\n",
              "    }\n",
              "  "
            ]
          },
          "metadata": {}
        },
        {
          "output_type": "display_data",
          "data": {
            "text/plain": [
              "<IPython.core.display.Javascript object>"
            ],
            "application/javascript": [
              "download(\"download_c6d02a61-ed49-4607-a099-1507a01da7f5\", \"sales_data.csv\", 126)"
            ]
          },
          "metadata": {}
        }
      ]
    },
    {
      "cell_type": "code",
      "source": [
        "import pandas as pd\n",
        "\n",
        "# Read the CSV (if not already done)\n",
        "df = pd.read_csv(\"sales_data.csv\")\n",
        "\n",
        "# Group by 'Store' and calculate total sales\n",
        "store_totals = df.groupby(\"Store\")[\"Sales\"].sum().reset_index()\n",
        "\n",
        "print(\"🧾 Total Sales per Store:\\n\")\n",
        "print(store_totals)\n",
        "\n",
        "# Find the store with highest total sales\n",
        "top_store = store_totals.loc[store_totals[\"Sales\"].idxmax()]\n",
        "print(f\"\\n Store with highest total sales: {top_store['Store']} (${top_store['Sales']})\")\n"
      ],
      "metadata": {
        "colab": {
          "base_uri": "https://localhost:8080/"
        },
        "id": "kB6tVzb7iIa6",
        "outputId": "47bf08ad-dca2-4d61-e6ad-dbb96097a938"
      },
      "execution_count": 5,
      "outputs": [
        {
          "output_type": "stream",
          "name": "stdout",
          "text": [
            "🧾 Total Sales per Store:\n",
            "\n",
            "     Store  Sales\n",
            "0  Store A  46000\n",
            "1  Store B  51000\n",
            "\n",
            " Store with highest total sales: Store B ($51000)\n"
          ]
        }
      ]
    },
    {
      "cell_type": "code",
      "source": [
        "# Group by Month and sum total sales\n",
        "monthly_sales = df.groupby(\"Month\")[\"Sales\"].sum().reset_index()\n",
        "\n",
        "print(\" Monthly Total Sales (Store A + Store B):\\n\")\n",
        "print(monthly_sales)\n"
      ],
      "metadata": {
        "colab": {
          "base_uri": "https://localhost:8080/"
        },
        "id": "mKYFe-9EiPTa",
        "outputId": "5ca623b6-45d3-4b44-ee15-e56c5febc1c9"
      },
      "execution_count": 7,
      "outputs": [
        {
          "output_type": "stream",
          "name": "stdout",
          "text": [
            " Monthly Total Sales (Store A + Store B):\n",
            "\n",
            "  Month  Sales\n",
            "0   Feb  35000\n",
            "1   Jan  27000\n",
            "2   Mar  35000\n"
          ]
        }
      ]
    },
    {
      "cell_type": "code",
      "source": [
        "import matplotlib.pyplot as plt\n",
        "\n",
        "# Pivot to reshape data: Rows = Month, Columns = Store, Values = Sales\n",
        "pivot_df = df.pivot(index=\"Month\", columns=\"Store\", values=\"Sales\")\n",
        "\n",
        "# Sort by Month order if needed (optional, depending on chart clarity)\n",
        "month_order = [\"Jan\", \"Feb\", \"Mar\"]\n",
        "pivot_df = pivot_df.reindex(month_order)\n",
        "\n",
        "# Plot\n",
        "plt.figure(figsize=(8, 5))\n",
        "plt.plot(pivot_df.index, pivot_df[\"Store A\"], marker='o', label=\"Store A\")\n",
        "plt.plot(pivot_df.index, pivot_df[\"Store B\"], marker='o', label=\"Store B\")\n",
        "\n",
        "plt.title(\"Monthly Sales by Store\")\n",
        "plt.xlabel(\"Month\")\n",
        "plt.ylabel(\"Sales\")\n",
        "plt.legend()\n",
        "plt.grid(True, linestyle='--', alpha=0.5)\n",
        "plt.tight_layout()\n",
        "plt.show()\n"
      ],
      "metadata": {
        "colab": {
          "base_uri": "https://localhost:8080/",
          "height": 507
        },
        "id": "nI_0fb4tiZ-k",
        "outputId": "1370e45f-1dfc-4dad-bd5f-fda17da0ce67"
      },
      "execution_count": 8,
      "outputs": [
        {
          "output_type": "display_data",
          "data": {
            "text/plain": [
              "<Figure size 800x500 with 1 Axes>"
            ],
            "image/png": "[encoded data removed]"
          },
          "metadata": {}
        }
      ]
    },
    {
      "cell_type": "code",
      "source": [
        "import matplotlib.pyplot as plt\n",
        "\n",
        "# Group by Store and get total sales\n",
        "store_totals = df.groupby(\"Store\")[\"Sales\"].sum().reset_index()\n",
        "\n",
        "# Plot bar chart\n",
        "plt.figure(figsize=(6, 5))\n",
        "bars = plt.bar(store_totals[\"Store\"], store_totals[\"Sales\"], color=[\"#4CAF50\", \"#2196F3\"])\n",
        "\n",
        "# Add data labels on top of each bar\n",
        "for bar in bars:\n",
        "    height = bar.get_height()\n",
        "    plt.text(bar.get_x() + bar.get_width()/2.0, height, f'{height}', ha='center', va='bottom')\n",
        "\n",
        "plt.title(\"Total Sales per Store\")\n",
        "plt.xlabel(\"Store\")\n",
        "plt.ylabel(\"Total Sales\")\n",
        "plt.tight_layout()\n",
        "plt.grid(True, axis='y', linestyle='--', alpha=0.4)\n",
        "\n",
        "# Save the chart as an image\n",
        "plt.savefig(\"sales_chart.png\")\n",
        "\n",
        "# Show chart\n",
        "plt.show()\n"
      ],
      "metadata": {
        "colab": {
          "base_uri": "https://localhost:8080/",
          "height": 507
        },
        "id": "HXBPa4PTixax",
        "outputId": "4f97a2c2-7480-4af8-db65-357f5e321f66"
      },
      "execution_count": 9,
      "outputs": [
        {
          "output_type": "display_data",
          "data": {
            "text/plain": [
              "<Figure size 600x500 with 1 Axes>"
            ],
            "image/png": "[encoded data removed]"
          },
          "metadata": {}
        }
      ]
    },
    {
      "cell_type": "code",
      "source": [
        "from google.colab import files\n",
        "files.download(\"sales_chart.png\")\n"
      ],
      "metadata": {
        "colab": {
          "base_uri": "https://localhost:8080/",
          "height": 17
        },
        "id": "7BbvX9TCi1CK",
        "outputId": "3e7b5fa2-b67d-45e9-fa82-5dca90b38525"
      },
      "execution_count": 10,
      "outputs": [
        {
          "output_type": "display_data",
          "data": {
            "text/plain": [
              "<IPython.core.display.Javascript object>"
            ],
            "application/javascript": [
              "\n",
              "    async function download(id, filename, size) {\n",
              "      if (!google.colab.kernel.accessAllowed) {\n",
              "        return;\n",
              "      }\n",
              "      const div = document.createElement('div');\n",
              "      const label = document.createElement('label');\n",
              "      label.textContent = `Downloading \"${filename}\": `;\n",
              "      div.appendChild(label);\n",
              "      const progress = document.createElement('progress');\n",
              "      progress.max = size;\n",
              "      div.appendChild(progress);\n",
              "      document.body.appendChild(div);\n",
              "\n",
              "      const buffers = [];\n",
              "      let downloaded = 0;\n",
              "\n",
              "      const channel = await google.colab.kernel.comms.open(id);\n",
              "      // Send a message to notify the kernel that we're ready.\n",
              "      channel.send({})\n",
              "\n",
              "      for await (const message of channel.messages) {\n",
              "        // Send a message to notify the kernel that we're ready.\n",
              "        channel.send({})\n",
              "        if (message.buffers) {\n",
              "          for (const buffer of message.buffers) {\n",
              "            buffers.push(buffer);\n",
              "            downloaded += buffer.byteLength;\n",
              "            progress.value = downloaded;\n",
              "          }\n",
              "        }\n",
              "      }\n",
              "      const blob = new Blob(buffers, {type: 'application/binary'});\n",
              "      const a = document.createElement('a');\n",
              "      a.href = window.URL.createObjectURL(blob);\n",
              "      a.download = filename;\n",
              "      div.appendChild(a);\n",
              "      a.click();\n",
              "      div.remove();\n",
              "    }\n",
              "  "
            ]
          },
          "metadata": {}
        },
        {
          "output_type": "display_data",
          "data": {
            "text/plain": [
              "<IPython.core.display.Javascript object>"
            ],
            "application/javascript": [
              "download(\"download_2de213c6-9f50-4025-bfe8-19c545e28207\", \"sales_chart.png\", 21721)"
            ]
          },
          "metadata": {}
        }
      ]
    },
    {
      "cell_type": "code",
      "source": [
        "import pandas as pd\n",
        "import matplotlib.pyplot as plt\n",
        "\n",
        "# Step 1: Create CSV\n",
        "csv_data = \"\"\"Month,Store,Sales\n",
        "Jan,Store A,12000\n",
        "Jan,Store B,15000\n",
        "Feb,Store A,18000\n",
        "Feb,Store B,17000\n",
        "Mar,Store A,16000\n",
        "Mar,Store B,19000\n",
        "\"\"\"\n",
        "\n",
        "with open('sales_data.csv', 'w') as file:\n",
        "    file.write(csv_data)\n",
        "\n",
        "# Step 2: Read the CSV\n",
        "df = pd.read_csv('sales_data.csv')\n",
        "print(df)\n"
      ],
      "metadata": {
        "colab": {
          "base_uri": "https://localhost:8080/"
        },
        "id": "pJP_e6V2i_vJ",
        "outputId": "995ef879-1ec0-4436-a292-2c1e2a6fbde8"
      },
      "execution_count": 11,
      "outputs": [
        {
          "output_type": "stream",
          "name": "stdout",
          "text": [
            "  Month    Store  Sales\n",
            "0   Jan  Store A  12000\n",
            "1   Jan  Store B  15000\n",
            "2   Feb  Store A  18000\n",
            "3   Feb  Store B  17000\n",
            "4   Mar  Store A  16000\n",
            "5   Mar  Store B  19000\n"
          ]
        }
      ]
    }
  ]
}